{
 "cells": [
  {
   "cell_type": "markdown",
   "metadata": {},
   "source": [
    "# Intrduction to NumPy\n",
    "\n",
    "\n",
    "#### 1. Import NumPy under the name np."
   ]
  },
  {
   "cell_type": "code",
   "execution_count": 1,
   "metadata": {},
   "outputs": [],
   "source": [
    "import numpy as np"
   ]
  },
  {
   "cell_type": "markdown",
   "metadata": {},
   "source": [
    "#### 2. Print your NumPy version."
   ]
  },
  {
   "cell_type": "code",
   "execution_count": 2,
   "metadata": {},
   "outputs": [
    {
     "name": "stdout",
     "output_type": "stream",
     "text": [
      "<module 'numpy.version' from '/opt/anaconda3/lib/python3.9/site-packages/numpy/version.py'>\n"
     ]
    }
   ],
   "source": [
    "print(np.version)"
   ]
  },
  {
   "cell_type": "markdown",
   "metadata": {},
   "source": [
    "#### 3. Generate a 2x3x5 3-dimensional array with random values. Assign the array to variable *a*.\n",
    "**Challenge**: there are at least three easy ways that use numpy to generate random arrays. How many ways can you find?"
   ]
  },
  {
   "cell_type": "code",
   "execution_count": 3,
   "metadata": {},
   "outputs": [
    {
     "name": "stdout",
     "output_type": "stream",
     "text": [
      "[[[0.61408864 0.86937228 0.56614995 0.21842907 0.79154651]\n",
      "  [0.89158056 0.1797661  0.37146942 0.55763867 0.70923605]\n",
      "  [0.61984573 0.91726732 0.23330714 0.03224908 0.76605766]]\n",
      "\n",
      " [[0.84818086 0.00241795 0.55702543 0.78190368 0.17947732]\n",
      "  [0.53414837 0.25087729 0.0621469  0.48184031 0.60687329]\n",
      "  [0.20961441 0.1045267  0.49191315 0.78920037 0.2182889 ]]]\n"
     ]
    }
   ],
   "source": [
    "a = np.random.random((2,3,5))\n",
    "print(a)"
   ]
  },
  {
   "cell_type": "code",
   "execution_count": 4,
   "metadata": {},
   "outputs": [
    {
     "data": {
      "text/plain": [
       "array([[[0.26540367, 0.34436818, 0.16262488, 0.46221046, 0.8275459 ],\n",
       "        [0.34623439, 0.74221869, 0.83572082, 0.59228075, 0.520852  ],\n",
       "        [0.57711723, 0.73415228, 0.05097783, 0.17406118, 0.1958886 ]],\n",
       "\n",
       "       [[0.78917381, 0.55440984, 0.63476761, 0.63526727, 0.37256239],\n",
       "        [0.89887091, 0.74229111, 0.50838178, 0.75213062, 0.86599198],\n",
       "        [0.24985374, 0.86721931, 0.76615214, 0.49919803, 0.51479592]]])"
      ]
     },
     "execution_count": 4,
     "metadata": {},
     "output_type": "execute_result"
    }
   ],
   "source": [
    "ab = np.random.default_rng()\n",
    "a = ab.random((2, 3, 5))\n",
    "a"
   ]
  },
  {
   "cell_type": "code",
   "execution_count": 5,
   "metadata": {},
   "outputs": [
    {
     "ename": "ValueError",
     "evalue": "cannot reshape array of size 9 into shape (2,3,5)",
     "output_type": "error",
     "traceback": [
      "\u001b[0;31m---------------------------------------------------------------------------\u001b[0m",
      "\u001b[0;31mValueError\u001b[0m                                Traceback (most recent call last)",
      "\u001b[0;32m/var/folders/xp/ty2z29x15611_3wqlcw9vtx00000gn/T/ipykernel_8047/2710056695.py\u001b[0m in \u001b[0;36m<module>\u001b[0;34m\u001b[0m\n\u001b[0;32m----> 1\u001b[0;31m \u001b[0mb\u001b[0m \u001b[0;34m=\u001b[0m \u001b[0mnp\u001b[0m\u001b[0;34m.\u001b[0m\u001b[0marange\u001b[0m\u001b[0;34m(\u001b[0m\u001b[0;36m9\u001b[0m\u001b[0;34m)\u001b[0m\u001b[0;34m.\u001b[0m\u001b[0mreshape\u001b[0m\u001b[0;34m(\u001b[0m\u001b[0;36m2\u001b[0m\u001b[0;34m,\u001b[0m \u001b[0;36m3\u001b[0m\u001b[0;34m,\u001b[0m \u001b[0;36m5\u001b[0m\u001b[0;34m)\u001b[0m\u001b[0;34m\u001b[0m\u001b[0;34m\u001b[0m\u001b[0m\n\u001b[0m\u001b[1;32m      2\u001b[0m \u001b[0mnp\u001b[0m\u001b[0;34m.\u001b[0m\u001b[0mrandom\u001b[0m\u001b[0;34m.\u001b[0m\u001b[0mshuffle\u001b[0m\u001b[0;34m(\u001b[0m\u001b[0mb\u001b[0m\u001b[0;34m)\u001b[0m\u001b[0;34m\u001b[0m\u001b[0;34m\u001b[0m\u001b[0m\n\u001b[1;32m      3\u001b[0m \u001b[0mb\u001b[0m\u001b[0;34m\u001b[0m\u001b[0;34m\u001b[0m\u001b[0m\n",
      "\u001b[0;31mValueError\u001b[0m: cannot reshape array of size 9 into shape (2,3,5)"
     ]
    }
   ],
   "source": [
    "b = np.arange(9).reshape(2, 3, 5)\n",
    "np.random.shuffle(b)\n",
    "b"
   ]
  },
  {
   "cell_type": "markdown",
   "metadata": {},
   "source": [
    "#### 4. Print *a*.\n"
   ]
  },
  {
   "cell_type": "code",
   "execution_count": 6,
   "metadata": {},
   "outputs": [
    {
     "name": "stdout",
     "output_type": "stream",
     "text": [
      "[[[0.10292737 0.50667598 0.95636483 0.24703319 0.24593356]\n",
      "  [0.85024333 0.75590946 0.88687409 0.00212735 0.37796761]\n",
      "  [0.93704952 0.821205   0.36187285 0.61018208 0.88928609]]\n",
      "\n",
      " [[0.78274697 0.49980543 0.46713574 0.65658331 0.23216779]\n",
      "  [0.30607628 0.35330948 0.89600068 0.85531267 0.75306168]\n",
      "  [0.82295228 0.54261786 0.94744549 0.41652255 0.52849999]]]\n"
     ]
    }
   ],
   "source": [
    "a = np.random.random((2,3,5))\n",
    "print(a)"
   ]
  },
  {
   "cell_type": "markdown",
   "metadata": {},
   "source": [
    "#### 5. Create a 5x2x3 3-dimensional array with all values equaling 1. Assign the array to variable *b*."
   ]
  },
  {
   "cell_type": "code",
   "execution_count": 24,
   "metadata": {},
   "outputs": [],
   "source": [
    "b = np.ones((5,2,3))"
   ]
  },
  {
   "cell_type": "markdown",
   "metadata": {},
   "source": [
    "#### 6. Print *b*.\n"
   ]
  },
  {
   "cell_type": "code",
   "execution_count": 28,
   "metadata": {},
   "outputs": [
    {
     "name": "stdout",
     "output_type": "stream",
     "text": [
      "[[[1. 1. 1.]\n",
      "  [1. 1. 1.]]\n",
      "\n",
      " [[1. 1. 1.]\n",
      "  [1. 1. 1.]]\n",
      "\n",
      " [[1. 1. 1.]\n",
      "  [1. 1. 1.]]\n",
      "\n",
      " [[1. 1. 1.]\n",
      "  [1. 1. 1.]]\n",
      "\n",
      " [[1. 1. 1.]\n",
      "  [1. 1. 1.]]]\n"
     ]
    }
   ],
   "source": [
    "print(b)"
   ]
  },
  {
   "cell_type": "markdown",
   "metadata": {},
   "source": [
    "#### 7. Do *a* and *b* have the same size? How do you prove that in Python code?"
   ]
  },
  {
   "cell_type": "code",
   "execution_count": 27,
   "metadata": {},
   "outputs": [
    {
     "name": "stdout",
     "output_type": "stream",
     "text": [
      "30\n",
      "30\n"
     ]
    }
   ],
   "source": [
    "print(a.size)\n",
    "print(b.size)\n",
    "\n",
    "#They do have the same size"
   ]
  },
  {
   "cell_type": "code",
   "execution_count": 29,
   "metadata": {},
   "outputs": [
    {
     "name": "stdout",
     "output_type": "stream",
     "text": [
      "(2, 3, 5)\n",
      "(5, 2, 3)\n"
     ]
    }
   ],
   "source": [
    "print(a.shape)\n",
    "print(b.shape)"
   ]
  },
  {
   "cell_type": "markdown",
   "metadata": {},
   "source": [
    "#### 8. Are you able to add *a* and *b*? Why or why not?\n"
   ]
  },
  {
   "cell_type": "code",
   "execution_count": 33,
   "metadata": {},
   "outputs": [
    {
     "ename": "ValueError",
     "evalue": "operands could not be broadcast together with shapes (2,3,5) (5,2,3) ",
     "output_type": "error",
     "traceback": [
      "\u001b[0;31m---------------------------------------------------------------------------\u001b[0m",
      "\u001b[0;31mValueError\u001b[0m                                Traceback (most recent call last)",
      "\u001b[0;32m/var/folders/xp/ty2z29x15611_3wqlcw9vtx00000gn/T/ipykernel_8047/116260056.py\u001b[0m in \u001b[0;36m<module>\u001b[0;34m\u001b[0m\n\u001b[0;32m----> 1\u001b[0;31m \u001b[0mnp\u001b[0m\u001b[0;34m.\u001b[0m\u001b[0madd\u001b[0m\u001b[0;34m(\u001b[0m\u001b[0ma\u001b[0m\u001b[0;34m,\u001b[0m\u001b[0mb\u001b[0m\u001b[0;34m)\u001b[0m\u001b[0;34m\u001b[0m\u001b[0;34m\u001b[0m\u001b[0m\n\u001b[0m",
      "\u001b[0;31mValueError\u001b[0m: operands could not be broadcast together with shapes (2,3,5) (5,2,3) "
     ]
    }
   ],
   "source": [
    "np.add(a,b)\n",
    "\n",
    "\"\"\"\n",
    "I couldn't add them because they do not have the same shape.\n",
    "\"\"\""
   ]
  },
  {
   "cell_type": "markdown",
   "metadata": {},
   "source": [
    "#### 9. Transpose *b* so that it has the same structure of *a* (i.e. become a 2x3x5 array). Assign the transposed array to variable *c*."
   ]
  },
  {
   "cell_type": "code",
   "execution_count": 31,
   "metadata": {},
   "outputs": [],
   "source": [
    "c = b.reshape((2,3,5))"
   ]
  },
  {
   "cell_type": "markdown",
   "metadata": {},
   "source": [
    "#### 10. Try to add *a* and *c*. Now it should work. Assign the sum to variable *d*. But why does it work now?"
   ]
  },
  {
   "cell_type": "code",
   "execution_count": 32,
   "metadata": {},
   "outputs": [
    {
     "data": {
      "text/plain": [
       "array([[[1.10292737, 1.50667598, 1.95636483, 1.24703319, 1.24593356],\n",
       "        [1.85024333, 1.75590946, 1.88687409, 1.00212735, 1.37796761],\n",
       "        [1.93704952, 1.821205  , 1.36187285, 1.61018208, 1.88928609]],\n",
       "\n",
       "       [[1.78274697, 1.49980543, 1.46713574, 1.65658331, 1.23216779],\n",
       "        [1.30607628, 1.35330948, 1.89600068, 1.85531267, 1.75306168],\n",
       "        [1.82295228, 1.54261786, 1.94744549, 1.41652255, 1.52849999]]])"
      ]
     },
     "execution_count": 32,
     "metadata": {},
     "output_type": "execute_result"
    }
   ],
   "source": [
    "np.add(a,c)"
   ]
  },
  {
   "cell_type": "code",
   "execution_count": 37,
   "metadata": {},
   "outputs": [],
   "source": [
    "d = np.add(a,c)"
   ]
  },
  {
   "cell_type": "markdown",
   "metadata": {},
   "source": [
    "#### 11. Print *a* and *d*. Notice the difference and relation of the two array in terms of the values? Explain."
   ]
  },
  {
   "cell_type": "code",
   "execution_count": 35,
   "metadata": {},
   "outputs": [
    {
     "name": "stdout",
     "output_type": "stream",
     "text": [
      "[[[0.10292737 0.50667598 0.95636483 0.24703319 0.24593356]\n",
      "  [0.85024333 0.75590946 0.88687409 0.00212735 0.37796761]\n",
      "  [0.93704952 0.821205   0.36187285 0.61018208 0.88928609]]\n",
      "\n",
      " [[0.78274697 0.49980543 0.46713574 0.65658331 0.23216779]\n",
      "  [0.30607628 0.35330948 0.89600068 0.85531267 0.75306168]\n",
      "  [0.82295228 0.54261786 0.94744549 0.41652255 0.52849999]]]\n"
     ]
    }
   ],
   "source": [
    "print (a)"
   ]
  },
  {
   "cell_type": "code",
   "execution_count": 38,
   "metadata": {},
   "outputs": [
    {
     "name": "stdout",
     "output_type": "stream",
     "text": [
      "[[[1.10292737 1.50667598 1.95636483 1.24703319 1.24593356]\n",
      "  [1.85024333 1.75590946 1.88687409 1.00212735 1.37796761]\n",
      "  [1.93704952 1.821205   1.36187285 1.61018208 1.88928609]]\n",
      "\n",
      " [[1.78274697 1.49980543 1.46713574 1.65658331 1.23216779]\n",
      "  [1.30607628 1.35330948 1.89600068 1.85531267 1.75306168]\n",
      "  [1.82295228 1.54261786 1.94744549 1.41652255 1.52849999]]]\n"
     ]
    }
   ],
   "source": [
    "print (d)"
   ]
  },
  {
   "cell_type": "code",
   "execution_count": null,
   "metadata": {},
   "outputs": [],
   "source": [
    "\"\"\"\n",
    "Every value in a has been added to every value in c.\n",
    "\"\"\""
   ]
  },
  {
   "cell_type": "markdown",
   "metadata": {},
   "source": [
    "#### 12. Multiply *a* and *c*. Assign the result to *e*."
   ]
  },
  {
   "cell_type": "code",
   "execution_count": 64,
   "metadata": {},
   "outputs": [],
   "source": [
    "e = np.multiply(a,c) "
   ]
  },
  {
   "cell_type": "code",
   "execution_count": 65,
   "metadata": {},
   "outputs": [
    {
     "name": "stdout",
     "output_type": "stream",
     "text": [
      "[[[1.05940442e-02 2.56720552e-01 9.14633680e-01 6.10253960e-02\n",
      "   6.04833168e-02]\n",
      "  [7.22913727e-01 5.71399105e-01 7.86545643e-01 4.52562167e-06\n",
      "   1.42859516e-01]\n",
      "  [8.78061798e-01 6.74377655e-01 1.30951962e-01 3.72322169e-01\n",
      "   7.90829748e-01]]\n",
      "\n",
      " [[6.12692815e-01 2.49805473e-01 2.18215804e-01 4.31101640e-01\n",
      "   5.39018828e-02]\n",
      "  [9.36826871e-02 1.24827590e-01 8.02817211e-01 7.31559766e-01\n",
      "   5.67101887e-01]\n",
      "  [6.77250460e-01 2.94434137e-01 8.97652948e-01 1.73491036e-01\n",
      "   2.79312240e-01]]]\n"
     ]
    }
   ],
   "source": [
    "print(e)"
   ]
  },
  {
   "cell_type": "markdown",
   "metadata": {},
   "source": [
    "#### 13. Does *e* equal to *a*? Why or why not?\n"
   ]
  },
  {
   "cell_type": "code",
   "execution_count": null,
   "metadata": {},
   "outputs": [],
   "source": [
    "\"\"\"\n",
    "Yes, because every value of a has been multiplied by 1.\n",
    "\"\"\""
   ]
  },
  {
   "cell_type": "markdown",
   "metadata": {},
   "source": [
    "#### 14. Identify the max, min, and mean values in *d*. Assign those values to variables *d_max*, *d_min* and *d_mean*."
   ]
  },
  {
   "cell_type": "code",
   "execution_count": 66,
   "metadata": {},
   "outputs": [],
   "source": [
    "d_max = np.max(d)\n",
    "d_min = np.min(d)\n",
    "d_mean = np.mean(d)"
   ]
  },
  {
   "cell_type": "markdown",
   "metadata": {},
   "source": [
    "#### 15. Now we want to label the values in *d*. First create an empty array *f* with the same shape (i.e. 2x3x5) as *d* using `np.empty`.\n"
   ]
  },
  {
   "cell_type": "code",
   "execution_count": 67,
   "metadata": {},
   "outputs": [
    {
     "name": "stdout",
     "output_type": "stream",
     "text": [
      "[[[1.05940442e-02 2.56720552e-01 9.14633680e-01 6.10253960e-02\n",
      "   6.04833168e-02]\n",
      "  [7.22913727e-01 5.71399105e-01 7.86545643e-01 4.52562167e-06\n",
      "   1.42859516e-01]\n",
      "  [8.78061798e-01 6.74377655e-01 1.30951962e-01 3.72322169e-01\n",
      "   7.90829748e-01]]\n",
      "\n",
      " [[6.12692815e-01 2.49805473e-01 2.18215804e-01 4.31101640e-01\n",
      "   5.39018828e-02]\n",
      "  [9.36826871e-02 1.24827590e-01 8.02817211e-01 7.31559766e-01\n",
      "   5.67101887e-01]\n",
      "  [6.77250460e-01 2.94434137e-01 8.97652948e-01 1.73491036e-01\n",
      "   2.79312240e-01]]]\n"
     ]
    }
   ],
   "source": [
    "f=np.empty([2,3,5])\n",
    "print(f)"
   ]
  },
  {
   "cell_type": "markdown",
   "metadata": {},
   "source": [
    "#### 16. Populate the values in *f*. \n",
    "\n",
    "For each value in *d*, if it's larger than *d_min* but smaller than *d_mean*, assign 25 to the corresponding value in *f*. If a value in *d* is larger than *d_mean* but smaller than *d_max*, assign 75 to the corresponding value in *f*. If a value equals to *d_mean*, assign 50 to the corresponding value in *f*. Assign 0 to the corresponding value(s) in *f* for *d_min* in *d*. Assign 100 to the corresponding value(s) in *f* for *d_max* in *d*. In the end, f should have only the following values: 0, 25, 50, 75, and 100.\n",
    "\n",
    "**Note**: you don't have to use Numpy in this question."
   ]
  },
  {
   "cell_type": "code",
   "execution_count": 68,
   "metadata": {},
   "outputs": [
    {
     "data": {
      "text/plain": [
       "array([[[0.10292737, 0.50667598, 0.95636483, 0.24703319, 0.24593356],\n",
       "        [0.85024333, 0.75590946, 0.88687409, 0.00212735, 0.37796761],\n",
       "        [0.93704952, 0.821205  , 0.36187285, 0.61018208, 0.88928609]],\n",
       "\n",
       "       [[0.78274697, 0.49980543, 0.46713574, 0.65658331, 0.23216779],\n",
       "        [0.30607628, 0.35330948, 0.89600068, 0.85531267, 0.75306168],\n",
       "        [0.82295228, 0.54261786, 0.94744549, 0.41652255, 0.52849999]]])"
      ]
     },
     "execution_count": 68,
     "metadata": {},
     "output_type": "execute_result"
    }
   ],
   "source": [
    "f = np.array((d))\n",
    "f"
   ]
  },
  {
   "cell_type": "code",
   "execution_count": 69,
   "metadata": {},
   "outputs": [
    {
     "name": "stdout",
     "output_type": "stream",
     "text": [
      "[[[ 25.  25. 100.  25.  25.]\n",
      "  [ 75.  75.  75.   0.  25.]\n",
      "  [ 75.  75.  25.  75.  75.]]\n",
      "\n",
      " [[ 75.  25.  25.  75.  25.]\n",
      "  [ 25.  25.  75.  75.  75.]\n",
      "  [ 75.  25.  75.  25.  25.]]]\n"
     ]
    }
   ],
   "source": [
    "a=np.where((f>d_min)&(f<d_mean),25,f)\n",
    "b=np.where((f>d_mean)&(f<d_max),75,a)\n",
    "c=np.where((f==d_mean),50,b)\n",
    "d=np.where((f==d_min),0,c)\n",
    "e=np.where((f==d_max),100,d)\n",
    "print(e)"
   ]
  },
  {
   "cell_type": "code",
   "execution_count": null,
   "metadata": {},
   "outputs": [],
   "source": []
  },
  {
   "cell_type": "code",
   "execution_count": null,
   "metadata": {},
   "outputs": [],
   "source": []
  },
  {
   "cell_type": "markdown",
   "metadata": {},
   "source": [
    "#### 17. Print *d* and *f*. Do you have your expected *f*?\n",
    "For instance, if your *d* is:\n",
    "```python\n",
    "[[[1.85836099, 1.67064465, 1.62576044, 1.40243961, 1.88454931],\n",
    "[1.75354326, 1.69403643, 1.36729252, 1.61415071, 1.12104981],\n",
    "[1.72201435, 1.1862918 , 1.87078449, 1.7726778 , 1.88180042]],\n",
    "[[1.44747908, 1.31673383, 1.02000951, 1.52218947, 1.97066381],\n",
    "[1.79129243, 1.74983003, 1.96028037, 1.85166831, 1.65450881],\n",
    "[1.18068344, 1.9587381 , 1.00656599, 1.93402165, 1.73514584]]]\n",
    "```\n",
    "Your *f* should be:\n",
    "```python\n",
    "[[[ 75.,  75.,  75.,  25.,  75.],\n",
    "[ 75.,  75.,  25.,  25.,  25.],\n",
    "[ 75.,  25.,  75.,  75.,  75.]],\n",
    "[[ 25.,  25.,  25.,  25., 100.],\n",
    "[ 75.,  75.,  75.,  75.,  75.],\n",
    "[ 25.,  75.,   0.,  75.,  75.]]]\n",
    "```"
   ]
  },
  {
   "cell_type": "code",
   "execution_count": 70,
   "metadata": {},
   "outputs": [
    {
     "name": "stdout",
     "output_type": "stream",
     "text": [
      "[[[25.         25.          0.95636483 25.         25.        ]\n",
      "  [75.         75.         75.          0.         25.        ]\n",
      "  [75.         75.         25.         75.         75.        ]]\n",
      "\n",
      " [[75.         25.         25.         75.         25.        ]\n",
      "  [25.         25.         75.         75.         75.        ]\n",
      "  [75.         25.         75.         25.         25.        ]]]\n"
     ]
    }
   ],
   "source": [
    "print(d)"
   ]
  },
  {
   "cell_type": "code",
   "execution_count": 71,
   "metadata": {},
   "outputs": [
    {
     "name": "stdout",
     "output_type": "stream",
     "text": [
      "[[[0.10292737 0.50667598 0.95636483 0.24703319 0.24593356]\n",
      "  [0.85024333 0.75590946 0.88687409 0.00212735 0.37796761]\n",
      "  [0.93704952 0.821205   0.36187285 0.61018208 0.88928609]]\n",
      "\n",
      " [[0.78274697 0.49980543 0.46713574 0.65658331 0.23216779]\n",
      "  [0.30607628 0.35330948 0.89600068 0.85531267 0.75306168]\n",
      "  [0.82295228 0.54261786 0.94744549 0.41652255 0.52849999]]]\n"
     ]
    }
   ],
   "source": [
    "print(f)"
   ]
  },
  {
   "cell_type": "markdown",
   "metadata": {},
   "source": [
    "#### 18. Bonus question: instead of using numbers (i.e. 0, 25, 50, 75, and 100), use string values  (\"A\", \"B\", \"C\", \"D\", and \"E\") to label the array elements. For the example above, the expected result is:\n",
    "\n",
    "```python\n",
    "[[[ 'D',  'D',  'D',  'B',  'D'],\n",
    "[ 'D',  'D',  'B',  'B',  'B'],\n",
    "[ 'D',  'B',  'D',  'D',  'D']],\n",
    "[[ 'B',  'B',  'B',  'B',  'E'],\n",
    "[ 'D',  'D',  'D',  'D',  'D'],\n",
    "[ 'B',  'D',   'A',  'D', 'D']]]\n",
    "```\n",
    "**Note**: you don't have to use Numpy in this question."
   ]
  },
  {
   "cell_type": "code",
   "execution_count": 72,
   "metadata": {},
   "outputs": [
    {
     "name": "stdout",
     "output_type": "stream",
     "text": [
      "[[['25.0' '25.0' 'E' '25.0' '25.0']\n",
      "  ['75.0' '75.0' '75.0' '0.0' '25.0']\n",
      "  ['75.0' '75.0' '25.0' '75.0' '75.0']]\n",
      "\n",
      " [['75.0' '25.0' '25.0' '75.0' '25.0']\n",
      "  ['25.0' '25.0' '75.0' '75.0' '75.0']\n",
      "  ['75.0' '25.0' '75.0' '25.0' '25.0']]]\n"
     ]
    }
   ],
   "source": [
    "i=np.where((d>d_min)&(d<d_mean),\"A\",d)\n",
    "j=np.where((d>d_mean)&(d<d_max),\"B\",i)\n",
    "k=np.where((d==d_mean),\"C\",j)\n",
    "l=np.where((d==d_min),\"D\",k)\n",
    "m=np.where((d==d_max),\"E\",l)\n",
    "print(m)"
   ]
  },
  {
   "cell_type": "code",
   "execution_count": null,
   "metadata": {},
   "outputs": [],
   "source": []
  }
 ],
 "metadata": {
  "kernelspec": {
   "display_name": "Python 3 (ipykernel)",
   "language": "python",
   "name": "python3"
  },
  "language_info": {
   "codemirror_mode": {
    "name": "ipython",
    "version": 3
   },
   "file_extension": ".py",
   "mimetype": "text/x-python",
   "name": "python",
   "nbconvert_exporter": "python",
   "pygments_lexer": "ipython3",
   "version": "3.9.12"
  }
 },
 "nbformat": 4,
 "nbformat_minor": 2
}
