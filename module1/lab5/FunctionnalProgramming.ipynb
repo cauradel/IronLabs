{
 "cells": [
  {
   "cell_type": "code",
   "execution_count": 5,
   "id": "c2f4ecdf",
   "metadata": {},
   "outputs": [
    {
     "data": {
      "text/plain": [
       "17"
      ]
     },
     "execution_count": 5,
     "metadata": {},
     "output_type": "execute_result"
    }
   ],
   "source": [
    "#Counting sheeps\n",
    "\n",
    "sheeps =[True,  True,  True,  False,\n",
    "  True,  True,  True,  True ,\n",
    "  True,  False, True,  False,\n",
    "  True,  False, False, True ,\n",
    "  True,  True,  True,  True ,\n",
    "  False, False, True,  True]\n",
    "\n",
    "def count_sheeps(sheeps):\n",
    "    return sheeps.count(True)\n",
    "\n",
    "count_sheeps(sheeps)"
   ]
  },
  {
   "cell_type": "code",
   "execution_count": 20,
   "id": "780f457e",
   "metadata": {},
   "outputs": [
    {
     "data": {
      "text/plain": [
       "['Keep', 'Keep', 'Keep']"
      ]
     },
     "execution_count": 20,
     "metadata": {},
     "output_type": "execute_result"
    }
   ],
   "source": [
    "#RemovingElements\n",
    "\n",
    "my_list = [\"Keep\", \"Remove\", \"Keep\", \"Remove\", \"Keep\", \"Remove\"]\n",
    "\n",
    "def remove_every_other(my_list):\n",
    "    return my_list[::2]\n",
    "        \n",
    "remove_every_other(my_list)"
   ]
  },
  {
   "cell_type": "code",
   "execution_count": 20,
   "id": "0b0f3d36",
   "metadata": {},
   "outputs": [
    {
     "name": "stdout",
     "output_type": "stream",
     "text": [
      "[3, 2, 1]\n"
     ]
    }
   ],
   "source": [
    "#Reversing a number\n",
    "\n",
    "def digitize(n):\n",
    "    empty = []\n",
    "    if type(n) != str:\n",
    "        n=str(n)\n",
    "    for i in n:\n",
    "        empty.append(int(i))\n",
    "    empty.reverse()\n",
    "    return empty\n",
    "\n",
    "print(digitize(123))"
   ]
  },
  {
   "cell_type": "code",
   "execution_count": null,
   "id": "7132547b",
   "metadata": {},
   "outputs": [],
   "source": []
  },
  {
   "cell_type": "code",
   "execution_count": null,
   "id": "7cbc39d1",
   "metadata": {},
   "outputs": [],
   "source": [
    "\n"
   ]
  },
  {
   "cell_type": "code",
   "execution_count": 63,
   "id": "06d90c17",
   "metadata": {},
   "outputs": [
    {
     "data": {
      "text/plain": [
       "8181"
      ]
     },
     "execution_count": 63,
     "metadata": {},
     "output_type": "execute_result"
    }
   ],
   "source": [
    "def square_digits(num):\n",
    "    output = \"\"\n",
    "    for i in str(num):\n",
    "        output += str(int(i) ** 2)\n",
    "    return int(output)\n",
    "\n",
    "\n",
    "square_digits(99)"
   ]
  },
  {
   "cell_type": "code",
   "execution_count": null,
   "id": "53b6ed9b",
   "metadata": {},
   "outputs": [],
   "source": [
    "class List(object):\n",
    "    def count_spec_digits(self, integers_list, digits_list):\n",
    "        "
   ]
  }
 ],
 "metadata": {
  "kernelspec": {
   "display_name": "Python 3 (ipykernel)",
   "language": "python",
   "name": "python3"
  },
  "language_info": {
   "codemirror_mode": {
    "name": "ipython",
    "version": 3
   },
   "file_extension": ".py",
   "mimetype": "text/x-python",
   "name": "python",
   "nbconvert_exporter": "python",
   "pygments_lexer": "ipython3",
   "version": "3.9.12"
  }
 },
 "nbformat": 4,
 "nbformat_minor": 5
}
