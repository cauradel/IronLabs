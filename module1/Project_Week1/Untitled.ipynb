{
 "cells": [
  {
   "cell_type": "code",
   "execution_count": null,
   "id": "af9067a3",
   "metadata": {},
   "outputs": [
    {
     "name": "stdout",
     "output_type": "stream",
     "text": [
      ">> Welcome to The Hangman! Ready? <<\n",
      "Word to guess :  _ _ _ _ _ _ _ _ \n",
      "Enter a letter: b\n",
      "No :(  Number of attempts left:  6\n",
      "==============\n",
      "\n",
      "Word to guess :  _ _ _ _ _ _ _ _ \n",
      "Enter a letter: e\n",
      "No :(  Number of attempts left:  5\n",
      "/||           \n",
      "==============\n",
      "\n",
      "Word to guess :  _ _ _ _ _ _ _ _ \n"
     ]
    }
   ],
   "source": [
    "import random\n",
    "choices = [\"apple\", \"banana\", \"strawberry\", \"pear\",\"ironhack\"]\n",
    "\n",
    "word = random.choice(choices)\n",
    "attempts = 7\n",
    "display = \"\"\n",
    "guess = \"\"\n",
    "\n",
    "for l in word:\n",
    "    display = display + \"_ \"\n",
    "    \n",
    "print(\">> Welcome to The Hangman! Ready? <<\")\n",
    "\n",
    "while attempts > 0:\n",
    "    print(\"Word to guess : \", display)\n",
    "    proposition = input(\"Enter a letter: \")\n",
    "    \n",
    "    if proposition in word:\n",
    "        guess = guess + proposition\n",
    "        print(\"Well done!\")\n",
    "    else:\n",
    "        attempts = attempts -1\n",
    "        print(\"No :(  Number of attempts left: \", attempts)\n",
    "    if attempts==0:\n",
    "        print(\" ==========Y= \")\n",
    "        print(\"You lost..Try again?\")\n",
    "    if attempts<=1:\n",
    "        print(\" ||/       |  \")\n",
    "    if attempts<=2:\n",
    "        print(\" ||        0  \")\n",
    "    if attempts<=3:\n",
    "        print(\" ||       /|\\ \")\n",
    "    if attempts<=4:\n",
    "        print(\" ||       / \\  \")\n",
    "    if attempts<=5:                    \n",
    "        print(\"/||           \")\n",
    "    if attempts<=6:\n",
    "        print(\"==============\\n\")\n",
    "        \n",
    "        \n",
    "    display = \"\"\n",
    "    for x in word:\n",
    "        if x in guess:\n",
    "            display += x + \" \"\n",
    "        else:\n",
    "            display += \"_ \"\n",
    "            \n",
    "    if \"_\" not in display:\n",
    "        print(\"YOU WON\")\n",
    "        break"
   ]
  },
  {
   "cell_type": "code",
   "execution_count": null,
   "id": "e6ba402a",
   "metadata": {},
   "outputs": [],
   "source": []
  }
 ],
 "metadata": {
  "kernelspec": {
   "display_name": "Python 3 (ipykernel)",
   "language": "python",
   "name": "python3"
  },
  "language_info": {
   "codemirror_mode": {
    "name": "ipython",
    "version": 3
   },
   "file_extension": ".py",
   "mimetype": "text/x-python",
   "name": "python",
   "nbconvert_exporter": "python",
   "pygments_lexer": "ipython3",
   "version": "3.9.12"
  }
 },
 "nbformat": 4,
 "nbformat_minor": 5
}
