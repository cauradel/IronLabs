{
 "cells": [
  {
   "cell_type": "code",
   "execution_count": null,
   "id": "2531dc56",
   "metadata": {},
   "outputs": [
    {
     "name": "stdout",
     "output_type": "stream",
     "text": [
      ">> Welcome to The Hangman! Ready? <<\n",
      "Word to guess :  _ _ _ _ _ _ \n",
      "Enter a letter: a\n",
      "Well done!\n",
      "Word to guess :  _ a _ a _ a \n"
     ]
    }
   ],
   "source": [
    "word = \"banana\"\n",
    "attempts = 7\n",
    "display = \"\"\n",
    "guess = \"\"\n",
    "\n",
    "for l in word:\n",
    "    display = display + \"_ \"\n",
    "    \n",
    "print(\">> Welcome to The Hangman! Ready? <<\")\n",
    "\n",
    "while attempts > 0:\n",
    "    print(\"Word to guess : \", display)\n",
    "    proposition = input(\"Enter a letter: \")\n",
    "    \n",
    "    if proposition in word:\n",
    "        guess = guess + proposition\n",
    "        print(\"Well done!\")\n",
    "    else:\n",
    "        attempts = attempts -1\n",
    "        print(\"No :(\")\n",
    "    if attempts==0:\n",
    "        print(\" ==========Y= \")\n",
    "        print(\"You lost..Try again?\")\n",
    "    if attempts<=1:\n",
    "        print(\" ||/       |  \")\n",
    "    if attempts<=2:\n",
    "        print(\" ||        0  \")\n",
    "    if attempts<=3:\n",
    "        print(\" ||       /|\\ \")\n",
    "    if attempts<=4:\n",
    "        print(\" ||       /|  \")\n",
    "    if attempts<=5:                    \n",
    "        print(\"/||           \")\n",
    "    if attempts<=6:\n",
    "        print(\"==============\\n\")\n",
    "        \n",
    "    display = \"\"\n",
    "    for x in word:\n",
    "        if x in guess:\n",
    "            display += x + \" \"\n",
    "        else:\n",
    "            display += \"_ \"\n",
    "            \n",
    "    if \"_\" not in display:\n",
    "        print(\"YOU WON\")\n",
    "        break\n",
    "    "
   ]
  },
  {
   "cell_type": "code",
   "execution_count": null,
   "id": "dde82d69",
   "metadata": {},
   "outputs": [],
   "source": []
  },
  {
   "cell_type": "code",
   "execution_count": null,
   "id": "884f37cf",
   "metadata": {},
   "outputs": [],
   "source": []
  },
  {
   "cell_type": "code",
   "execution_count": null,
   "id": "6d0cd1ae",
   "metadata": {},
   "outputs": [],
   "source": []
  }
 ],
 "metadata": {
  "kernelspec": {
   "display_name": "Python 3 (ipykernel)",
   "language": "python",
   "name": "python3"
  },
  "language_info": {
   "codemirror_mode": {
    "name": "ipython",
    "version": 3
   },
   "file_extension": ".py",
   "mimetype": "text/x-python",
   "name": "python",
   "nbconvert_exporter": "python",
   "pygments_lexer": "ipython3",
   "version": "3.9.12"
  }
 },
 "nbformat": 4,
 "nbformat_minor": 5
}
