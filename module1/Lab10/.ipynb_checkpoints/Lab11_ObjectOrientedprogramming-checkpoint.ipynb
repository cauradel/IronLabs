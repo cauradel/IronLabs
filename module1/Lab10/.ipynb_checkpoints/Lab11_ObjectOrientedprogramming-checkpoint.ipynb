{
 "cells": [
  {
   "cell_type": "code",
   "execution_count": 14,
   "id": "35c7e88a",
   "metadata": {},
   "outputs": [
    {
     "data": {
      "text/plain": [
       "[2, 2, 4]"
      ]
     },
     "execution_count": 14,
     "metadata": {},
     "output_type": "execute_result"
    }
   ],
   "source": [
    "#Removing values contained in a second array\n",
    "\n",
    "list1 = [1, 1, 2 ,3 ,1 ,2 ,3 ,4]\n",
    "list2 = [1, 3]\n",
    "\n",
    "list3 = [i for i in list1 if i not in list2]\n",
    "list3\n"
   ]
  },
  {
   "cell_type": "code",
   "execution_count": 19,
   "id": "62b3d4af",
   "metadata": {},
   "outputs": [
    {
     "data": {
      "text/plain": [
       "[('h', 1), ('e', 1), ('l', 2), ('o', 1)]"
      ]
     },
     "execution_count": 19,
     "metadata": {},
     "output_type": "execute_result"
    }
   ],
   "source": [
    "#Ordered Count Of Characters\n",
    "\n",
    "ordered_count = 'hello'\n",
    "\n",
    "def count_char(ordered_count):\n",
    "    dict1 = {}\n",
    "    for i in ordered_count:\n",
    "        dict1[i] = ordered_count.count(i)\n",
    "    return [(key, value) for key, value in dict1.items()]\n",
    "\n",
    "count_char(ordered_count)"
   ]
  },
  {
   "cell_type": "code",
   "execution_count": null,
   "id": "96183fdc",
   "metadata": {},
   "outputs": [],
   "source": []
  }
 ],
 "metadata": {
  "kernelspec": {
   "display_name": "Python 3 (ipykernel)",
   "language": "python",
   "name": "python3"
  },
  "language_info": {
   "codemirror_mode": {
    "name": "ipython",
    "version": 3
   },
   "file_extension": ".py",
   "mimetype": "text/x-python",
   "name": "python",
   "nbconvert_exporter": "python",
   "pygments_lexer": "ipython3",
   "version": "3.9.12"
  }
 },
 "nbformat": 4,
 "nbformat_minor": 5
}
