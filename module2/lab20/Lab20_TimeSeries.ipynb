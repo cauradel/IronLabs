{
 "cells": [
  {
   "cell_type": "markdown",
   "metadata": {
    "id": "F9o3Ygk-OcmZ"
   },
   "source": [
    "# Before your start:\n",
    "- Read the README.md file\n",
    "- Comment as much as you can and use the resources (README.md file)\n",
    "- Happy learning!"
   ]
  },
  {
   "cell_type": "code",
   "execution_count": 1,
   "metadata": {
    "colab": {
     "base_uri": "https://localhost:8080/"
    },
    "id": "DTjctqYAOcmc",
    "outputId": "09a3a21e-31b9-4c13-fe3f-0618d89b3904"
   },
   "outputs": [],
   "source": [
    "# Libraries\n",
    "import pandas as pd\n",
    "import matplotlib.pyplot as plt\n",
    "import statsmodels.api as sm\n",
    "from pandas.plotting import lag_plot\n",
    "from statsmodels.tsa.stattools import adfuller\n",
    "import warnings\n",
    "\n",
    "# Setup\n",
    "warnings.filterwarnings(\"ignore\")"
   ]
  },
  {
   "cell_type": "markdown",
   "metadata": {
    "id": "IhBS6XSFOcmd"
   },
   "source": [
    "# Challenge 1 - Loading and Evaluating The Data\n",
    "\n",
    "In this lab, we will look at a dataset of sensor data from a cellular phone. The phone was carried in the subject's pocket for a few minutes while they walked around.\n",
    "\n",
    "To load the data, run the code below."
   ]
  },
  {
   "cell_type": "code",
   "execution_count": 2,
   "metadata": {
    "id": "-hvvxCnlOcme"
   },
   "outputs": [
    {
     "data": {
      "text/html": [
       "<div>\n",
       "<style scoped>\n",
       "    .dataframe tbody tr th:only-of-type {\n",
       "        vertical-align: middle;\n",
       "    }\n",
       "\n",
       "    .dataframe tbody tr th {\n",
       "        vertical-align: top;\n",
       "    }\n",
       "\n",
       "    .dataframe thead th {\n",
       "        text-align: right;\n",
       "    }\n",
       "</style>\n",
       "<table border=\"1\" class=\"dataframe\">\n",
       "  <thead>\n",
       "    <tr style=\"text-align: right;\">\n",
       "      <th></th>\n",
       "      <th>Unnamed: 0</th>\n",
       "      <th>attitude.roll</th>\n",
       "      <th>attitude.pitch</th>\n",
       "      <th>attitude.yaw</th>\n",
       "      <th>gravity.x</th>\n",
       "      <th>gravity.y</th>\n",
       "      <th>gravity.z</th>\n",
       "      <th>rotationRate.x</th>\n",
       "      <th>rotationRate.y</th>\n",
       "      <th>rotationRate.z</th>\n",
       "      <th>userAcceleration.x</th>\n",
       "      <th>userAcceleration.y</th>\n",
       "      <th>userAcceleration.z</th>\n",
       "    </tr>\n",
       "  </thead>\n",
       "  <tbody>\n",
       "    <tr>\n",
       "      <th>0</th>\n",
       "      <td>0</td>\n",
       "      <td>1.528132</td>\n",
       "      <td>-0.733896</td>\n",
       "      <td>0.696372</td>\n",
       "      <td>0.741895</td>\n",
       "      <td>0.669768</td>\n",
       "      <td>-0.031672</td>\n",
       "      <td>0.316738</td>\n",
       "      <td>0.778180</td>\n",
       "      <td>1.082764</td>\n",
       "      <td>0.294894</td>\n",
       "      <td>-0.184493</td>\n",
       "      <td>0.377542</td>\n",
       "    </tr>\n",
       "    <tr>\n",
       "      <th>1</th>\n",
       "      <td>1</td>\n",
       "      <td>1.527992</td>\n",
       "      <td>-0.716987</td>\n",
       "      <td>0.677762</td>\n",
       "      <td>0.753099</td>\n",
       "      <td>0.657116</td>\n",
       "      <td>-0.032255</td>\n",
       "      <td>0.842032</td>\n",
       "      <td>0.424446</td>\n",
       "      <td>0.643574</td>\n",
       "      <td>0.219405</td>\n",
       "      <td>0.035846</td>\n",
       "      <td>0.114866</td>\n",
       "    </tr>\n",
       "    <tr>\n",
       "      <th>2</th>\n",
       "      <td>2</td>\n",
       "      <td>1.527765</td>\n",
       "      <td>-0.706999</td>\n",
       "      <td>0.670951</td>\n",
       "      <td>0.759611</td>\n",
       "      <td>0.649555</td>\n",
       "      <td>-0.032707</td>\n",
       "      <td>-0.138143</td>\n",
       "      <td>-0.040741</td>\n",
       "      <td>0.343563</td>\n",
       "      <td>0.010714</td>\n",
       "      <td>0.134701</td>\n",
       "      <td>-0.167808</td>\n",
       "    </tr>\n",
       "    <tr>\n",
       "      <th>3</th>\n",
       "      <td>3</td>\n",
       "      <td>1.516768</td>\n",
       "      <td>-0.704678</td>\n",
       "      <td>0.675735</td>\n",
       "      <td>0.760709</td>\n",
       "      <td>0.647788</td>\n",
       "      <td>-0.041140</td>\n",
       "      <td>-0.025005</td>\n",
       "      <td>-1.048717</td>\n",
       "      <td>0.035860</td>\n",
       "      <td>-0.008389</td>\n",
       "      <td>0.136788</td>\n",
       "      <td>0.094958</td>\n",
       "    </tr>\n",
       "    <tr>\n",
       "      <th>4</th>\n",
       "      <td>4</td>\n",
       "      <td>1.493941</td>\n",
       "      <td>-0.703918</td>\n",
       "      <td>0.672994</td>\n",
       "      <td>0.760062</td>\n",
       "      <td>0.647210</td>\n",
       "      <td>-0.058530</td>\n",
       "      <td>0.114253</td>\n",
       "      <td>-0.912890</td>\n",
       "      <td>0.047341</td>\n",
       "      <td>0.199441</td>\n",
       "      <td>0.353996</td>\n",
       "      <td>-0.044299</td>\n",
       "    </tr>\n",
       "    <tr>\n",
       "      <th>...</th>\n",
       "      <td>...</td>\n",
       "      <td>...</td>\n",
       "      <td>...</td>\n",
       "      <td>...</td>\n",
       "      <td>...</td>\n",
       "      <td>...</td>\n",
       "      <td>...</td>\n",
       "      <td>...</td>\n",
       "      <td>...</td>\n",
       "      <td>...</td>\n",
       "      <td>...</td>\n",
       "      <td>...</td>\n",
       "      <td>...</td>\n",
       "    </tr>\n",
       "    <tr>\n",
       "      <th>1746</th>\n",
       "      <td>1746</td>\n",
       "      <td>1.797120</td>\n",
       "      <td>-0.562324</td>\n",
       "      <td>2.445889</td>\n",
       "      <td>0.824443</td>\n",
       "      <td>0.533154</td>\n",
       "      <td>0.189844</td>\n",
       "      <td>-0.123211</td>\n",
       "      <td>0.909536</td>\n",
       "      <td>-0.379757</td>\n",
       "      <td>-0.268367</td>\n",
       "      <td>0.006733</td>\n",
       "      <td>-0.064874</td>\n",
       "    </tr>\n",
       "    <tr>\n",
       "      <th>1747</th>\n",
       "      <td>1747</td>\n",
       "      <td>1.814297</td>\n",
       "      <td>-0.569719</td>\n",
       "      <td>2.449655</td>\n",
       "      <td>0.817212</td>\n",
       "      <td>0.539396</td>\n",
       "      <td>0.203020</td>\n",
       "      <td>-0.057641</td>\n",
       "      <td>0.723118</td>\n",
       "      <td>-0.437812</td>\n",
       "      <td>-0.102444</td>\n",
       "      <td>-0.060666</td>\n",
       "      <td>-0.229738</td>\n",
       "    </tr>\n",
       "    <tr>\n",
       "      <th>1748</th>\n",
       "      <td>1748</td>\n",
       "      <td>1.830821</td>\n",
       "      <td>-0.578367</td>\n",
       "      <td>2.447967</td>\n",
       "      <td>0.809207</td>\n",
       "      <td>0.546658</td>\n",
       "      <td>0.215288</td>\n",
       "      <td>0.343238</td>\n",
       "      <td>0.997236</td>\n",
       "      <td>-0.338155</td>\n",
       "      <td>-0.085590</td>\n",
       "      <td>-0.030209</td>\n",
       "      <td>-0.087740</td>\n",
       "    </tr>\n",
       "    <tr>\n",
       "      <th>1749</th>\n",
       "      <td>1749</td>\n",
       "      <td>1.849557</td>\n",
       "      <td>-0.586962</td>\n",
       "      <td>2.439458</td>\n",
       "      <td>0.800485</td>\n",
       "      <td>0.553834</td>\n",
       "      <td>0.229110</td>\n",
       "      <td>0.470144</td>\n",
       "      <td>1.227937</td>\n",
       "      <td>-0.332223</td>\n",
       "      <td>-0.048105</td>\n",
       "      <td>0.029555</td>\n",
       "      <td>0.060441</td>\n",
       "    </tr>\n",
       "    <tr>\n",
       "      <th>1750</th>\n",
       "      <td>1750</td>\n",
       "      <td>1.869375</td>\n",
       "      <td>-0.596783</td>\n",
       "      <td>2.433775</td>\n",
       "      <td>0.790551</td>\n",
       "      <td>0.561984</td>\n",
       "      <td>0.243315</td>\n",
       "      <td>0.291873</td>\n",
       "      <td>1.102207</td>\n",
       "      <td>-0.436925</td>\n",
       "      <td>-0.065011</td>\n",
       "      <td>-0.042575</td>\n",
       "      <td>0.046052</td>\n",
       "    </tr>\n",
       "  </tbody>\n",
       "</table>\n",
       "<p>1751 rows × 13 columns</p>\n",
       "</div>"
      ],
      "text/plain": [
       "      Unnamed: 0  attitude.roll  attitude.pitch  attitude.yaw  gravity.x  \\\n",
       "0              0       1.528132       -0.733896      0.696372   0.741895   \n",
       "1              1       1.527992       -0.716987      0.677762   0.753099   \n",
       "2              2       1.527765       -0.706999      0.670951   0.759611   \n",
       "3              3       1.516768       -0.704678      0.675735   0.760709   \n",
       "4              4       1.493941       -0.703918      0.672994   0.760062   \n",
       "...          ...            ...             ...           ...        ...   \n",
       "1746        1746       1.797120       -0.562324      2.445889   0.824443   \n",
       "1747        1747       1.814297       -0.569719      2.449655   0.817212   \n",
       "1748        1748       1.830821       -0.578367      2.447967   0.809207   \n",
       "1749        1749       1.849557       -0.586962      2.439458   0.800485   \n",
       "1750        1750       1.869375       -0.596783      2.433775   0.790551   \n",
       "\n",
       "      gravity.y  gravity.z  rotationRate.x  rotationRate.y  rotationRate.z  \\\n",
       "0      0.669768  -0.031672        0.316738        0.778180        1.082764   \n",
       "1      0.657116  -0.032255        0.842032        0.424446        0.643574   \n",
       "2      0.649555  -0.032707       -0.138143       -0.040741        0.343563   \n",
       "3      0.647788  -0.041140       -0.025005       -1.048717        0.035860   \n",
       "4      0.647210  -0.058530        0.114253       -0.912890        0.047341   \n",
       "...         ...        ...             ...             ...             ...   \n",
       "1746   0.533154   0.189844       -0.123211        0.909536       -0.379757   \n",
       "1747   0.539396   0.203020       -0.057641        0.723118       -0.437812   \n",
       "1748   0.546658   0.215288        0.343238        0.997236       -0.338155   \n",
       "1749   0.553834   0.229110        0.470144        1.227937       -0.332223   \n",
       "1750   0.561984   0.243315        0.291873        1.102207       -0.436925   \n",
       "\n",
       "      userAcceleration.x  userAcceleration.y  userAcceleration.z  \n",
       "0               0.294894           -0.184493            0.377542  \n",
       "1               0.219405            0.035846            0.114866  \n",
       "2               0.010714            0.134701           -0.167808  \n",
       "3              -0.008389            0.136788            0.094958  \n",
       "4               0.199441            0.353996           -0.044299  \n",
       "...                  ...                 ...                 ...  \n",
       "1746           -0.268367            0.006733           -0.064874  \n",
       "1747           -0.102444           -0.060666           -0.229738  \n",
       "1748           -0.085590           -0.030209           -0.087740  \n",
       "1749           -0.048105            0.029555            0.060441  \n",
       "1750           -0.065011           -0.042575            0.046052  \n",
       "\n",
       "[1751 rows x 13 columns]"
      ]
     },
     "execution_count": 2,
     "metadata": {},
     "output_type": "execute_result"
    }
   ],
   "source": [
    "# Read data\n",
    "sub = pd.read_csv(r'/Users/manele/Downloads/sub_1.csv')\n",
    "sub"
   ]
  },
  {
   "cell_type": "code",
   "execution_count": null,
   "metadata": {},
   "outputs": [],
   "source": []
  },
  {
   "cell_type": "markdown",
   "metadata": {
    "id": "MoDk2PnzOcme"
   },
   "source": [
    "Examine the data using the `head` function."
   ]
  },
  {
   "cell_type": "code",
   "execution_count": 3,
   "metadata": {
    "id": "DxGQg1QxOcme"
   },
   "outputs": [
    {
     "data": {
      "text/html": [
       "<div>\n",
       "<style scoped>\n",
       "    .dataframe tbody tr th:only-of-type {\n",
       "        vertical-align: middle;\n",
       "    }\n",
       "\n",
       "    .dataframe tbody tr th {\n",
       "        vertical-align: top;\n",
       "    }\n",
       "\n",
       "    .dataframe thead th {\n",
       "        text-align: right;\n",
       "    }\n",
       "</style>\n",
       "<table border=\"1\" class=\"dataframe\">\n",
       "  <thead>\n",
       "    <tr style=\"text-align: right;\">\n",
       "      <th></th>\n",
       "      <th>Unnamed: 0</th>\n",
       "      <th>attitude.roll</th>\n",
       "      <th>attitude.pitch</th>\n",
       "      <th>attitude.yaw</th>\n",
       "      <th>gravity.x</th>\n",
       "      <th>gravity.y</th>\n",
       "      <th>gravity.z</th>\n",
       "      <th>rotationRate.x</th>\n",
       "      <th>rotationRate.y</th>\n",
       "      <th>rotationRate.z</th>\n",
       "      <th>userAcceleration.x</th>\n",
       "      <th>userAcceleration.y</th>\n",
       "      <th>userAcceleration.z</th>\n",
       "    </tr>\n",
       "  </thead>\n",
       "  <tbody>\n",
       "    <tr>\n",
       "      <th>0</th>\n",
       "      <td>0</td>\n",
       "      <td>1.528132</td>\n",
       "      <td>-0.733896</td>\n",
       "      <td>0.696372</td>\n",
       "      <td>0.741895</td>\n",
       "      <td>0.669768</td>\n",
       "      <td>-0.031672</td>\n",
       "      <td>0.316738</td>\n",
       "      <td>0.778180</td>\n",
       "      <td>1.082764</td>\n",
       "      <td>0.294894</td>\n",
       "      <td>-0.184493</td>\n",
       "      <td>0.377542</td>\n",
       "    </tr>\n",
       "    <tr>\n",
       "      <th>1</th>\n",
       "      <td>1</td>\n",
       "      <td>1.527992</td>\n",
       "      <td>-0.716987</td>\n",
       "      <td>0.677762</td>\n",
       "      <td>0.753099</td>\n",
       "      <td>0.657116</td>\n",
       "      <td>-0.032255</td>\n",
       "      <td>0.842032</td>\n",
       "      <td>0.424446</td>\n",
       "      <td>0.643574</td>\n",
       "      <td>0.219405</td>\n",
       "      <td>0.035846</td>\n",
       "      <td>0.114866</td>\n",
       "    </tr>\n",
       "    <tr>\n",
       "      <th>2</th>\n",
       "      <td>2</td>\n",
       "      <td>1.527765</td>\n",
       "      <td>-0.706999</td>\n",
       "      <td>0.670951</td>\n",
       "      <td>0.759611</td>\n",
       "      <td>0.649555</td>\n",
       "      <td>-0.032707</td>\n",
       "      <td>-0.138143</td>\n",
       "      <td>-0.040741</td>\n",
       "      <td>0.343563</td>\n",
       "      <td>0.010714</td>\n",
       "      <td>0.134701</td>\n",
       "      <td>-0.167808</td>\n",
       "    </tr>\n",
       "    <tr>\n",
       "      <th>3</th>\n",
       "      <td>3</td>\n",
       "      <td>1.516768</td>\n",
       "      <td>-0.704678</td>\n",
       "      <td>0.675735</td>\n",
       "      <td>0.760709</td>\n",
       "      <td>0.647788</td>\n",
       "      <td>-0.041140</td>\n",
       "      <td>-0.025005</td>\n",
       "      <td>-1.048717</td>\n",
       "      <td>0.035860</td>\n",
       "      <td>-0.008389</td>\n",
       "      <td>0.136788</td>\n",
       "      <td>0.094958</td>\n",
       "    </tr>\n",
       "    <tr>\n",
       "      <th>4</th>\n",
       "      <td>4</td>\n",
       "      <td>1.493941</td>\n",
       "      <td>-0.703918</td>\n",
       "      <td>0.672994</td>\n",
       "      <td>0.760062</td>\n",
       "      <td>0.647210</td>\n",
       "      <td>-0.058530</td>\n",
       "      <td>0.114253</td>\n",
       "      <td>-0.912890</td>\n",
       "      <td>0.047341</td>\n",
       "      <td>0.199441</td>\n",
       "      <td>0.353996</td>\n",
       "      <td>-0.044299</td>\n",
       "    </tr>\n",
       "    <tr>\n",
       "      <th>5</th>\n",
       "      <td>5</td>\n",
       "      <td>1.476302</td>\n",
       "      <td>-0.700807</td>\n",
       "      <td>0.669443</td>\n",
       "      <td>0.760912</td>\n",
       "      <td>0.644835</td>\n",
       "      <td>-0.072116</td>\n",
       "      <td>0.187742</td>\n",
       "      <td>-0.763656</td>\n",
       "      <td>0.226057</td>\n",
       "      <td>0.168241</td>\n",
       "      <td>0.145906</td>\n",
       "      <td>0.012455</td>\n",
       "    </tr>\n",
       "    <tr>\n",
       "      <th>6</th>\n",
       "      <td>6</td>\n",
       "      <td>1.455153</td>\n",
       "      <td>-0.694408</td>\n",
       "      <td>0.662593</td>\n",
       "      <td>0.763300</td>\n",
       "      <td>0.639930</td>\n",
       "      <td>-0.088666</td>\n",
       "      <td>0.343096</td>\n",
       "      <td>-0.803820</td>\n",
       "      <td>0.278468</td>\n",
       "      <td>0.079382</td>\n",
       "      <td>-0.026344</td>\n",
       "      <td>-0.195590</td>\n",
       "    </tr>\n",
       "    <tr>\n",
       "      <th>7</th>\n",
       "      <td>7</td>\n",
       "      <td>1.441702</td>\n",
       "      <td>-0.690710</td>\n",
       "      <td>0.656459</td>\n",
       "      <td>0.764380</td>\n",
       "      <td>0.637084</td>\n",
       "      <td>-0.099229</td>\n",
       "      <td>0.176202</td>\n",
       "      <td>-0.172756</td>\n",
       "      <td>0.056415</td>\n",
       "      <td>0.069360</td>\n",
       "      <td>0.072678</td>\n",
       "      <td>-0.102920</td>\n",
       "    </tr>\n",
       "    <tr>\n",
       "      <th>8</th>\n",
       "      <td>8</td>\n",
       "      <td>1.443440</td>\n",
       "      <td>-0.691905</td>\n",
       "      <td>0.651196</td>\n",
       "      <td>0.763796</td>\n",
       "      <td>0.638005</td>\n",
       "      <td>-0.097803</td>\n",
       "      <td>0.274786</td>\n",
       "      <td>0.446585</td>\n",
       "      <td>-0.132766</td>\n",
       "      <td>0.072889</td>\n",
       "      <td>0.079921</td>\n",
       "      <td>-0.075323</td>\n",
       "    </tr>\n",
       "    <tr>\n",
       "      <th>9</th>\n",
       "      <td>9</td>\n",
       "      <td>1.443071</td>\n",
       "      <td>-0.693039</td>\n",
       "      <td>0.638198</td>\n",
       "      <td>0.763042</td>\n",
       "      <td>0.638878</td>\n",
       "      <td>-0.097993</td>\n",
       "      <td>0.633672</td>\n",
       "      <td>0.316372</td>\n",
       "      <td>-0.115137</td>\n",
       "      <td>0.098347</td>\n",
       "      <td>-0.017021</td>\n",
       "      <td>-0.197310</td>\n",
       "    </tr>\n",
       "  </tbody>\n",
       "</table>\n",
       "</div>"
      ],
      "text/plain": [
       "   Unnamed: 0  attitude.roll  attitude.pitch  attitude.yaw  gravity.x  \\\n",
       "0           0       1.528132       -0.733896      0.696372   0.741895   \n",
       "1           1       1.527992       -0.716987      0.677762   0.753099   \n",
       "2           2       1.527765       -0.706999      0.670951   0.759611   \n",
       "3           3       1.516768       -0.704678      0.675735   0.760709   \n",
       "4           4       1.493941       -0.703918      0.672994   0.760062   \n",
       "5           5       1.476302       -0.700807      0.669443   0.760912   \n",
       "6           6       1.455153       -0.694408      0.662593   0.763300   \n",
       "7           7       1.441702       -0.690710      0.656459   0.764380   \n",
       "8           8       1.443440       -0.691905      0.651196   0.763796   \n",
       "9           9       1.443071       -0.693039      0.638198   0.763042   \n",
       "\n",
       "   gravity.y  gravity.z  rotationRate.x  rotationRate.y  rotationRate.z  \\\n",
       "0   0.669768  -0.031672        0.316738        0.778180        1.082764   \n",
       "1   0.657116  -0.032255        0.842032        0.424446        0.643574   \n",
       "2   0.649555  -0.032707       -0.138143       -0.040741        0.343563   \n",
       "3   0.647788  -0.041140       -0.025005       -1.048717        0.035860   \n",
       "4   0.647210  -0.058530        0.114253       -0.912890        0.047341   \n",
       "5   0.644835  -0.072116        0.187742       -0.763656        0.226057   \n",
       "6   0.639930  -0.088666        0.343096       -0.803820        0.278468   \n",
       "7   0.637084  -0.099229        0.176202       -0.172756        0.056415   \n",
       "8   0.638005  -0.097803        0.274786        0.446585       -0.132766   \n",
       "9   0.638878  -0.097993        0.633672        0.316372       -0.115137   \n",
       "\n",
       "   userAcceleration.x  userAcceleration.y  userAcceleration.z  \n",
       "0            0.294894           -0.184493            0.377542  \n",
       "1            0.219405            0.035846            0.114866  \n",
       "2            0.010714            0.134701           -0.167808  \n",
       "3           -0.008389            0.136788            0.094958  \n",
       "4            0.199441            0.353996           -0.044299  \n",
       "5            0.168241            0.145906            0.012455  \n",
       "6            0.079382           -0.026344           -0.195590  \n",
       "7            0.069360            0.072678           -0.102920  \n",
       "8            0.072889            0.079921           -0.075323  \n",
       "9            0.098347           -0.017021           -0.197310  "
      ]
     },
     "execution_count": 3,
     "metadata": {},
     "output_type": "execute_result"
    }
   ],
   "source": [
    "sub.head(10)"
   ]
  },
  {
   "cell_type": "markdown",
   "metadata": {
    "id": "9x5jqnS7Ocmf"
   },
   "source": [
    "Check whether there is any missing data. If there is any missing data, remove the rows containing missing data."
   ]
  },
  {
   "cell_type": "code",
   "execution_count": 4,
   "metadata": {
    "id": "ynrxJktDOcmg"
   },
   "outputs": [
    {
     "data": {
      "text/plain": [
       "Unnamed: 0            0\n",
       "attitude.roll         0\n",
       "attitude.pitch        0\n",
       "attitude.yaw          0\n",
       "gravity.x             0\n",
       "gravity.y             0\n",
       "gravity.z             0\n",
       "rotationRate.x        0\n",
       "rotationRate.y        0\n",
       "rotationRate.z        0\n",
       "userAcceleration.x    0\n",
       "userAcceleration.y    0\n",
       "userAcceleration.z    0\n",
       "dtype: int64"
      ]
     },
     "execution_count": 4,
     "metadata": {},
     "output_type": "execute_result"
    }
   ],
   "source": [
    "sub.isnull().sum()"
   ]
  },
  {
   "cell_type": "markdown",
   "metadata": {
    "id": "Hcw1CmEPOcmg"
   },
   "source": [
    "How many rows and columns are in our data?"
   ]
  },
  {
   "cell_type": "code",
   "execution_count": 5,
   "metadata": {
    "colab": {
     "base_uri": "https://localhost:8080/",
     "height": 165
    },
    "id": "Guv1zpaqOcmh",
    "outputId": "45613050-226f-4afa-bacc-398e1c01631f"
   },
   "outputs": [
    {
     "data": {
      "text/plain": [
       "'\\n1751 rows and 13 columns\\n'"
      ]
     },
     "execution_count": 5,
     "metadata": {},
     "output_type": "execute_result"
    }
   ],
   "source": [
    "\"\"\"\n",
    "1751 rows and 13 columns\n",
    "\"\"\""
   ]
  },
  {
   "cell_type": "raw",
   "metadata": {
    "id": "bdhV4iWIOcmh"
   },
   "source": [
    "# To perform time series analysis on the data, we must change the index from a range index to a time series index. In the cell below, create a time series index using the `pd.date_range` function. Create a time series index starting at 1/1/2018 00:00:00 and ending at 1/1/2018 00:29:10. The number of periods is equal to the number of rows in `sensor`. The frequency should be set to `infer`."
   ]
  },
  {
   "cell_type": "code",
   "execution_count": 6,
   "metadata": {
    "id": "uoPnJG0POcmi"
   },
   "outputs": [
    {
     "data": {
      "text/html": [
       "<div>\n",
       "<style scoped>\n",
       "    .dataframe tbody tr th:only-of-type {\n",
       "        vertical-align: middle;\n",
       "    }\n",
       "\n",
       "    .dataframe tbody tr th {\n",
       "        vertical-align: top;\n",
       "    }\n",
       "\n",
       "    .dataframe thead th {\n",
       "        text-align: right;\n",
       "    }\n",
       "</style>\n",
       "<table border=\"1\" class=\"dataframe\">\n",
       "  <thead>\n",
       "    <tr style=\"text-align: right;\">\n",
       "      <th></th>\n",
       "      <th>Unnamed: 0</th>\n",
       "      <th>attitude.roll</th>\n",
       "      <th>attitude.pitch</th>\n",
       "      <th>attitude.yaw</th>\n",
       "      <th>gravity.x</th>\n",
       "      <th>gravity.y</th>\n",
       "      <th>gravity.z</th>\n",
       "      <th>rotationRate.x</th>\n",
       "      <th>rotationRate.y</th>\n",
       "      <th>rotationRate.z</th>\n",
       "      <th>userAcceleration.x</th>\n",
       "      <th>userAcceleration.y</th>\n",
       "      <th>userAcceleration.z</th>\n",
       "    </tr>\n",
       "    <tr>\n",
       "      <th>index</th>\n",
       "      <th></th>\n",
       "      <th></th>\n",
       "      <th></th>\n",
       "      <th></th>\n",
       "      <th></th>\n",
       "      <th></th>\n",
       "      <th></th>\n",
       "      <th></th>\n",
       "      <th></th>\n",
       "      <th></th>\n",
       "      <th></th>\n",
       "      <th></th>\n",
       "      <th></th>\n",
       "    </tr>\n",
       "  </thead>\n",
       "  <tbody>\n",
       "    <tr>\n",
       "      <th>2018-01-01 00:00:00</th>\n",
       "      <td>0</td>\n",
       "      <td>1.528132</td>\n",
       "      <td>-0.733896</td>\n",
       "      <td>0.696372</td>\n",
       "      <td>0.741895</td>\n",
       "      <td>0.669768</td>\n",
       "      <td>-0.031672</td>\n",
       "      <td>0.316738</td>\n",
       "      <td>0.778180</td>\n",
       "      <td>1.082764</td>\n",
       "      <td>0.294894</td>\n",
       "      <td>-0.184493</td>\n",
       "      <td>0.377542</td>\n",
       "    </tr>\n",
       "    <tr>\n",
       "      <th>2018-01-01 00:00:01</th>\n",
       "      <td>1</td>\n",
       "      <td>1.527992</td>\n",
       "      <td>-0.716987</td>\n",
       "      <td>0.677762</td>\n",
       "      <td>0.753099</td>\n",
       "      <td>0.657116</td>\n",
       "      <td>-0.032255</td>\n",
       "      <td>0.842032</td>\n",
       "      <td>0.424446</td>\n",
       "      <td>0.643574</td>\n",
       "      <td>0.219405</td>\n",
       "      <td>0.035846</td>\n",
       "      <td>0.114866</td>\n",
       "    </tr>\n",
       "    <tr>\n",
       "      <th>2018-01-01 00:00:02</th>\n",
       "      <td>2</td>\n",
       "      <td>1.527765</td>\n",
       "      <td>-0.706999</td>\n",
       "      <td>0.670951</td>\n",
       "      <td>0.759611</td>\n",
       "      <td>0.649555</td>\n",
       "      <td>-0.032707</td>\n",
       "      <td>-0.138143</td>\n",
       "      <td>-0.040741</td>\n",
       "      <td>0.343563</td>\n",
       "      <td>0.010714</td>\n",
       "      <td>0.134701</td>\n",
       "      <td>-0.167808</td>\n",
       "    </tr>\n",
       "    <tr>\n",
       "      <th>2018-01-01 00:00:03</th>\n",
       "      <td>3</td>\n",
       "      <td>1.516768</td>\n",
       "      <td>-0.704678</td>\n",
       "      <td>0.675735</td>\n",
       "      <td>0.760709</td>\n",
       "      <td>0.647788</td>\n",
       "      <td>-0.041140</td>\n",
       "      <td>-0.025005</td>\n",
       "      <td>-1.048717</td>\n",
       "      <td>0.035860</td>\n",
       "      <td>-0.008389</td>\n",
       "      <td>0.136788</td>\n",
       "      <td>0.094958</td>\n",
       "    </tr>\n",
       "    <tr>\n",
       "      <th>2018-01-01 00:00:04</th>\n",
       "      <td>4</td>\n",
       "      <td>1.493941</td>\n",
       "      <td>-0.703918</td>\n",
       "      <td>0.672994</td>\n",
       "      <td>0.760062</td>\n",
       "      <td>0.647210</td>\n",
       "      <td>-0.058530</td>\n",
       "      <td>0.114253</td>\n",
       "      <td>-0.912890</td>\n",
       "      <td>0.047341</td>\n",
       "      <td>0.199441</td>\n",
       "      <td>0.353996</td>\n",
       "      <td>-0.044299</td>\n",
       "    </tr>\n",
       "    <tr>\n",
       "      <th>...</th>\n",
       "      <td>...</td>\n",
       "      <td>...</td>\n",
       "      <td>...</td>\n",
       "      <td>...</td>\n",
       "      <td>...</td>\n",
       "      <td>...</td>\n",
       "      <td>...</td>\n",
       "      <td>...</td>\n",
       "      <td>...</td>\n",
       "      <td>...</td>\n",
       "      <td>...</td>\n",
       "      <td>...</td>\n",
       "      <td>...</td>\n",
       "    </tr>\n",
       "    <tr>\n",
       "      <th>2018-01-01 00:29:06</th>\n",
       "      <td>1746</td>\n",
       "      <td>1.797120</td>\n",
       "      <td>-0.562324</td>\n",
       "      <td>2.445889</td>\n",
       "      <td>0.824443</td>\n",
       "      <td>0.533154</td>\n",
       "      <td>0.189844</td>\n",
       "      <td>-0.123211</td>\n",
       "      <td>0.909536</td>\n",
       "      <td>-0.379757</td>\n",
       "      <td>-0.268367</td>\n",
       "      <td>0.006733</td>\n",
       "      <td>-0.064874</td>\n",
       "    </tr>\n",
       "    <tr>\n",
       "      <th>2018-01-01 00:29:07</th>\n",
       "      <td>1747</td>\n",
       "      <td>1.814297</td>\n",
       "      <td>-0.569719</td>\n",
       "      <td>2.449655</td>\n",
       "      <td>0.817212</td>\n",
       "      <td>0.539396</td>\n",
       "      <td>0.203020</td>\n",
       "      <td>-0.057641</td>\n",
       "      <td>0.723118</td>\n",
       "      <td>-0.437812</td>\n",
       "      <td>-0.102444</td>\n",
       "      <td>-0.060666</td>\n",
       "      <td>-0.229738</td>\n",
       "    </tr>\n",
       "    <tr>\n",
       "      <th>2018-01-01 00:29:08</th>\n",
       "      <td>1748</td>\n",
       "      <td>1.830821</td>\n",
       "      <td>-0.578367</td>\n",
       "      <td>2.447967</td>\n",
       "      <td>0.809207</td>\n",
       "      <td>0.546658</td>\n",
       "      <td>0.215288</td>\n",
       "      <td>0.343238</td>\n",
       "      <td>0.997236</td>\n",
       "      <td>-0.338155</td>\n",
       "      <td>-0.085590</td>\n",
       "      <td>-0.030209</td>\n",
       "      <td>-0.087740</td>\n",
       "    </tr>\n",
       "    <tr>\n",
       "      <th>2018-01-01 00:29:09</th>\n",
       "      <td>1749</td>\n",
       "      <td>1.849557</td>\n",
       "      <td>-0.586962</td>\n",
       "      <td>2.439458</td>\n",
       "      <td>0.800485</td>\n",
       "      <td>0.553834</td>\n",
       "      <td>0.229110</td>\n",
       "      <td>0.470144</td>\n",
       "      <td>1.227937</td>\n",
       "      <td>-0.332223</td>\n",
       "      <td>-0.048105</td>\n",
       "      <td>0.029555</td>\n",
       "      <td>0.060441</td>\n",
       "    </tr>\n",
       "    <tr>\n",
       "      <th>2018-01-01 00:29:10</th>\n",
       "      <td>1750</td>\n",
       "      <td>1.869375</td>\n",
       "      <td>-0.596783</td>\n",
       "      <td>2.433775</td>\n",
       "      <td>0.790551</td>\n",
       "      <td>0.561984</td>\n",
       "      <td>0.243315</td>\n",
       "      <td>0.291873</td>\n",
       "      <td>1.102207</td>\n",
       "      <td>-0.436925</td>\n",
       "      <td>-0.065011</td>\n",
       "      <td>-0.042575</td>\n",
       "      <td>0.046052</td>\n",
       "    </tr>\n",
       "  </tbody>\n",
       "</table>\n",
       "<p>1751 rows × 13 columns</p>\n",
       "</div>"
      ],
      "text/plain": [
       "                     Unnamed: 0  attitude.roll  attitude.pitch  attitude.yaw  \\\n",
       "index                                                                          \n",
       "2018-01-01 00:00:00           0       1.528132       -0.733896      0.696372   \n",
       "2018-01-01 00:00:01           1       1.527992       -0.716987      0.677762   \n",
       "2018-01-01 00:00:02           2       1.527765       -0.706999      0.670951   \n",
       "2018-01-01 00:00:03           3       1.516768       -0.704678      0.675735   \n",
       "2018-01-01 00:00:04           4       1.493941       -0.703918      0.672994   \n",
       "...                         ...            ...             ...           ...   \n",
       "2018-01-01 00:29:06        1746       1.797120       -0.562324      2.445889   \n",
       "2018-01-01 00:29:07        1747       1.814297       -0.569719      2.449655   \n",
       "2018-01-01 00:29:08        1748       1.830821       -0.578367      2.447967   \n",
       "2018-01-01 00:29:09        1749       1.849557       -0.586962      2.439458   \n",
       "2018-01-01 00:29:10        1750       1.869375       -0.596783      2.433775   \n",
       "\n",
       "                     gravity.x  gravity.y  gravity.z  rotationRate.x  \\\n",
       "index                                                                  \n",
       "2018-01-01 00:00:00   0.741895   0.669768  -0.031672        0.316738   \n",
       "2018-01-01 00:00:01   0.753099   0.657116  -0.032255        0.842032   \n",
       "2018-01-01 00:00:02   0.759611   0.649555  -0.032707       -0.138143   \n",
       "2018-01-01 00:00:03   0.760709   0.647788  -0.041140       -0.025005   \n",
       "2018-01-01 00:00:04   0.760062   0.647210  -0.058530        0.114253   \n",
       "...                        ...        ...        ...             ...   \n",
       "2018-01-01 00:29:06   0.824443   0.533154   0.189844       -0.123211   \n",
       "2018-01-01 00:29:07   0.817212   0.539396   0.203020       -0.057641   \n",
       "2018-01-01 00:29:08   0.809207   0.546658   0.215288        0.343238   \n",
       "2018-01-01 00:29:09   0.800485   0.553834   0.229110        0.470144   \n",
       "2018-01-01 00:29:10   0.790551   0.561984   0.243315        0.291873   \n",
       "\n",
       "                     rotationRate.y  rotationRate.z  userAcceleration.x  \\\n",
       "index                                                                     \n",
       "2018-01-01 00:00:00        0.778180        1.082764            0.294894   \n",
       "2018-01-01 00:00:01        0.424446        0.643574            0.219405   \n",
       "2018-01-01 00:00:02       -0.040741        0.343563            0.010714   \n",
       "2018-01-01 00:00:03       -1.048717        0.035860           -0.008389   \n",
       "2018-01-01 00:00:04       -0.912890        0.047341            0.199441   \n",
       "...                             ...             ...                 ...   \n",
       "2018-01-01 00:29:06        0.909536       -0.379757           -0.268367   \n",
       "2018-01-01 00:29:07        0.723118       -0.437812           -0.102444   \n",
       "2018-01-01 00:29:08        0.997236       -0.338155           -0.085590   \n",
       "2018-01-01 00:29:09        1.227937       -0.332223           -0.048105   \n",
       "2018-01-01 00:29:10        1.102207       -0.436925           -0.065011   \n",
       "\n",
       "                     userAcceleration.y  userAcceleration.z  \n",
       "index                                                        \n",
       "2018-01-01 00:00:00           -0.184493            0.377542  \n",
       "2018-01-01 00:00:01            0.035846            0.114866  \n",
       "2018-01-01 00:00:02            0.134701           -0.167808  \n",
       "2018-01-01 00:00:03            0.136788            0.094958  \n",
       "2018-01-01 00:00:04            0.353996           -0.044299  \n",
       "...                                 ...                 ...  \n",
       "2018-01-01 00:29:06            0.006733           -0.064874  \n",
       "2018-01-01 00:29:07           -0.060666           -0.229738  \n",
       "2018-01-01 00:29:08           -0.030209           -0.087740  \n",
       "2018-01-01 00:29:09            0.029555            0.060441  \n",
       "2018-01-01 00:29:10           -0.042575            0.046052  \n",
       "\n",
       "[1751 rows x 13 columns]"
      ]
     },
     "execution_count": 6,
     "metadata": {},
     "output_type": "execute_result"
    }
   ],
   "source": [
    "sub['index'] = pd.date_range(start='2018-01-01 00:00:00', end='1/1/2018 00:29:10', periods=len(sub))\n",
    "sub = sub.set_index('index')\n",
    "sub"
   ]
  },
  {
   "cell_type": "code",
   "execution_count": null,
   "metadata": {},
   "outputs": [],
   "source": []
  },
  {
   "cell_type": "markdown",
   "metadata": {
    "id": "7bYdwaxLOcmi"
   },
   "source": [
    "Assign the time series index to the dataframe's index."
   ]
  },
  {
   "cell_type": "code",
   "execution_count": 7,
   "metadata": {
    "id": "qv0IlJdiOcmi"
   },
   "outputs": [
    {
     "data": {
      "text/html": [
       "<div>\n",
       "<style scoped>\n",
       "    .dataframe tbody tr th:only-of-type {\n",
       "        vertical-align: middle;\n",
       "    }\n",
       "\n",
       "    .dataframe tbody tr th {\n",
       "        vertical-align: top;\n",
       "    }\n",
       "\n",
       "    .dataframe thead th {\n",
       "        text-align: right;\n",
       "    }\n",
       "</style>\n",
       "<table border=\"1\" class=\"dataframe\">\n",
       "  <thead>\n",
       "    <tr style=\"text-align: right;\">\n",
       "      <th></th>\n",
       "      <th>Unnamed: 0</th>\n",
       "      <th>attitude.roll</th>\n",
       "      <th>attitude.pitch</th>\n",
       "      <th>attitude.yaw</th>\n",
       "      <th>gravity.x</th>\n",
       "      <th>gravity.y</th>\n",
       "      <th>gravity.z</th>\n",
       "      <th>rotationRate.x</th>\n",
       "      <th>rotationRate.y</th>\n",
       "      <th>rotationRate.z</th>\n",
       "      <th>userAcceleration.x</th>\n",
       "      <th>userAcceleration.y</th>\n",
       "      <th>userAcceleration.z</th>\n",
       "    </tr>\n",
       "    <tr>\n",
       "      <th>index</th>\n",
       "      <th></th>\n",
       "      <th></th>\n",
       "      <th></th>\n",
       "      <th></th>\n",
       "      <th></th>\n",
       "      <th></th>\n",
       "      <th></th>\n",
       "      <th></th>\n",
       "      <th></th>\n",
       "      <th></th>\n",
       "      <th></th>\n",
       "      <th></th>\n",
       "      <th></th>\n",
       "    </tr>\n",
       "  </thead>\n",
       "  <tbody>\n",
       "    <tr>\n",
       "      <th>2018-01-01 00:00:00</th>\n",
       "      <td>0</td>\n",
       "      <td>1.528132</td>\n",
       "      <td>-0.733896</td>\n",
       "      <td>0.696372</td>\n",
       "      <td>0.741895</td>\n",
       "      <td>0.669768</td>\n",
       "      <td>-0.031672</td>\n",
       "      <td>0.316738</td>\n",
       "      <td>0.778180</td>\n",
       "      <td>1.082764</td>\n",
       "      <td>0.294894</td>\n",
       "      <td>-0.184493</td>\n",
       "      <td>0.377542</td>\n",
       "    </tr>\n",
       "    <tr>\n",
       "      <th>2018-01-01 00:00:01</th>\n",
       "      <td>1</td>\n",
       "      <td>1.527992</td>\n",
       "      <td>-0.716987</td>\n",
       "      <td>0.677762</td>\n",
       "      <td>0.753099</td>\n",
       "      <td>0.657116</td>\n",
       "      <td>-0.032255</td>\n",
       "      <td>0.842032</td>\n",
       "      <td>0.424446</td>\n",
       "      <td>0.643574</td>\n",
       "      <td>0.219405</td>\n",
       "      <td>0.035846</td>\n",
       "      <td>0.114866</td>\n",
       "    </tr>\n",
       "    <tr>\n",
       "      <th>2018-01-01 00:00:02</th>\n",
       "      <td>2</td>\n",
       "      <td>1.527765</td>\n",
       "      <td>-0.706999</td>\n",
       "      <td>0.670951</td>\n",
       "      <td>0.759611</td>\n",
       "      <td>0.649555</td>\n",
       "      <td>-0.032707</td>\n",
       "      <td>-0.138143</td>\n",
       "      <td>-0.040741</td>\n",
       "      <td>0.343563</td>\n",
       "      <td>0.010714</td>\n",
       "      <td>0.134701</td>\n",
       "      <td>-0.167808</td>\n",
       "    </tr>\n",
       "    <tr>\n",
       "      <th>2018-01-01 00:00:03</th>\n",
       "      <td>3</td>\n",
       "      <td>1.516768</td>\n",
       "      <td>-0.704678</td>\n",
       "      <td>0.675735</td>\n",
       "      <td>0.760709</td>\n",
       "      <td>0.647788</td>\n",
       "      <td>-0.041140</td>\n",
       "      <td>-0.025005</td>\n",
       "      <td>-1.048717</td>\n",
       "      <td>0.035860</td>\n",
       "      <td>-0.008389</td>\n",
       "      <td>0.136788</td>\n",
       "      <td>0.094958</td>\n",
       "    </tr>\n",
       "    <tr>\n",
       "      <th>2018-01-01 00:00:04</th>\n",
       "      <td>4</td>\n",
       "      <td>1.493941</td>\n",
       "      <td>-0.703918</td>\n",
       "      <td>0.672994</td>\n",
       "      <td>0.760062</td>\n",
       "      <td>0.647210</td>\n",
       "      <td>-0.058530</td>\n",
       "      <td>0.114253</td>\n",
       "      <td>-0.912890</td>\n",
       "      <td>0.047341</td>\n",
       "      <td>0.199441</td>\n",
       "      <td>0.353996</td>\n",
       "      <td>-0.044299</td>\n",
       "    </tr>\n",
       "    <tr>\n",
       "      <th>2018-01-01 00:00:05</th>\n",
       "      <td>5</td>\n",
       "      <td>1.476302</td>\n",
       "      <td>-0.700807</td>\n",
       "      <td>0.669443</td>\n",
       "      <td>0.760912</td>\n",
       "      <td>0.644835</td>\n",
       "      <td>-0.072116</td>\n",
       "      <td>0.187742</td>\n",
       "      <td>-0.763656</td>\n",
       "      <td>0.226057</td>\n",
       "      <td>0.168241</td>\n",
       "      <td>0.145906</td>\n",
       "      <td>0.012455</td>\n",
       "    </tr>\n",
       "    <tr>\n",
       "      <th>2018-01-01 00:00:06</th>\n",
       "      <td>6</td>\n",
       "      <td>1.455153</td>\n",
       "      <td>-0.694408</td>\n",
       "      <td>0.662593</td>\n",
       "      <td>0.763300</td>\n",
       "      <td>0.639930</td>\n",
       "      <td>-0.088666</td>\n",
       "      <td>0.343096</td>\n",
       "      <td>-0.803820</td>\n",
       "      <td>0.278468</td>\n",
       "      <td>0.079382</td>\n",
       "      <td>-0.026344</td>\n",
       "      <td>-0.195590</td>\n",
       "    </tr>\n",
       "    <tr>\n",
       "      <th>2018-01-01 00:00:07</th>\n",
       "      <td>7</td>\n",
       "      <td>1.441702</td>\n",
       "      <td>-0.690710</td>\n",
       "      <td>0.656459</td>\n",
       "      <td>0.764380</td>\n",
       "      <td>0.637084</td>\n",
       "      <td>-0.099229</td>\n",
       "      <td>0.176202</td>\n",
       "      <td>-0.172756</td>\n",
       "      <td>0.056415</td>\n",
       "      <td>0.069360</td>\n",
       "      <td>0.072678</td>\n",
       "      <td>-0.102920</td>\n",
       "    </tr>\n",
       "    <tr>\n",
       "      <th>2018-01-01 00:00:08</th>\n",
       "      <td>8</td>\n",
       "      <td>1.443440</td>\n",
       "      <td>-0.691905</td>\n",
       "      <td>0.651196</td>\n",
       "      <td>0.763796</td>\n",
       "      <td>0.638005</td>\n",
       "      <td>-0.097803</td>\n",
       "      <td>0.274786</td>\n",
       "      <td>0.446585</td>\n",
       "      <td>-0.132766</td>\n",
       "      <td>0.072889</td>\n",
       "      <td>0.079921</td>\n",
       "      <td>-0.075323</td>\n",
       "    </tr>\n",
       "    <tr>\n",
       "      <th>2018-01-01 00:00:09</th>\n",
       "      <td>9</td>\n",
       "      <td>1.443071</td>\n",
       "      <td>-0.693039</td>\n",
       "      <td>0.638198</td>\n",
       "      <td>0.763042</td>\n",
       "      <td>0.638878</td>\n",
       "      <td>-0.097993</td>\n",
       "      <td>0.633672</td>\n",
       "      <td>0.316372</td>\n",
       "      <td>-0.115137</td>\n",
       "      <td>0.098347</td>\n",
       "      <td>-0.017021</td>\n",
       "      <td>-0.197310</td>\n",
       "    </tr>\n",
       "  </tbody>\n",
       "</table>\n",
       "</div>"
      ],
      "text/plain": [
       "                     Unnamed: 0  attitude.roll  attitude.pitch  attitude.yaw  \\\n",
       "index                                                                          \n",
       "2018-01-01 00:00:00           0       1.528132       -0.733896      0.696372   \n",
       "2018-01-01 00:00:01           1       1.527992       -0.716987      0.677762   \n",
       "2018-01-01 00:00:02           2       1.527765       -0.706999      0.670951   \n",
       "2018-01-01 00:00:03           3       1.516768       -0.704678      0.675735   \n",
       "2018-01-01 00:00:04           4       1.493941       -0.703918      0.672994   \n",
       "2018-01-01 00:00:05           5       1.476302       -0.700807      0.669443   \n",
       "2018-01-01 00:00:06           6       1.455153       -0.694408      0.662593   \n",
       "2018-01-01 00:00:07           7       1.441702       -0.690710      0.656459   \n",
       "2018-01-01 00:00:08           8       1.443440       -0.691905      0.651196   \n",
       "2018-01-01 00:00:09           9       1.443071       -0.693039      0.638198   \n",
       "\n",
       "                     gravity.x  gravity.y  gravity.z  rotationRate.x  \\\n",
       "index                                                                  \n",
       "2018-01-01 00:00:00   0.741895   0.669768  -0.031672        0.316738   \n",
       "2018-01-01 00:00:01   0.753099   0.657116  -0.032255        0.842032   \n",
       "2018-01-01 00:00:02   0.759611   0.649555  -0.032707       -0.138143   \n",
       "2018-01-01 00:00:03   0.760709   0.647788  -0.041140       -0.025005   \n",
       "2018-01-01 00:00:04   0.760062   0.647210  -0.058530        0.114253   \n",
       "2018-01-01 00:00:05   0.760912   0.644835  -0.072116        0.187742   \n",
       "2018-01-01 00:00:06   0.763300   0.639930  -0.088666        0.343096   \n",
       "2018-01-01 00:00:07   0.764380   0.637084  -0.099229        0.176202   \n",
       "2018-01-01 00:00:08   0.763796   0.638005  -0.097803        0.274786   \n",
       "2018-01-01 00:00:09   0.763042   0.638878  -0.097993        0.633672   \n",
       "\n",
       "                     rotationRate.y  rotationRate.z  userAcceleration.x  \\\n",
       "index                                                                     \n",
       "2018-01-01 00:00:00        0.778180        1.082764            0.294894   \n",
       "2018-01-01 00:00:01        0.424446        0.643574            0.219405   \n",
       "2018-01-01 00:00:02       -0.040741        0.343563            0.010714   \n",
       "2018-01-01 00:00:03       -1.048717        0.035860           -0.008389   \n",
       "2018-01-01 00:00:04       -0.912890        0.047341            0.199441   \n",
       "2018-01-01 00:00:05       -0.763656        0.226057            0.168241   \n",
       "2018-01-01 00:00:06       -0.803820        0.278468            0.079382   \n",
       "2018-01-01 00:00:07       -0.172756        0.056415            0.069360   \n",
       "2018-01-01 00:00:08        0.446585       -0.132766            0.072889   \n",
       "2018-01-01 00:00:09        0.316372       -0.115137            0.098347   \n",
       "\n",
       "                     userAcceleration.y  userAcceleration.z  \n",
       "index                                                        \n",
       "2018-01-01 00:00:00           -0.184493            0.377542  \n",
       "2018-01-01 00:00:01            0.035846            0.114866  \n",
       "2018-01-01 00:00:02            0.134701           -0.167808  \n",
       "2018-01-01 00:00:03            0.136788            0.094958  \n",
       "2018-01-01 00:00:04            0.353996           -0.044299  \n",
       "2018-01-01 00:00:05            0.145906            0.012455  \n",
       "2018-01-01 00:00:06           -0.026344           -0.195590  \n",
       "2018-01-01 00:00:07            0.072678           -0.102920  \n",
       "2018-01-01 00:00:08            0.079921           -0.075323  \n",
       "2018-01-01 00:00:09           -0.017021           -0.197310  "
      ]
     },
     "execution_count": 7,
     "metadata": {},
     "output_type": "execute_result"
    }
   ],
   "source": [
    "sub.head(10)"
   ]
  },
  {
   "cell_type": "markdown",
   "metadata": {
    "id": "aJHrVycrOcmj"
   },
   "source": [
    "Our next step is to decompose the time series and evaluate the patterns in the data. \n",
    "\n",
    "Load the `statsmodels.api` submodule and plot the decomposed plot of `userAcceleration.x`. Set `freq=60` in the `seasonal_decompose` function. Your graph should look like the one below.\n",
    "\n",
    "![time series decomposition](./images/tsa_decompose.png)"
   ]
  },
  {
   "cell_type": "code",
   "execution_count": 8,
   "metadata": {
    "id": "itcD746pOcmj"
   },
   "outputs": [],
   "source": [
    "from statsmodels.tsa.seasonal import seasonal_decompose"
   ]
  },
  {
   "cell_type": "code",
   "execution_count": 9,
   "metadata": {},
   "outputs": [
    {
     "data": {
      "image/png": "[encoded data removed]",
      "text/plain": [
       "<Figure size 432x288 with 4 Axes>"
      ]
     },
     "execution_count": 9,
     "metadata": {},
     "output_type": "execute_result"
    },
    {
     "data": {
      "image/png": "[encoded data removed]",
      "text/plain": [
       "<Figure size 432x288 with 4 Axes>"
      ]
     },
     "metadata": {
      "needs_background": "light"
     },
     "output_type": "display_data"
    }
   ],
   "source": [
    "acc_viz = sm.tsa.seasonal_decompose(sub['userAcceleration.x'], period=60)\n",
    "acc_viz.plot()"
   ]
  },
  {
   "cell_type": "markdown",
   "metadata": {
    "id": "A7GmDbLUOcmj"
   },
   "source": [
    "Plot the decomposed time series of `rotationRate.x` also with a frequency of 60."
   ]
  },
  {
   "cell_type": "code",
   "execution_count": 10,
   "metadata": {
    "id": "y7w0oDCnOcmk"
   },
   "outputs": [
    {
     "data": {
      "image/png": "[encoded data removed]",
      "text/plain": [
       "<Figure size 432x288 with 4 Axes>"
      ]
     },
     "execution_count": 10,
     "metadata": {},
     "output_type": "execute_result"
    },
    {
     "data": {
      "image/png": "[encoded data removed]",
      "text/plain": [
       "<Figure size 432x288 with 4 Axes>"
      ]
     },
     "metadata": {
      "needs_background": "light"
     },
     "output_type": "display_data"
    }
   ],
   "source": [
    "rot_viz = sm.tsa.seasonal_decompose(sub['rotationRate.x'], period=60)\n",
    "rot_viz.plot()"
   ]
  },
  {
   "cell_type": "markdown",
   "metadata": {
    "id": "4kMg8s3qOcmk"
   },
   "source": [
    "# Challenge 2 - Modelling the Data\n",
    "\n",
    "To model our data, we should look at a few assumptions. First, let's plot the `lag_plot` to detect any autocorrelation. Do this for `userAcceleration.x`."
   ]
  },
  {
   "cell_type": "code",
   "execution_count": 11,
   "metadata": {
    "id": "jfFL6ZTiOcmk"
   },
   "outputs": [
    {
     "data": {
      "text/plain": [
       "<AxesSubplot:xlabel='y(t)', ylabel='y(t + 1)'>"
      ]
     },
     "execution_count": 11,
     "metadata": {},
     "output_type": "execute_result"
    },
    {
     "data": {
      "image/png": "[encoded data removed]",
      "text/plain": [
       "<Figure size 432x288 with 1 Axes>"
      ]
     },
     "metadata": {
      "needs_background": "light"
     },
     "output_type": "display_data"
    }
   ],
   "source": [
    "pd.plotting.lag_plot(sub['userAcceleration.x'], lag=1)"
   ]
  },
  {
   "cell_type": "markdown",
   "metadata": {
    "id": "9rF6c8UaOcmk"
   },
   "source": [
    "Create a lag plot for `rotationRate.x`"
   ]
  },
  {
   "cell_type": "code",
   "execution_count": 12,
   "metadata": {
    "id": "dNJU7RfjOcml"
   },
   "outputs": [
    {
     "data": {
      "text/plain": [
       "<AxesSubplot:xlabel='y(t)', ylabel='y(t + 1)'>"
      ]
     },
     "execution_count": 12,
     "metadata": {},
     "output_type": "execute_result"
    },
    {
     "data": {
      "image/png": "[encoded data removed]",
      "text/plain": [
       "<Figure size 432x288 with 1 Axes>"
      ]
     },
     "metadata": {
      "needs_background": "light"
     },
     "output_type": "display_data"
    }
   ],
   "source": [
    "pd.plotting.lag_plot(sub['rotationRate.x'], lag=1)"
   ]
  },
  {
   "cell_type": "markdown",
   "metadata": {
    "id": "jDbRLtIOOcml"
   },
   "source": [
    "What are your conclusions from both visualizations?"
   ]
  },
  {
   "cell_type": "markdown",
   "metadata": {
    "id": "IUVsgisaOcml"
   },
   "source": [
    "```Comments:``` Autocorrelation in time series means that the series is linearly related to a lagged version of itself. For features 'rotationRate.x' and 'userAcceleration.x', the observations at time *t* have a positive linear correlation with the observations at time *t+1*. One of the assumptions of regression analysis is that the data has no autocorrelation. If we try to do a regression analysis on data with autocorrelation, then our analysis will be misleading."
   ]
  },
  {
   "cell_type": "markdown",
   "metadata": {
    "id": "QcEtPMA0Ocml"
   },
   "source": [
    "The next step will be to test both variables for stationarity. Perform the Augmented Dickey Fuller test on both variables below."
   ]
  },
  {
   "cell_type": "code",
   "execution_count": null,
   "metadata": {},
   "outputs": [],
   "source": [
    "# rotationRate.x is stationary"
   ]
  },
  {
   "cell_type": "code",
   "execution_count": 17,
   "metadata": {},
   "outputs": [
    {
     "data": {
      "text/plain": [
       "(-5.2698606250864355,\n",
       " 6.320230335911768e-06,\n",
       " 25,\n",
       " 1725,\n",
       " {'1%': -3.4341465551936534,\n",
       "  '5%': -2.863216966926812,\n",
       "  '10%': -2.567662770090317},\n",
       " 2619.6049719981947)"
      ]
     },
     "execution_count": 17,
     "metadata": {},
     "output_type": "execute_result"
    }
   ],
   "source": [
    "sm.tsa.stattools.adfuller(sub['rotationRate.x'], maxlag=None, regression='c', autolag='AIC', store=False, regresults=False)\n",
    "\n"
   ]
  },
  {
   "cell_type": "code",
   "execution_count": 18,
   "metadata": {
    "id": "xjsp1HNnOcmm"
   },
   "outputs": [
    {
     "data": {
      "text/plain": [
       "(-17.957994086169762,\n",
       " 2.823439483037483e-30,\n",
       " 4,\n",
       " 1746,\n",
       " {'1%': -3.434100824760071,\n",
       "  '5%': -2.863196780129223,\n",
       "  '10%': -2.5676520210882936},\n",
       " -727.6140124402791)"
      ]
     },
     "execution_count": 18,
     "metadata": {},
     "output_type": "execute_result"
    }
   ],
   "source": [
    "# userAcceleration.x is stationary\n",
    "\n",
    "sm.tsa.stattools.adfuller(sub['userAcceleration.x'], maxlag=None, regression='c', autolag='AIC', store=False, regresults=False)\n"
   ]
  },
  {
   "cell_type": "markdown",
   "metadata": {
    "id": "yJFmitaVOcmm"
   },
   "source": [
    "What are your conclusions from this test?"
   ]
  },
  {
   "cell_type": "markdown",
   "metadata": {
    "id": "IlTfUsKiOcmm"
   },
   "source": [
    "```Comments:``` ARMA models work on the assumption that the time series is stationary. Stationarity means that the statistical properties of a process generating a time series do not change over time. It does not mean that the series does not change over time, just that the way it changes does not itself change over time. In both cases, we can reject the null hypothesis that the time series is not stationary, so we can create an ARMA model."
   ]
  },
  {
   "cell_type": "markdown",
   "metadata": {
    "id": "XlsZGS2yOcmm"
   },
   "source": [
    "Finally, we'll create an ARMA model for `userAcceleration.x`. Load the `ARMA` function from `statsmodels`. The order of the model is (2, 1). Split the data to train and test. Use the last 10 observations as the test set and all other observations as the training set. "
   ]
  },
  {
   "cell_type": "code",
   "execution_count": 66,
   "metadata": {
    "id": "oYktvxd8Ocmn"
   },
   "outputs": [],
   "source": [
    "from statsmodels.tsa.arima.model import ARIMA\n",
    "#from statsmodels.tsa.stattools import arma_order_select_ic\n",
    "# ARMA of order (p,q) \n",
    "# p: order of the autoregressive model (AR).\n",
    "# q: order of the moving average model (MA).\n",
    "index = sub.shape[0]-10\n",
    "train = sub['userAcceleration.x'][:index]\n",
    "test = sub['userAcceleration.x'][index:]"
   ]
  },
  {
   "cell_type": "code",
   "execution_count": null,
   "metadata": {},
   "outputs": [],
   "source": [
    "#Model\n",
    "model = ARIMA(train, order =(2,0,1))\n",
    "arma = model.fit(train) \n",
    "\n"
   ]
  },
  {
   "cell_type": "markdown",
   "metadata": {},
   "source": [
    "predictions = model.predict(test)"
   ]
  },
  {
   "cell_type": "code",
   "execution_count": 79,
   "metadata": {},
   "outputs": [
    {
     "ename": "NotImplementedError",
     "evalue": "",
     "output_type": "error",
     "traceback": [
      "\u001b[0;31m---------------------------------------------------------------------------\u001b[0m",
      "\u001b[0;31mNotImplementedError\u001b[0m                       Traceback (most recent call last)",
      "\u001b[0;32m/var/folders/xp/ty2z29x15611_3wqlcw9vtx00000gn/T/ipykernel_11286/1553598136.py\u001b[0m in \u001b[0;36m<module>\u001b[0;34m\u001b[0m\n\u001b[0;32m----> 1\u001b[0;31m \u001b[0mpredictions\u001b[0m \u001b[0;34m=\u001b[0m \u001b[0mmodel\u001b[0m\u001b[0;34m.\u001b[0m\u001b[0mpredict\u001b[0m\u001b[0;34m(\u001b[0m\u001b[0;36m10\u001b[0m\u001b[0;34m)\u001b[0m\u001b[0;34m\u001b[0m\u001b[0;34m\u001b[0m\u001b[0m\n\u001b[0m\u001b[1;32m      2\u001b[0m \u001b[0mpredictions\u001b[0m\u001b[0;34m\u001b[0m\u001b[0;34m\u001b[0m\u001b[0m\n",
      "\u001b[0;32m/opt/anaconda3/lib/python3.9/site-packages/statsmodels/base/model.py\u001b[0m in \u001b[0;36mpredict\u001b[0;34m(self, params, exog, *args, **kwargs)\u001b[0m\n\u001b[1;32m    256\u001b[0m         \u001b[0mThis\u001b[0m \u001b[0;32mis\u001b[0m \u001b[0ma\u001b[0m \u001b[0mplaceholder\u001b[0m \u001b[0mintended\u001b[0m \u001b[0mto\u001b[0m \u001b[0mbe\u001b[0m \u001b[0moverwritten\u001b[0m \u001b[0mby\u001b[0m \u001b[0mindividual\u001b[0m \u001b[0mmodels\u001b[0m\u001b[0;34m.\u001b[0m\u001b[0;34m\u001b[0m\u001b[0;34m\u001b[0m\u001b[0m\n\u001b[1;32m    257\u001b[0m         \"\"\"\n\u001b[0;32m--> 258\u001b[0;31m         \u001b[0;32mraise\u001b[0m \u001b[0mNotImplementedError\u001b[0m\u001b[0;34m\u001b[0m\u001b[0;34m\u001b[0m\u001b[0m\n\u001b[0m\u001b[1;32m    259\u001b[0m \u001b[0;34m\u001b[0m\u001b[0m\n\u001b[1;32m    260\u001b[0m \u001b[0;34m\u001b[0m\u001b[0m\n",
      "\u001b[0;31mNotImplementedError\u001b[0m: "
     ]
    }
   ],
   "source": [
    "predictions = model.predict(10)\n",
    "predictions"
   ]
  },
  {
   "cell_type": "code",
   "execution_count": 21,
   "metadata": {
    "id": "FlLykZiqOcmn"
   },
   "outputs": [
    {
     "data": {
      "text/plain": [
       "{'bic':              0           1           2\n",
       " 0  1243.818158 -126.481172 -613.063293\n",
       " 1  -255.002789 -648.665658 -708.198073\n",
       " 2  -714.912487 -721.458233 -714.011542\n",
       " 3  -720.422475 -713.992949 -707.374504\n",
       " 4  -715.630626 -712.169887 -710.771790,\n",
       " 'bic_min_order': (2, 1)}"
      ]
     },
     "execution_count": 21,
     "metadata": {},
     "output_type": "execute_result"
    }
   ],
   "source": [
    "sm.tsa.stattools.arma_order_select_ic(sub['userAcceleration.x'] , max_ar=4, max_ma=2, ic='bic', trend='c', model_kw={}, fit_kw={})\n",
    "\n"
   ]
  },
  {
   "cell_type": "code",
   "execution_count": null,
   "metadata": {},
   "outputs": [],
   "source": []
  },
  {
   "cell_type": "markdown",
   "metadata": {
    "id": "MWLUSyoHOcmn"
   },
   "source": [
    "To compare our predictions with the observed data, we can compute the RMSE (Root Mean Squared Error) from the submodule `statsmodels.tools.eval_measures`. You can read more about this function [here](https://www.statsmodels.org/dev/generated/statsmodels.tools.eval_measures.rmse.html). Compute the RMSE for the last 10 rows of the data by comparing the observed and predicted data for the `userAcceleration.x` column."
   ]
  },
  {
   "cell_type": "code",
   "execution_count": 29,
   "metadata": {
    "id": "APrGjB8qOcmo"
   },
   "outputs": [],
   "source": [
    "from statsmodels.tools.eval_measures import rmse"
   ]
  },
  {
   "cell_type": "code",
   "execution_count": 44,
   "metadata": {
    "id": "ju7jLa_9Ocmo"
   },
   "outputs": [],
   "source": [
    "train = sub['userAcceleration.x'][:-10]\n",
    "test = sub['userAcceleration.x'].tail(10)"
   ]
  },
  {
   "cell_type": "code",
   "execution_count": 71,
   "metadata": {},
   "outputs": [
    {
     "ename": "TypeError",
     "evalue": "unsupported operand type(s) for -: 'ARIMAResultsWrapper' and 'ARIMAResultsWrapper'",
     "output_type": "error",
     "traceback": [
      "\u001b[0;31m---------------------------------------------------------------------------\u001b[0m",
      "\u001b[0;31mTypeError\u001b[0m                                 Traceback (most recent call last)",
      "\u001b[0;32m/var/folders/xp/ty2z29x15611_3wqlcw9vtx00000gn/T/ipykernel_11286/3640893089.py\u001b[0m in \u001b[0;36m<module>\u001b[0;34m\u001b[0m\n\u001b[0;32m----> 1\u001b[0;31m \u001b[0msm\u001b[0m\u001b[0;34m.\u001b[0m\u001b[0mtools\u001b[0m\u001b[0;34m.\u001b[0m\u001b[0meval_measures\u001b[0m\u001b[0;34m.\u001b[0m\u001b[0mrmse\u001b[0m\u001b[0;34m(\u001b[0m\u001b[0marma\u001b[0m\u001b[0;34m,\u001b[0m \u001b[0mpredictions\u001b[0m\u001b[0;34m,\u001b[0m \u001b[0maxis\u001b[0m\u001b[0;34m=\u001b[0m\u001b[0;36m0\u001b[0m\u001b[0;34m)\u001b[0m\u001b[0;34m\u001b[0m\u001b[0;34m\u001b[0m\u001b[0m\n\u001b[0m",
      "\u001b[0;32m/opt/anaconda3/lib/python3.9/site-packages/statsmodels/tools/eval_measures.py\u001b[0m in \u001b[0;36mrmse\u001b[0;34m(x1, x2, axis)\u001b[0m\n\u001b[1;32m     67\u001b[0m     \u001b[0mx1\u001b[0m \u001b[0;34m=\u001b[0m \u001b[0mnp\u001b[0m\u001b[0;34m.\u001b[0m\u001b[0masanyarray\u001b[0m\u001b[0;34m(\u001b[0m\u001b[0mx1\u001b[0m\u001b[0;34m)\u001b[0m\u001b[0;34m\u001b[0m\u001b[0;34m\u001b[0m\u001b[0m\n\u001b[1;32m     68\u001b[0m     \u001b[0mx2\u001b[0m \u001b[0;34m=\u001b[0m \u001b[0mnp\u001b[0m\u001b[0;34m.\u001b[0m\u001b[0masanyarray\u001b[0m\u001b[0;34m(\u001b[0m\u001b[0mx2\u001b[0m\u001b[0;34m)\u001b[0m\u001b[0;34m\u001b[0m\u001b[0;34m\u001b[0m\u001b[0m\n\u001b[0;32m---> 69\u001b[0;31m     \u001b[0;32mreturn\u001b[0m \u001b[0mnp\u001b[0m\u001b[0;34m.\u001b[0m\u001b[0msqrt\u001b[0m\u001b[0;34m(\u001b[0m\u001b[0mmse\u001b[0m\u001b[0;34m(\u001b[0m\u001b[0mx1\u001b[0m\u001b[0;34m,\u001b[0m \u001b[0mx2\u001b[0m\u001b[0;34m,\u001b[0m \u001b[0maxis\u001b[0m\u001b[0;34m=\u001b[0m\u001b[0maxis\u001b[0m\u001b[0;34m)\u001b[0m\u001b[0;34m)\u001b[0m\u001b[0;34m\u001b[0m\u001b[0;34m\u001b[0m\u001b[0m\n\u001b[0m\u001b[1;32m     70\u001b[0m \u001b[0;34m\u001b[0m\u001b[0m\n\u001b[1;32m     71\u001b[0m \u001b[0;34m\u001b[0m\u001b[0m\n",
      "\u001b[0;32m/opt/anaconda3/lib/python3.9/site-packages/statsmodels/tools/eval_measures.py\u001b[0m in \u001b[0;36mmse\u001b[0;34m(x1, x2, axis)\u001b[0m\n\u001b[1;32m     39\u001b[0m     \u001b[0mx1\u001b[0m \u001b[0;34m=\u001b[0m \u001b[0mnp\u001b[0m\u001b[0;34m.\u001b[0m\u001b[0masanyarray\u001b[0m\u001b[0;34m(\u001b[0m\u001b[0mx1\u001b[0m\u001b[0;34m)\u001b[0m\u001b[0;34m\u001b[0m\u001b[0;34m\u001b[0m\u001b[0m\n\u001b[1;32m     40\u001b[0m     \u001b[0mx2\u001b[0m \u001b[0;34m=\u001b[0m \u001b[0mnp\u001b[0m\u001b[0;34m.\u001b[0m\u001b[0masanyarray\u001b[0m\u001b[0;34m(\u001b[0m\u001b[0mx2\u001b[0m\u001b[0;34m)\u001b[0m\u001b[0;34m\u001b[0m\u001b[0;34m\u001b[0m\u001b[0m\n\u001b[0;32m---> 41\u001b[0;31m     \u001b[0;32mreturn\u001b[0m \u001b[0mnp\u001b[0m\u001b[0;34m.\u001b[0m\u001b[0mmean\u001b[0m\u001b[0;34m(\u001b[0m\u001b[0;34m(\u001b[0m\u001b[0mx1\u001b[0m \u001b[0;34m-\u001b[0m \u001b[0mx2\u001b[0m\u001b[0;34m)\u001b[0m \u001b[0;34m**\u001b[0m \u001b[0;36m2\u001b[0m\u001b[0;34m,\u001b[0m \u001b[0maxis\u001b[0m\u001b[0;34m=\u001b[0m\u001b[0maxis\u001b[0m\u001b[0;34m)\u001b[0m\u001b[0;34m\u001b[0m\u001b[0;34m\u001b[0m\u001b[0m\n\u001b[0m\u001b[1;32m     42\u001b[0m \u001b[0;34m\u001b[0m\u001b[0m\n\u001b[1;32m     43\u001b[0m \u001b[0;34m\u001b[0m\u001b[0m\n",
      "\u001b[0;31mTypeError\u001b[0m: unsupported operand type(s) for -: 'ARIMAResultsWrapper' and 'ARIMAResultsWrapper'"
     ]
    }
   ],
   "source": [
    "sm.tools.eval_measures.rmse(arma, predictions, axis=0)"
   ]
  },
  {
   "cell_type": "markdown",
   "metadata": {
    "id": "8KN_nE7eOcmo"
   },
   "source": [
    "```Comments:``` \n",
    "The RMSE is the square root of the variance of the residuals. It indicates the absolute fit of the model to the data, so how close the observed data points are to the model’s predicted values. Whereas R-squared is a relative measure of fit, RMSE is an absolute measure of fit. As the square root of a variance, RMSE can be interpreted as the standard deviation of the unexplained variance, and has the useful property of being in the same units as the response variable. Lower values of RMSE indicate better fit. RMSE is a good measure of how accurately the model predicts the response, and it is the most important criterion for fit if the main purpose of the model is prediction. We can say that the deviation from the true prediction is +/- 0.22."
   ]
  },
  {
   "cell_type": "code",
   "execution_count": null,
   "metadata": {},
   "outputs": [],
   "source": []
  }
 ],
 "metadata": {
  "colab": {
   "name": "main.ipynb",
   "provenance": []
  },
  "kernelspec": {
   "display_name": "Python 3 (ipykernel)",
   "language": "python",
   "name": "python3"
  },
  "language_info": {
   "codemirror_mode": {
    "name": "ipython",
    "version": 3
   },
   "file_extension": ".py",
   "mimetype": "text/x-python",
   "name": "python",
   "nbconvert_exporter": "python",
   "pygments_lexer": "ipython3",
   "version": "3.9.12"
  }
 },
 "nbformat": 4,
 "nbformat_minor": 1
}
