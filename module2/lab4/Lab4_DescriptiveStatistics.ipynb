{
  "cells": [
    {
      "cell_type": "markdown",
      "metadata": {
        "id": "qMZlTZ7csRFA"
      },
      "source": [
        "## Understanding Descriptive Statistics"
      ]
    },
    {
      "cell_type": "markdown",
      "metadata": {
        "id": "MZppduy8sRFL"
      },
      "source": [
        "Import the necessary libraries here:"
      ]
    },
    {
      "cell_type": "code",
      "execution_count": null,
      "metadata": {
        "id": "8G5YwW5tsRFN"
      },
      "outputs": [],
      "source": [
        "import random;\n",
        "import pandas as pd;\n",
        "import matplotlib.pyplot as plt;"
      ]
    },
    {
      "cell_type": "markdown",
      "metadata": {
        "id": "dwBrXzD7sRFR"
      },
      "source": [
        "## Challenge 1"
      ]
    },
    {
      "cell_type": "markdown",
      "metadata": {
        "id": "2FzWOmcCsRFS"
      },
      "source": [
        "### 1.- Define a function that simulates rolling a dice 10 times. Save the information in a dataframe.\n",
        "Hint: you can use the choices function from module random to help you with the simulation."
      ]
    },
    {
      "cell_type": "code",
      "execution_count": null,
      "metadata": {
        "id": "hw4GuNxRsRFU"
      },
      "outputs": [],
      "source": [
        "# Variables.\n",
        "times = 11;\n",
        "\n",
        "# Find the result of rolling a dice 10 times and store it in a dataframe.\n",
        "def roll_the_dice(times):\n",
        "    return random.choices(range(1,7), k=times)"
      ]
    },
    {
      "cell_type": "code",
      "execution_count": null,
      "metadata": {
        "id": "YJTlW4UCsRFV"
      },
      "outputs": [],
      "source": [
        "# Sort the values.\n",
        "dice_results = pd.DataFrame(roll_the_dice(times), columns=['Value'], index=range(1, times+1));\n",
        "sorted_dice_results = dice_results.sort_values('Value');"
      ]
    },
    {
      "cell_type": "code",
      "source": [
        "sorted_dice_results \n"
      ],
      "metadata": {
        "colab": {
          "base_uri": "https://localhost:8080/",
          "height": 394
        },
        "id": "0OOg_Kco0g0o",
        "outputId": "9b8aa7ff-8664-4641-a289-625f03a27bba"
      },
      "execution_count": null,
      "outputs": [
        {
          "output_type": "execute_result",
          "data": {
            "text/plain": [
              "    Value\n",
              "6       2\n",
              "7       2\n",
              "9       2\n",
              "10      2\n",
              "1       3\n",
              "4       3\n",
              "2       4\n",
              "3       4\n",
              "11      4\n",
              "5       6\n",
              "8       6"
            ],
            "text/html": [
              "\n",
              "  <div id=\"df-709c91a2-95d7-4d0d-8180-a8a8859fba4e\">\n",
              "    <div class=\"colab-df-container\">\n",
              "      <div>\n",
              "<style scoped>\n",
              "    .dataframe tbody tr th:only-of-type {\n",
              "        vertical-align: middle;\n",
              "    }\n",
              "\n",
              "    .dataframe tbody tr th {\n",
              "        vertical-align: top;\n",
              "    }\n",
              "\n",
              "    .dataframe thead th {\n",
              "        text-align: right;\n",
              "    }\n",
              "</style>\n",
              "<table border=\"1\" class=\"dataframe\">\n",
              "  <thead>\n",
              "    <tr style=\"text-align: right;\">\n",
              "      <th></th>\n",
              "      <th>Value</th>\n",
              "    </tr>\n",
              "  </thead>\n",
              "  <tbody>\n",
              "    <tr>\n",
              "      <th>6</th>\n",
              "      <td>2</td>\n",
              "    </tr>\n",
              "    <tr>\n",
              "      <th>7</th>\n",
              "      <td>2</td>\n",
              "    </tr>\n",
              "    <tr>\n",
              "      <th>9</th>\n",
              "      <td>2</td>\n",
              "    </tr>\n",
              "    <tr>\n",
              "      <th>10</th>\n",
              "      <td>2</td>\n",
              "    </tr>\n",
              "    <tr>\n",
              "      <th>1</th>\n",
              "      <td>3</td>\n",
              "    </tr>\n",
              "    <tr>\n",
              "      <th>4</th>\n",
              "      <td>3</td>\n",
              "    </tr>\n",
              "    <tr>\n",
              "      <th>2</th>\n",
              "      <td>4</td>\n",
              "    </tr>\n",
              "    <tr>\n",
              "      <th>3</th>\n",
              "      <td>4</td>\n",
              "    </tr>\n",
              "    <tr>\n",
              "      <th>11</th>\n",
              "      <td>4</td>\n",
              "    </tr>\n",
              "    <tr>\n",
              "      <th>5</th>\n",
              "      <td>6</td>\n",
              "    </tr>\n",
              "    <tr>\n",
              "      <th>8</th>\n",
              "      <td>6</td>\n",
              "    </tr>\n",
              "  </tbody>\n",
              "</table>\n",
              "</div>\n",
              "      <button class=\"colab-df-convert\" onclick=\"convertToInteractive('df-709c91a2-95d7-4d0d-8180-a8a8859fba4e')\"\n",
              "              title=\"Convert this dataframe to an interactive table.\"\n",
              "              style=\"display:none;\">\n",
              "        \n",
              "  <svg xmlns=\"http://www.w3.org/2000/svg\" height=\"24px\"viewBox=\"0 0 24 24\"\n",
              "       width=\"24px\">\n",
              "    <path d=\"M0 0h24v24H0V0z\" fill=\"none\"/>\n",
              "    <path d=\"M18.56 5.44l.94 2.06.94-2.06 2.06-.94-2.06-.94-.94-2.06-.94 2.06-2.06.94zm-11 1L8.5 8.5l.94-2.06 2.06-.94-2.06-.94L8.5 2.5l-.94 2.06-2.06.94zm10 10l.94 2.06.94-2.06 2.06-.94-2.06-.94-.94-2.06-.94 2.06-2.06.94z\"/><path d=\"M17.41 7.96l-1.37-1.37c-.4-.4-.92-.59-1.43-.59-.52 0-1.04.2-1.43.59L10.3 9.45l-7.72 7.72c-.78.78-.78 2.05 0 2.83L4 21.41c.39.39.9.59 1.41.59.51 0 1.02-.2 1.41-.59l7.78-7.78 2.81-2.81c.8-.78.8-2.07 0-2.86zM5.41 20L4 18.59l7.72-7.72 1.47 1.35L5.41 20z\"/>\n",
              "  </svg>\n",
              "      </button>\n",
              "      \n",
              "  <style>\n",
              "    .colab-df-container {\n",
              "      display:flex;\n",
              "      flex-wrap:wrap;\n",
              "      gap: 12px;\n",
              "    }\n",
              "\n",
              "    .colab-df-convert {\n",
              "      background-color: #E8F0FE;\n",
              "      border: none;\n",
              "      border-radius: 50%;\n",
              "      cursor: pointer;\n",
              "      display: none;\n",
              "      fill: #1967D2;\n",
              "      height: 32px;\n",
              "      padding: 0 0 0 0;\n",
              "      width: 32px;\n",
              "    }\n",
              "\n",
              "    .colab-df-convert:hover {\n",
              "      background-color: #E2EBFA;\n",
              "      box-shadow: 0px 1px 2px rgba(60, 64, 67, 0.3), 0px 1px 3px 1px rgba(60, 64, 67, 0.15);\n",
              "      fill: #174EA6;\n",
              "    }\n",
              "\n",
              "    [theme=dark] .colab-df-convert {\n",
              "      background-color: #3B4455;\n",
              "      fill: #D2E3FC;\n",
              "    }\n",
              "\n",
              "    [theme=dark] .colab-df-convert:hover {\n",
              "      background-color: #434B5C;\n",
              "      box-shadow: 0px 1px 3px 1px rgba(0, 0, 0, 0.15);\n",
              "      filter: drop-shadow(0px 1px 2px rgba(0, 0, 0, 0.3));\n",
              "      fill: #FFFFFF;\n",
              "    }\n",
              "  </style>\n",
              "\n",
              "      <script>\n",
              "        const buttonEl =\n",
              "          document.querySelector('#df-709c91a2-95d7-4d0d-8180-a8a8859fba4e button.colab-df-convert');\n",
              "        buttonEl.style.display =\n",
              "          google.colab.kernel.accessAllowed ? 'block' : 'none';\n",
              "\n",
              "        async function convertToInteractive(key) {\n",
              "          const element = document.querySelector('#df-709c91a2-95d7-4d0d-8180-a8a8859fba4e');\n",
              "          const dataTable =\n",
              "            await google.colab.kernel.invokeFunction('convertToInteractive',\n",
              "                                                     [key], {});\n",
              "          if (!dataTable) return;\n",
              "\n",
              "          const docLinkHtml = 'Like what you see? Visit the ' +\n",
              "            '<a target=\"_blank\" href=https://colab.research.google.com/notebooks/data_table.ipynb>data table notebook</a>'\n",
              "            + ' to learn more about interactive tables.';\n",
              "          element.innerHTML = '';\n",
              "          dataTable['output_type'] = 'display_data';\n",
              "          await google.colab.output.renderOutput(dataTable, element);\n",
              "          const docLink = document.createElement('div');\n",
              "          docLink.innerHTML = docLinkHtml;\n",
              "          element.appendChild(docLink);\n",
              "        }\n",
              "      </script>\n",
              "    </div>\n",
              "  </div>\n",
              "  "
            ]
          },
          "metadata": {},
          "execution_count": 5
        }
      ]
    },
    {
      "cell_type": "markdown",
      "metadata": {
        "id": "8ABsPsN2sRFZ"
      },
      "source": [
        "### 2.- Plot the results sorted by value."
      ]
    },
    {
      "cell_type": "code",
      "execution_count": null,
      "metadata": {
        "id": "vQdt1L35sRFb",
        "outputId": "4b20cbfa-70cd-4bd4-cd1e-26a71c1777bb",
        "colab": {
          "base_uri": "https://localhost:8080/",
          "height": 295
        }
      },
      "outputs": [
        {
          "output_type": "display_data",
          "data": {
            "text/plain": [
              "<Figure size 432x288 with 1 Axes>"
            ],
            "image/png": "[encoded data removed]"
          },
          "metadata": {
            "needs_background": "light"
          }
        }
      ],
      "source": [
        "sorted_dice_results[['Value']].plot(kind='bar', legend=None, rot=0);\n",
        "plt.xlabel('Throw');\n",
        "plt.ylabel('Dice Value');\n",
        "plt.title('Dice value for each throw');\n",
        "plt.show();"
      ]
    },
    {
      "cell_type": "markdown",
      "metadata": {
        "id": "Si7RurLqsRFf"
      },
      "source": [
        "### 3.- Calculate the frequency distribution and plot it. What is the relation between this plot and the plot above? Describe it with words."
      ]
    },
    {
      "cell_type": "code",
      "execution_count": null,
      "metadata": {
        "id": "1QGKc67-sRFg",
        "outputId": "241a28fe-0421-4bcc-ba35-2f0a4bc8f0ad",
        "colab": {
          "base_uri": "https://localhost:8080/",
          "height": 295
        }
      },
      "outputs": [
        {
          "output_type": "display_data",
          "data": {
            "text/plain": [
              "<Figure size 432x288 with 1 Axes>"
            ],
            "image/png": "[encoded data removed]"
          },
          "metadata": {
            "needs_background": "light"
          }
        }
      ],
      "source": [
        "bins = [n + 0.5 for n in range(0,7)];\n",
        "dice_results.hist(bins=bins, grid=False);\n",
        "plt.xlabel('Dice Value');\n",
        "plt.ylabel('Value Count');\n",
        "plt.title('Histogram');\n",
        "\n",
        "# Show the plot.\n",
        "plt.show()"
      ]
    },
    {
      "cell_type": "markdown",
      "metadata": {
        "id": "2vLgXiNGsRFi"
      },
      "source": [
        "`Comments:`\n",
        "\n",
        "Both plots shows how many times a number has been rolled. From both plots we can see that number 1 only showed 1 times, number 2 showed 3 times, etc."
      ]
    },
    {
      "cell_type": "markdown",
      "metadata": {
        "id": "Pq4p7CSasRFk"
      },
      "source": [
        "## Challenge 2"
      ]
    },
    {
      "cell_type": "markdown",
      "metadata": {
        "id": "wLpoi5vfsRFl"
      },
      "source": [
        "Now, using the dice results obtained in challenge 1, your are going to define some functions that will help you calculate the mean of your data in two different ways, the median and the four quartiles."
      ]
    },
    {
      "cell_type": "markdown",
      "metadata": {
        "id": "lKm5HPnKsRFm"
      },
      "source": [
        "#### 1.- Define a function that computes the mean by summing all the observations and dividing by the total number of observations. You are not allowed to use any methods or functions that directly calculate the mean value."
      ]
    },
    {
      "cell_type": "code",
      "execution_count": null,
      "metadata": {
        "id": "xi9up38GsRFn"
      },
      "outputs": [],
      "source": [
        "def reset_df_indexes(df):\n",
        "    df = df.reset_index(drop=True)\n",
        "    df.index = range(1,len(df)+1)\n",
        "    return df\n",
        "\n",
        "def mean_calculation_method_one(df):\n",
        "    return df['Value'].sum() / len(df['Value'])"
      ]
    },
    {
      "cell_type": "markdown",
      "metadata": {
        "id": "G1NT9p-CsRFp"
      },
      "source": [
        "#### 2.- First, calculate the frequency distribution. Then, calculate the mean using the values of the frequency distribution you've just computed. You are not allowed to use any methods or functions that directly calculate the mean value."
      ]
    },
    {
      "cell_type": "code",
      "source": [],
      "metadata": {
        "id": "iaAHwluC9ChL"
      },
      "execution_count": null,
      "outputs": []
    },
    {
      "cell_type": "code",
      "execution_count": null,
      "metadata": {
        "id": "wMWWeGoAsRFq"
      },
      "outputs": [],
      "source": [
        "def mean_calculation_method_two(df):\n",
        "    frequency = df['Value'].value_counts().values\n",
        "    dice_value = df['Value'].value_counts().index\n",
        "    return sum(dice_value * frequency) / len(df['Value'])\n"
      ]
    },
    {
      "cell_type": "markdown",
      "metadata": {
        "id": "Az1Fgl1DsRFr"
      },
      "source": [
        "#### 3.- Define a function to calculate the median. You are not allowed to use any methods or functions that directly calculate the median value.\n",
        "Hint: you might need to define two computation cases depending on the number of observations used to calculate the median."
      ]
    },
    {
      "cell_type": "code",
      "execution_count": null,
      "metadata": {
        "id": "7zs0udaysRFs"
      },
      "outputs": [],
      "source": [
        "def median_calculation(df):\n",
        "    if len(df['Value']) % 2 == 0:\n",
        "        x=(df['Value'][len(df) // 2] + df['Value'][(len(df) // 2) - 1]) / 2\n",
        "    else:\n",
        "        x=df['Value'][(len(df) // 2) - 1]\n",
        "    return x"
      ]
    },
    {
      "cell_type": "markdown",
      "metadata": {
        "id": "xhDB1618sRFu"
      },
      "source": [
        "#### 4.- Define a function to calculate the four quartiles. You can use the function you defined above to compute the median but you are not allowed to use any methods or functions that directly calculate the quartiles."
      ]
    },
    {
      "cell_type": "code",
      "execution_count": null,
      "metadata": {
        "id": "5zgNqxG9sRFu"
      },
      "outputs": [],
      "source": [
        "def quartiles_calculation(df):\n",
        "    Q2 = median_calculation(df)\n",
        "    index = len(sorted_dice_results['Value']) // 2\n",
        "    if len(df['Value']) % 2 == 0:\n",
        "        lower_df = df.iloc[0:index]\n",
        "        upper_df = df.iloc[index:]\n",
        "    else:\n",
        "        lower_df = df.iloc[0:index-1]\n",
        "        upper_df = df.iloc[index+1:]\n",
        "    upper_df = reset_df_indexes(upper_df)\n",
        "    Q1 = median_calculation(lower_df)\n",
        "    Q3 = median_calculation(upper_df)\n",
        "    return Q1,Q2,Q3"
      ]
    },
    {
      "cell_type": "code",
      "source": [
        "#Another Method: \n",
        "def quartiles(df):\n",
        "    Q2 = median_calculation(df)\n",
        "    Q = df['Value'].quantile([0.25,0.5,0.75])\n",
        "    return Q\n",
        "quartiles(df)"
      ],
      "metadata": {
        "id": "zUP_FUvw-NK8"
      },
      "execution_count": null,
      "outputs": []
    },
    {
      "cell_type": "code",
      "execution_count": null,
      "metadata": {
        "id": "vdn7yY_xsRFv"
      },
      "outputs": [],
      "source": [
        "sorted_dice_results = reset_df_indexes(sorted_dice_results)\n",
        "Q1, Q2, Q3 = quartiles_calculation(sorted_dice_results)"
      ]
    },
    {
      "cell_type": "code",
      "execution_count": null,
      "metadata": {
        "id": "9qHqSft2sRFx",
        "outputId": "7f9da946-39cf-47e4-aac9-9e03d2aa374c",
        "colab": {
          "base_uri": "https://localhost:8080/"
        }
      },
      "outputs": [
        {
          "output_type": "stream",
          "name": "stdout",
          "text": [
            "The event was: \n",
            "\n",
            "     Value\n",
            "1       2\n",
            "2       2\n",
            "3       2\n",
            "4       2\n",
            "5       3\n",
            "6       3\n",
            "7       4\n",
            "8       4\n",
            "9       4\n",
            "10      6\n",
            "11      6\n",
            "\n",
            "Mean Method 1: 3.4545454545454546\n",
            "Mean Method 2: 3.4545454545454546\n",
            "Median: 3\n",
            "Q1: 2.0\n",
            "Q2: 3\n",
            "Q3: 4\n"
          ]
        }
      ],
      "source": [
        "print(f'The event was: \\n\\n {sorted_dice_results}\\n')\n",
        "print(f'Mean Method 1: {mean_calculation_method_one(dice_results)}')\n",
        "print(f'Mean Method 2: {mean_calculation_method_two(dice_results)}')\n",
        "print(f'Median: {median_calculation(sorted_dice_results)}')\n",
        "print(f'Q1: {Q1}')\n",
        "print(f'Q2: {Q2}')\n",
        "print(f'Q3: {Q3}')"
      ]
    },
    {
      "cell_type": "code",
      "execution_count": null,
      "metadata": {
        "id": "wxBRmc5dsRFy",
        "outputId": "0d3d8451-55e4-4b2d-8cfb-2331b7f78728",
        "colab": {
          "base_uri": "https://localhost:8080/",
          "height": 300
        }
      },
      "outputs": [
        {
          "output_type": "execute_result",
          "data": {
            "text/plain": [
              "           Value\n",
              "count  11.000000\n",
              "mean    3.454545\n",
              "std     1.507557\n",
              "min     2.000000\n",
              "25%     2.000000\n",
              "50%     3.000000\n",
              "75%     4.000000\n",
              "max     6.000000"
            ],
            "text/html": [
              "\n",
              "  <div id=\"df-b1eb2e13-09fe-4638-b26f-7cca53f9b07a\">\n",
              "    <div class=\"colab-df-container\">\n",
              "      <div>\n",
              "<style scoped>\n",
              "    .dataframe tbody tr th:only-of-type {\n",
              "        vertical-align: middle;\n",
              "    }\n",
              "\n",
              "    .dataframe tbody tr th {\n",
              "        vertical-align: top;\n",
              "    }\n",
              "\n",
              "    .dataframe thead th {\n",
              "        text-align: right;\n",
              "    }\n",
              "</style>\n",
              "<table border=\"1\" class=\"dataframe\">\n",
              "  <thead>\n",
              "    <tr style=\"text-align: right;\">\n",
              "      <th></th>\n",
              "      <th>Value</th>\n",
              "    </tr>\n",
              "  </thead>\n",
              "  <tbody>\n",
              "    <tr>\n",
              "      <th>count</th>\n",
              "      <td>11.000000</td>\n",
              "    </tr>\n",
              "    <tr>\n",
              "      <th>mean</th>\n",
              "      <td>3.454545</td>\n",
              "    </tr>\n",
              "    <tr>\n",
              "      <th>std</th>\n",
              "      <td>1.507557</td>\n",
              "    </tr>\n",
              "    <tr>\n",
              "      <th>min</th>\n",
              "      <td>2.000000</td>\n",
              "    </tr>\n",
              "    <tr>\n",
              "      <th>25%</th>\n",
              "      <td>2.000000</td>\n",
              "    </tr>\n",
              "    <tr>\n",
              "      <th>50%</th>\n",
              "      <td>3.000000</td>\n",
              "    </tr>\n",
              "    <tr>\n",
              "      <th>75%</th>\n",
              "      <td>4.000000</td>\n",
              "    </tr>\n",
              "    <tr>\n",
              "      <th>max</th>\n",
              "      <td>6.000000</td>\n",
              "    </tr>\n",
              "  </tbody>\n",
              "</table>\n",
              "</div>\n",
              "      <button class=\"colab-df-convert\" onclick=\"convertToInteractive('df-b1eb2e13-09fe-4638-b26f-7cca53f9b07a')\"\n",
              "              title=\"Convert this dataframe to an interactive table.\"\n",
              "              style=\"display:none;\">\n",
              "        \n",
              "  <svg xmlns=\"http://www.w3.org/2000/svg\" height=\"24px\"viewBox=\"0 0 24 24\"\n",
              "       width=\"24px\">\n",
              "    <path d=\"M0 0h24v24H0V0z\" fill=\"none\"/>\n",
              "    <path d=\"M18.56 5.44l.94 2.06.94-2.06 2.06-.94-2.06-.94-.94-2.06-.94 2.06-2.06.94zm-11 1L8.5 8.5l.94-2.06 2.06-.94-2.06-.94L8.5 2.5l-.94 2.06-2.06.94zm10 10l.94 2.06.94-2.06 2.06-.94-2.06-.94-.94-2.06-.94 2.06-2.06.94z\"/><path d=\"M17.41 7.96l-1.37-1.37c-.4-.4-.92-.59-1.43-.59-.52 0-1.04.2-1.43.59L10.3 9.45l-7.72 7.72c-.78.78-.78 2.05 0 2.83L4 21.41c.39.39.9.59 1.41.59.51 0 1.02-.2 1.41-.59l7.78-7.78 2.81-2.81c.8-.78.8-2.07 0-2.86zM5.41 20L4 18.59l7.72-7.72 1.47 1.35L5.41 20z\"/>\n",
              "  </svg>\n",
              "      </button>\n",
              "      \n",
              "  <style>\n",
              "    .colab-df-container {\n",
              "      display:flex;\n",
              "      flex-wrap:wrap;\n",
              "      gap: 12px;\n",
              "    }\n",
              "\n",
              "    .colab-df-convert {\n",
              "      background-color: #E8F0FE;\n",
              "      border: none;\n",
              "      border-radius: 50%;\n",
              "      cursor: pointer;\n",
              "      display: none;\n",
              "      fill: #1967D2;\n",
              "      height: 32px;\n",
              "      padding: 0 0 0 0;\n",
              "      width: 32px;\n",
              "    }\n",
              "\n",
              "    .colab-df-convert:hover {\n",
              "      background-color: #E2EBFA;\n",
              "      box-shadow: 0px 1px 2px rgba(60, 64, 67, 0.3), 0px 1px 3px 1px rgba(60, 64, 67, 0.15);\n",
              "      fill: #174EA6;\n",
              "    }\n",
              "\n",
              "    [theme=dark] .colab-df-convert {\n",
              "      background-color: #3B4455;\n",
              "      fill: #D2E3FC;\n",
              "    }\n",
              "\n",
              "    [theme=dark] .colab-df-convert:hover {\n",
              "      background-color: #434B5C;\n",
              "      box-shadow: 0px 1px 3px 1px rgba(0, 0, 0, 0.15);\n",
              "      filter: drop-shadow(0px 1px 2px rgba(0, 0, 0, 0.3));\n",
              "      fill: #FFFFFF;\n",
              "    }\n",
              "  </style>\n",
              "\n",
              "      <script>\n",
              "        const buttonEl =\n",
              "          document.querySelector('#df-b1eb2e13-09fe-4638-b26f-7cca53f9b07a button.colab-df-convert');\n",
              "        buttonEl.style.display =\n",
              "          google.colab.kernel.accessAllowed ? 'block' : 'none';\n",
              "\n",
              "        async function convertToInteractive(key) {\n",
              "          const element = document.querySelector('#df-b1eb2e13-09fe-4638-b26f-7cca53f9b07a');\n",
              "          const dataTable =\n",
              "            await google.colab.kernel.invokeFunction('convertToInteractive',\n",
              "                                                     [key], {});\n",
              "          if (!dataTable) return;\n",
              "\n",
              "          const docLinkHtml = 'Like what you see? Visit the ' +\n",
              "            '<a target=\"_blank\" href=https://colab.research.google.com/notebooks/data_table.ipynb>data table notebook</a>'\n",
              "            + ' to learn more about interactive tables.';\n",
              "          element.innerHTML = '';\n",
              "          dataTable['output_type'] = 'display_data';\n",
              "          await google.colab.output.renderOutput(dataTable, element);\n",
              "          const docLink = document.createElement('div');\n",
              "          docLink.innerHTML = docLinkHtml;\n",
              "          element.appendChild(docLink);\n",
              "        }\n",
              "      </script>\n",
              "    </div>\n",
              "  </div>\n",
              "  "
            ]
          },
          "metadata": {},
          "execution_count": 14
        }
      ],
      "source": [
        "sorted_dice_results.describe()"
      ]
    },
    {
      "cell_type": "markdown",
      "metadata": {
        "id": "irgqdCajsRF0"
      },
      "source": [
        "## Challenge 3"
      ]
    },
    {
      "cell_type": "markdown",
      "metadata": {
        "id": "Y4QiXLXlsRF0"
      },
      "source": [
        "Read the csv `roll_the_dice_hundred.csv`"
      ]
    },
    {
      "cell_type": "code",
      "execution_count": null,
      "metadata": {
        "id": "1vezNVVdsRF1",
        "colab": {
          "base_uri": "https://localhost:8080/",
          "height": 346
        },
        "outputId": "67f25196-f987-4a5d-e35f-6202de34ff3c"
      },
      "outputs": [
        {
          "output_type": "error",
          "ename": "FileNotFoundError",
          "evalue": "ignored",
          "traceback": [
            "\u001b[0;31m---------------------------------------------------------------------------\u001b[0m",
            "\u001b[0;31mFileNotFoundError\u001b[0m                         Traceback (most recent call last)",
            "\u001b[0;32m<ipython-input-15-b80d870f8005>\u001b[0m in \u001b[0;36m<module>\u001b[0;34m()\u001b[0m\n\u001b[0;32m----> 1\u001b[0;31m \u001b[0mroll_the_dice_hundred\u001b[0m \u001b[0;34m=\u001b[0m \u001b[0mpd\u001b[0m\u001b[0;34m.\u001b[0m\u001b[0mread_csv\u001b[0m\u001b[0;34m(\u001b[0m\u001b[0;34mr'data/roll_the_dice_hundred.csv'\u001b[0m\u001b[0;34m,\u001b[0m \u001b[0mindex_col\u001b[0m\u001b[0;34m=\u001b[0m\u001b[0;36m0\u001b[0m\u001b[0;34m)\u001b[0m\u001b[0;34m\u001b[0m\u001b[0;34m\u001b[0m\u001b[0m\n\u001b[0m\u001b[1;32m      2\u001b[0m \u001b[0mroll_the_dice_hundred\u001b[0m\u001b[0;34m.\u001b[0m\u001b[0mcolumns\u001b[0m \u001b[0;34m=\u001b[0m \u001b[0;34m[\u001b[0m\u001b[0;34m'Roll'\u001b[0m\u001b[0;34m,\u001b[0m \u001b[0;34m'Value'\u001b[0m\u001b[0;34m]\u001b[0m\u001b[0;34m\u001b[0m\u001b[0;34m\u001b[0m\u001b[0m\n",
            "\u001b[0;32m/usr/local/lib/python3.7/dist-packages/pandas/util/_decorators.py\u001b[0m in \u001b[0;36mwrapper\u001b[0;34m(*args, **kwargs)\u001b[0m\n\u001b[1;32m    309\u001b[0m                     \u001b[0mstacklevel\u001b[0m\u001b[0;34m=\u001b[0m\u001b[0mstacklevel\u001b[0m\u001b[0;34m,\u001b[0m\u001b[0;34m\u001b[0m\u001b[0;34m\u001b[0m\u001b[0m\n\u001b[1;32m    310\u001b[0m                 )\n\u001b[0;32m--> 311\u001b[0;31m             \u001b[0;32mreturn\u001b[0m \u001b[0mfunc\u001b[0m\u001b[0;34m(\u001b[0m\u001b[0;34m*\u001b[0m\u001b[0margs\u001b[0m\u001b[0;34m,\u001b[0m \u001b[0;34m**\u001b[0m\u001b[0mkwargs\u001b[0m\u001b[0;34m)\u001b[0m\u001b[0;34m\u001b[0m\u001b[0;34m\u001b[0m\u001b[0m\n\u001b[0m\u001b[1;32m    312\u001b[0m \u001b[0;34m\u001b[0m\u001b[0m\n\u001b[1;32m    313\u001b[0m         \u001b[0;32mreturn\u001b[0m \u001b[0mwrapper\u001b[0m\u001b[0;34m\u001b[0m\u001b[0;34m\u001b[0m\u001b[0m\n",
            "\u001b[0;32m/usr/local/lib/python3.7/dist-packages/pandas/io/parsers/readers.py\u001b[0m in \u001b[0;36mread_csv\u001b[0;34m(filepath_or_buffer, sep, delimiter, header, names, index_col, usecols, squeeze, prefix, mangle_dupe_cols, dtype, engine, converters, true_values, false_values, skipinitialspace, skiprows, skipfooter, nrows, na_values, keep_default_na, na_filter, verbose, skip_blank_lines, parse_dates, infer_datetime_format, keep_date_col, date_parser, dayfirst, cache_dates, iterator, chunksize, compression, thousands, decimal, lineterminator, quotechar, quoting, doublequote, escapechar, comment, encoding, encoding_errors, dialect, error_bad_lines, warn_bad_lines, on_bad_lines, delim_whitespace, low_memory, memory_map, float_precision, storage_options)\u001b[0m\n\u001b[1;32m    584\u001b[0m     \u001b[0mkwds\u001b[0m\u001b[0;34m.\u001b[0m\u001b[0mupdate\u001b[0m\u001b[0;34m(\u001b[0m\u001b[0mkwds_defaults\u001b[0m\u001b[0;34m)\u001b[0m\u001b[0;34m\u001b[0m\u001b[0;34m\u001b[0m\u001b[0m\n\u001b[1;32m    585\u001b[0m \u001b[0;34m\u001b[0m\u001b[0m\n\u001b[0;32m--> 586\u001b[0;31m     \u001b[0;32mreturn\u001b[0m \u001b[0m_read\u001b[0m\u001b[0;34m(\u001b[0m\u001b[0mfilepath_or_buffer\u001b[0m\u001b[0;34m,\u001b[0m \u001b[0mkwds\u001b[0m\u001b[0;34m)\u001b[0m\u001b[0;34m\u001b[0m\u001b[0;34m\u001b[0m\u001b[0m\n\u001b[0m\u001b[1;32m    587\u001b[0m \u001b[0;34m\u001b[0m\u001b[0m\n\u001b[1;32m    588\u001b[0m \u001b[0;34m\u001b[0m\u001b[0m\n",
            "\u001b[0;32m/usr/local/lib/python3.7/dist-packages/pandas/io/parsers/readers.py\u001b[0m in \u001b[0;36m_read\u001b[0;34m(filepath_or_buffer, kwds)\u001b[0m\n\u001b[1;32m    480\u001b[0m \u001b[0;34m\u001b[0m\u001b[0m\n\u001b[1;32m    481\u001b[0m     \u001b[0;31m# Create the parser.\u001b[0m\u001b[0;34m\u001b[0m\u001b[0;34m\u001b[0m\u001b[0;34m\u001b[0m\u001b[0m\n\u001b[0;32m--> 482\u001b[0;31m     \u001b[0mparser\u001b[0m \u001b[0;34m=\u001b[0m \u001b[0mTextFileReader\u001b[0m\u001b[0;34m(\u001b[0m\u001b[0mfilepath_or_buffer\u001b[0m\u001b[0;34m,\u001b[0m \u001b[0;34m**\u001b[0m\u001b[0mkwds\u001b[0m\u001b[0;34m)\u001b[0m\u001b[0;34m\u001b[0m\u001b[0;34m\u001b[0m\u001b[0m\n\u001b[0m\u001b[1;32m    483\u001b[0m \u001b[0;34m\u001b[0m\u001b[0m\n\u001b[1;32m    484\u001b[0m     \u001b[0;32mif\u001b[0m \u001b[0mchunksize\u001b[0m \u001b[0;32mor\u001b[0m \u001b[0miterator\u001b[0m\u001b[0;34m:\u001b[0m\u001b[0;34m\u001b[0m\u001b[0;34m\u001b[0m\u001b[0m\n",
            "\u001b[0;32m/usr/local/lib/python3.7/dist-packages/pandas/io/parsers/readers.py\u001b[0m in \u001b[0;36m__init__\u001b[0;34m(self, f, engine, **kwds)\u001b[0m\n\u001b[1;32m    809\u001b[0m             \u001b[0mself\u001b[0m\u001b[0;34m.\u001b[0m\u001b[0moptions\u001b[0m\u001b[0;34m[\u001b[0m\u001b[0;34m\"has_index_names\"\u001b[0m\u001b[0;34m]\u001b[0m \u001b[0;34m=\u001b[0m \u001b[0mkwds\u001b[0m\u001b[0;34m[\u001b[0m\u001b[0;34m\"has_index_names\"\u001b[0m\u001b[0;34m]\u001b[0m\u001b[0;34m\u001b[0m\u001b[0;34m\u001b[0m\u001b[0m\n\u001b[1;32m    810\u001b[0m \u001b[0;34m\u001b[0m\u001b[0m\n\u001b[0;32m--> 811\u001b[0;31m         \u001b[0mself\u001b[0m\u001b[0;34m.\u001b[0m\u001b[0m_engine\u001b[0m \u001b[0;34m=\u001b[0m \u001b[0mself\u001b[0m\u001b[0;34m.\u001b[0m\u001b[0m_make_engine\u001b[0m\u001b[0;34m(\u001b[0m\u001b[0mself\u001b[0m\u001b[0;34m.\u001b[0m\u001b[0mengine\u001b[0m\u001b[0;34m)\u001b[0m\u001b[0;34m\u001b[0m\u001b[0;34m\u001b[0m\u001b[0m\n\u001b[0m\u001b[1;32m    812\u001b[0m \u001b[0;34m\u001b[0m\u001b[0m\n\u001b[1;32m    813\u001b[0m     \u001b[0;32mdef\u001b[0m \u001b[0mclose\u001b[0m\u001b[0;34m(\u001b[0m\u001b[0mself\u001b[0m\u001b[0;34m)\u001b[0m\u001b[0;34m:\u001b[0m\u001b[0;34m\u001b[0m\u001b[0;34m\u001b[0m\u001b[0m\n",
            "\u001b[0;32m/usr/local/lib/python3.7/dist-packages/pandas/io/parsers/readers.py\u001b[0m in \u001b[0;36m_make_engine\u001b[0;34m(self, engine)\u001b[0m\n\u001b[1;32m   1038\u001b[0m             )\n\u001b[1;32m   1039\u001b[0m         \u001b[0;31m# error: Too many arguments for \"ParserBase\"\u001b[0m\u001b[0;34m\u001b[0m\u001b[0;34m\u001b[0m\u001b[0;34m\u001b[0m\u001b[0m\n\u001b[0;32m-> 1040\u001b[0;31m         \u001b[0;32mreturn\u001b[0m \u001b[0mmapping\u001b[0m\u001b[0;34m[\u001b[0m\u001b[0mengine\u001b[0m\u001b[0;34m]\u001b[0m\u001b[0;34m(\u001b[0m\u001b[0mself\u001b[0m\u001b[0;34m.\u001b[0m\u001b[0mf\u001b[0m\u001b[0;34m,\u001b[0m \u001b[0;34m**\u001b[0m\u001b[0mself\u001b[0m\u001b[0;34m.\u001b[0m\u001b[0moptions\u001b[0m\u001b[0;34m)\u001b[0m  \u001b[0;31m# type: ignore[call-arg]\u001b[0m\u001b[0;34m\u001b[0m\u001b[0;34m\u001b[0m\u001b[0m\n\u001b[0m\u001b[1;32m   1041\u001b[0m \u001b[0;34m\u001b[0m\u001b[0m\n\u001b[1;32m   1042\u001b[0m     \u001b[0;32mdef\u001b[0m \u001b[0m_failover_to_python\u001b[0m\u001b[0;34m(\u001b[0m\u001b[0mself\u001b[0m\u001b[0;34m)\u001b[0m\u001b[0;34m:\u001b[0m\u001b[0;34m\u001b[0m\u001b[0;34m\u001b[0m\u001b[0m\n",
            "\u001b[0;32m/usr/local/lib/python3.7/dist-packages/pandas/io/parsers/c_parser_wrapper.py\u001b[0m in \u001b[0;36m__init__\u001b[0;34m(self, src, **kwds)\u001b[0m\n\u001b[1;32m     49\u001b[0m \u001b[0;34m\u001b[0m\u001b[0m\n\u001b[1;32m     50\u001b[0m         \u001b[0;31m# open handles\u001b[0m\u001b[0;34m\u001b[0m\u001b[0;34m\u001b[0m\u001b[0;34m\u001b[0m\u001b[0m\n\u001b[0;32m---> 51\u001b[0;31m         \u001b[0mself\u001b[0m\u001b[0;34m.\u001b[0m\u001b[0m_open_handles\u001b[0m\u001b[0;34m(\u001b[0m\u001b[0msrc\u001b[0m\u001b[0;34m,\u001b[0m \u001b[0mkwds\u001b[0m\u001b[0;34m)\u001b[0m\u001b[0;34m\u001b[0m\u001b[0;34m\u001b[0m\u001b[0m\n\u001b[0m\u001b[1;32m     52\u001b[0m         \u001b[0;32massert\u001b[0m \u001b[0mself\u001b[0m\u001b[0;34m.\u001b[0m\u001b[0mhandles\u001b[0m \u001b[0;32mis\u001b[0m \u001b[0;32mnot\u001b[0m \u001b[0;32mNone\u001b[0m\u001b[0;34m\u001b[0m\u001b[0;34m\u001b[0m\u001b[0m\n\u001b[1;32m     53\u001b[0m \u001b[0;34m\u001b[0m\u001b[0m\n",
            "\u001b[0;32m/usr/local/lib/python3.7/dist-packages/pandas/io/parsers/base_parser.py\u001b[0m in \u001b[0;36m_open_handles\u001b[0;34m(self, src, kwds)\u001b[0m\n\u001b[1;32m    227\u001b[0m             \u001b[0mmemory_map\u001b[0m\u001b[0;34m=\u001b[0m\u001b[0mkwds\u001b[0m\u001b[0;34m.\u001b[0m\u001b[0mget\u001b[0m\u001b[0;34m(\u001b[0m\u001b[0;34m\"memory_map\"\u001b[0m\u001b[0;34m,\u001b[0m \u001b[0;32mFalse\u001b[0m\u001b[0;34m)\u001b[0m\u001b[0;34m,\u001b[0m\u001b[0;34m\u001b[0m\u001b[0;34m\u001b[0m\u001b[0m\n\u001b[1;32m    228\u001b[0m             \u001b[0mstorage_options\u001b[0m\u001b[0;34m=\u001b[0m\u001b[0mkwds\u001b[0m\u001b[0;34m.\u001b[0m\u001b[0mget\u001b[0m\u001b[0;34m(\u001b[0m\u001b[0;34m\"storage_options\"\u001b[0m\u001b[0;34m,\u001b[0m \u001b[0;32mNone\u001b[0m\u001b[0;34m)\u001b[0m\u001b[0;34m,\u001b[0m\u001b[0;34m\u001b[0m\u001b[0;34m\u001b[0m\u001b[0m\n\u001b[0;32m--> 229\u001b[0;31m             \u001b[0merrors\u001b[0m\u001b[0;34m=\u001b[0m\u001b[0mkwds\u001b[0m\u001b[0;34m.\u001b[0m\u001b[0mget\u001b[0m\u001b[0;34m(\u001b[0m\u001b[0;34m\"encoding_errors\"\u001b[0m\u001b[0;34m,\u001b[0m \u001b[0;34m\"strict\"\u001b[0m\u001b[0;34m)\u001b[0m\u001b[0;34m,\u001b[0m\u001b[0;34m\u001b[0m\u001b[0;34m\u001b[0m\u001b[0m\n\u001b[0m\u001b[1;32m    230\u001b[0m         )\n\u001b[1;32m    231\u001b[0m \u001b[0;34m\u001b[0m\u001b[0m\n",
            "\u001b[0;32m/usr/local/lib/python3.7/dist-packages/pandas/io/common.py\u001b[0m in \u001b[0;36mget_handle\u001b[0;34m(path_or_buf, mode, encoding, compression, memory_map, is_text, errors, storage_options)\u001b[0m\n\u001b[1;32m    705\u001b[0m                 \u001b[0mencoding\u001b[0m\u001b[0;34m=\u001b[0m\u001b[0mioargs\u001b[0m\u001b[0;34m.\u001b[0m\u001b[0mencoding\u001b[0m\u001b[0;34m,\u001b[0m\u001b[0;34m\u001b[0m\u001b[0;34m\u001b[0m\u001b[0m\n\u001b[1;32m    706\u001b[0m                 \u001b[0merrors\u001b[0m\u001b[0;34m=\u001b[0m\u001b[0merrors\u001b[0m\u001b[0;34m,\u001b[0m\u001b[0;34m\u001b[0m\u001b[0;34m\u001b[0m\u001b[0m\n\u001b[0;32m--> 707\u001b[0;31m                 \u001b[0mnewline\u001b[0m\u001b[0;34m=\u001b[0m\u001b[0;34m\"\"\u001b[0m\u001b[0;34m,\u001b[0m\u001b[0;34m\u001b[0m\u001b[0;34m\u001b[0m\u001b[0m\n\u001b[0m\u001b[1;32m    708\u001b[0m             )\n\u001b[1;32m    709\u001b[0m         \u001b[0;32melse\u001b[0m\u001b[0;34m:\u001b[0m\u001b[0;34m\u001b[0m\u001b[0;34m\u001b[0m\u001b[0m\n",
            "\u001b[0;31mFileNotFoundError\u001b[0m: [Errno 2] No such file or directory: 'data/roll_the_dice_hundred.csv'"
          ]
        }
      ],
      "source": [
        "roll_the_dice_hundred = pd.read_csv(r'data/roll_the_dice_hundred.csv', index_col=0)\n",
        "roll_the_dice_hundred.columns = ['Roll', 'Value']"
      ]
    },
    {
      "cell_type": "markdown",
      "metadata": {
        "id": "eisAIW3QsRF3"
      },
      "source": [
        "#### 1.- Sort the values and plot them. What do you see?"
      ]
    },
    {
      "cell_type": "code",
      "execution_count": null,
      "metadata": {
        "id": "IM_xSAsDsRF5",
        "colab": {
          "base_uri": "https://localhost:8080/",
          "height": 166
        },
        "outputId": "36630f0f-7632-41d0-8a62-ca92030f4057"
      },
      "outputs": [
        {
          "output_type": "error",
          "ename": "NameError",
          "evalue": "ignored",
          "traceback": [
            "\u001b[0;31m---------------------------------------------------------------------------\u001b[0m",
            "\u001b[0;31mNameError\u001b[0m                                 Traceback (most recent call last)",
            "\u001b[0;32m<ipython-input-16-7088e9cfa1e7>\u001b[0m in \u001b[0;36m<module>\u001b[0;34m()\u001b[0m\n\u001b[0;32m----> 1\u001b[0;31m \u001b[0msorted_roll_the_dice_hundred\u001b[0m \u001b[0;34m=\u001b[0m \u001b[0mroll_the_dice_hundred\u001b[0m\u001b[0;34m.\u001b[0m\u001b[0msort_values\u001b[0m\u001b[0;34m(\u001b[0m\u001b[0;34m'Value'\u001b[0m\u001b[0;34m)\u001b[0m\u001b[0;34m\u001b[0m\u001b[0;34m\u001b[0m\u001b[0m\n\u001b[0m",
            "\u001b[0;31mNameError\u001b[0m: name 'roll_the_dice_hundred' is not defined"
          ]
        }
      ],
      "source": [
        "sorted_roll_the_dice_hundred = roll_the_dice_hundred.sort_values('Value')"
      ]
    },
    {
      "cell_type": "code",
      "execution_count": null,
      "metadata": {
        "id": "nfkPwpTTsRF6",
        "outputId": "ded24190-eadb-4702-97c7-f39b89ec4344"
      },
      "outputs": [
        {
          "data": {
            "text/html": [
              "<div>\n",
              "<style scoped>\n",
              "    .dataframe tbody tr th:only-of-type {\n",
              "        vertical-align: middle;\n",
              "    }\n",
              "\n",
              "    .dataframe tbody tr th {\n",
              "        vertical-align: top;\n",
              "    }\n",
              "\n",
              "    .dataframe thead th {\n",
              "        text-align: right;\n",
              "    }\n",
              "</style>\n",
              "<table border=\"1\" class=\"dataframe\">\n",
              "  <thead>\n",
              "    <tr style=\"text-align: right;\">\n",
              "      <th></th>\n",
              "      <th>Roll</th>\n",
              "      <th>Value</th>\n",
              "    </tr>\n",
              "  </thead>\n",
              "  <tbody>\n",
              "    <tr>\n",
              "      <td>0</td>\n",
              "      <td>0</td>\n",
              "      <td>1</td>\n",
              "    </tr>\n",
              "    <tr>\n",
              "      <td>47</td>\n",
              "      <td>47</td>\n",
              "      <td>1</td>\n",
              "    </tr>\n",
              "    <tr>\n",
              "      <td>56</td>\n",
              "      <td>56</td>\n",
              "      <td>1</td>\n",
              "    </tr>\n",
              "    <tr>\n",
              "      <td>9</td>\n",
              "      <td>9</td>\n",
              "      <td>1</td>\n",
              "    </tr>\n",
              "    <tr>\n",
              "      <td>73</td>\n",
              "      <td>73</td>\n",
              "      <td>1</td>\n",
              "    </tr>\n",
              "    <tr>\n",
              "      <td>...</td>\n",
              "      <td>...</td>\n",
              "      <td>...</td>\n",
              "    </tr>\n",
              "    <tr>\n",
              "      <td>17</td>\n",
              "      <td>17</td>\n",
              "      <td>6</td>\n",
              "    </tr>\n",
              "    <tr>\n",
              "      <td>11</td>\n",
              "      <td>11</td>\n",
              "      <td>6</td>\n",
              "    </tr>\n",
              "    <tr>\n",
              "      <td>24</td>\n",
              "      <td>24</td>\n",
              "      <td>6</td>\n",
              "    </tr>\n",
              "    <tr>\n",
              "      <td>21</td>\n",
              "      <td>21</td>\n",
              "      <td>6</td>\n",
              "    </tr>\n",
              "    <tr>\n",
              "      <td>99</td>\n",
              "      <td>99</td>\n",
              "      <td>6</td>\n",
              "    </tr>\n",
              "  </tbody>\n",
              "</table>\n",
              "<p>100 rows × 2 columns</p>\n",
              "</div>"
            ],
            "text/plain": [
              "    Roll  Value\n",
              "0      0      1\n",
              "47    47      1\n",
              "56    56      1\n",
              "9      9      1\n",
              "73    73      1\n",
              "..   ...    ...\n",
              "17    17      6\n",
              "11    11      6\n",
              "24    24      6\n",
              "21    21      6\n",
              "99    99      6\n",
              "\n",
              "[100 rows x 2 columns]"
            ]
          },
          "execution_count": 23,
          "metadata": {},
          "output_type": "execute_result"
        }
      ],
      "source": [
        "sorted_roll_the_dice_hundred"
      ]
    },
    {
      "cell_type": "code",
      "execution_count": null,
      "metadata": {
        "id": "yRZY4wHMsRF7",
        "outputId": "dc1ea080-8e5b-480c-811c-a435b69b2c89"
      },
      "outputs": [
        {
          "data": {
            "image/png": "[encoded data removed]",
            "text/plain": [
              "<Figure size 432x288 with 1 Axes>"
            ]
          },
          "metadata": {
            "needs_background": "light"
          },
          "output_type": "display_data"
        }
      ],
      "source": [
        "# Plot the sorted values.\n",
        "sorted_roll_the_dice_hundred[['Value']].plot(kind='bar', legend=None, rot=0)\n",
        "plt.xticks([])\n",
        "plt.ylabel('Dice Value')\n",
        "plt.title('Dice value for each throw')\n",
        "plt.show()"
      ]
    },
    {
      "cell_type": "code",
      "source": [
        "taf"
      ],
      "metadata": {
        "id": "Ps6dJ-TaMjIe"
      },
      "execution_count": null,
      "outputs": []
    },
    {
      "cell_type": "markdown",
      "metadata": {
        "id": "-zS6hTvlsRF9"
      },
      "source": [
        "`Comments:`\n",
        "\n",
        "We can see if a number was rolled more times than another one. For example, we can see than number 1 showed less times than number 6. "
      ]
    },
    {
      "cell_type": "markdown",
      "metadata": {
        "id": "FqJ9X67WsRF9"
      },
      "source": [
        "#### 2.- Using the functions you defined in challenge 2, calculate the mean value of the hundred dice rolls."
      ]
    },
    {
      "cell_type": "code",
      "execution_count": null,
      "metadata": {
        "id": "P2qa-9IgsRF-",
        "outputId": "87a5f8fd-ba0d-4a95-d96f-4da9372a3bce"
      },
      "outputs": [
        {
          "name": "stdout",
          "output_type": "stream",
          "text": [
            "Mean Method 1: 3.74\n",
            "Mean Method 2: 3.74\n"
          ]
        }
      ],
      "source": [
        "print('Mean Method 1: {}'.format(mean_calculation_method_one(roll_the_dice_hundred)))\n",
        "print('Mean Method 2: {}'.format(mean_calculation_method_two(roll_the_dice_hundred)))"
      ]
    },
    {
      "cell_type": "markdown",
      "metadata": {
        "id": "B1__Ao6esRF_"
      },
      "source": [
        "#### 3.- Now, calculate the frequency distribution."
      ]
    },
    {
      "cell_type": "code",
      "execution_count": null,
      "metadata": {
        "id": "M3oJOuGRsRGA",
        "outputId": "d5fbd499-d8f7-448a-c0c2-58ba057a0763"
      },
      "outputs": [
        {
          "data": {
            "text/plain": [
              "1    12\n",
              "2    17\n",
              "3    14\n",
              "4    22\n",
              "5    12\n",
              "6    23\n",
              "Name: Value, dtype: int64"
            ]
          },
          "execution_count": 30,
          "metadata": {},
          "output_type": "execute_result"
        }
      ],
      "source": [
        "# Calculate the frequency distribution.\n",
        "frequency = roll_the_dice_hundred['Value'].value_counts(sort=False)\n",
        "frequency"
      ]
    },
    {
      "cell_type": "markdown",
      "metadata": {
        "id": "RkXQMuK1sRGC"
      },
      "source": [
        "#### 4.- Plot the histogram. What do you see (shape, values...) ? How can you connect the mean value to the histogram?"
      ]
    },
    {
      "cell_type": "code",
      "execution_count": null,
      "metadata": {
        "id": "7wW0WY-0sRGD",
        "outputId": "8bec481b-5036-49ad-a94a-ed6fdd2a4610"
      },
      "outputs": [
        {
          "data": {
            "text/plain": [
              "Text(0.5, 1.0, 'Histogram')"
            ]
          },
          "execution_count": 32,
          "metadata": {},
          "output_type": "execute_result"
        },
        {
          "data": {
            "image/png": "[encoded data removed]",
            "text/plain": [
              "<Figure size 432x288 with 1 Axes>"
            ]
          },
          "metadata": {
            "needs_background": "light"
          },
          "output_type": "display_data"
        }
      ],
      "source": [
        "# Histogram.\n",
        "bins = [n + 0.5 for n in range(0,7)]\n",
        "roll_the_dice_hundred['Value'].hist(bins=bins, grid=False)\n",
        "plt.xlabel('Dice Value')\n",
        "plt.ylabel('Value Count')\n",
        "plt.title('Histogram')\n"
      ]
    },
    {
      "cell_type": "markdown",
      "metadata": {
        "id": "KrrRCoCJsRGE"
      },
      "source": [
        "`Comments:`\n",
        "\n",
        "We know that the probability of each number is the same (1/6), so the frequency of each number should be similar and we should expect to see a uniform histogram. However, we can see that the numbers that showed most times are 4 and 6, and their frequency is significantly greater than the frequency of 1 and 5, which showed the least. That's why the mean value is greater than 3 (almost 4).  "
      ]
    },
    {
      "cell_type": "markdown",
      "metadata": {
        "id": "q8nda7JYsRGF"
      },
      "source": [
        "#### 5.- Read the roll_the_dice_thousand.csv from the data folder. Plot the frequency distribution as you did before. Has anything changed? Why do you think it changed?"
      ]
    },
    {
      "cell_type": "code",
      "execution_count": null,
      "metadata": {
        "id": "qR87gt06sRGF"
      },
      "outputs": [],
      "source": [
        "roll_the_dice_thousand = pd.read_csv(r'\\roll_the_dice_thousand.csv', index_col=0)\n",
        "roll_the_dice_thousand.columns = ['Roll', 'Value']"
      ]
    },
    {
      "cell_type": "code",
      "execution_count": null,
      "metadata": {
        "id": "-HGKxqawsRGG",
        "outputId": "25712851-997e-4ffe-d765-ad778c5901ca"
      },
      "outputs": [
        {
          "data": {
            "image/png": "[encoded data removed]",
            "text/plain": [
              "<Figure size 432x288 with 1 Axes>"
            ]
          },
          "metadata": {
            "needs_background": "light"
          },
          "output_type": "display_data"
        },
        {
          "data": {
            "text/plain": [
              "1    175\n",
              "2    167\n",
              "3    175\n",
              "4    168\n",
              "5    149\n",
              "6    166\n",
              "Name: Value, dtype: int64"
            ]
          },
          "execution_count": 36,
          "metadata": {},
          "output_type": "execute_result"
        }
      ],
      "source": [
        "# Calculate the frequency distribution.\n",
        "frequency = roll_the_dice_thousand['Value'].value_counts(sort=False)\n",
        "\n",
        "# Histogram\n",
        "bins = [n + 0.5 for n in range(0,7)]\n",
        "roll_the_dice_thousand['Value'].hist(bins=bins, grid=False)\n",
        "plt.xlabel('Dice Value')\n",
        "plt.ylabel('Value Count')\n",
        "plt.title('Histogram')\n",
        "\n",
        "# Show the plot.\n",
        "plt.show()\n",
        "frequency"
      ]
    },
    {
      "cell_type": "markdown",
      "metadata": {
        "id": "jrpNBOKasRGH"
      },
      "source": [
        "`Comments:`\n",
        "\n",
        "In this plot we can see that the distribution is now more uniform than before, which is the behaviour we were expecting because all numbers are equally probable. The histogram changed because now we have more samples of random dice rolls and the sample distribution tends to be more similar to the population distribution."
      ]
    },
    {
      "cell_type": "markdown",
      "metadata": {
        "id": "6vAp2pNEsRGI"
      },
      "source": [
        "## Challenge 4\n",
        "In the data folder of this repository you will find three different files with the prefix ages_population. These files contain information about a poll answered by a thousand people regarding their age. Each file corresponds to the poll answers in different neighbourhoods of Barcelona."
      ]
    },
    {
      "cell_type": "markdown",
      "metadata": {
        "id": "XfspvJqHsRGJ"
      },
      "source": [
        " #### 1. Read the file `ages_population.csv`. Calculate the frequency distribution and plot it as we did during the lesson. Try to guess the range in which the mean and the standard deviation will be by looking at the plot."
      ]
    },
    {
      "cell_type": "code",
      "execution_count": null,
      "metadata": {
        "colab": {
          "base_uri": "https://localhost:8080/",
          "height": 252
        },
        "id": "WeXj2JkmsRGK",
        "outputId": "f5ed6d59-881f-42ea-c10f-ec47fdd4fbfb"
      },
      "outputs": [
        {
          "output_type": "error",
          "ename": "NameError",
          "evalue": "ignored",
          "traceback": [
            "\u001b[0;31m---------------------------------------------------------------------------\u001b[0m",
            "\u001b[0;31mNameError\u001b[0m                                 Traceback (most recent call last)",
            "\u001b[0;32m<ipython-input-1-a739ca55ba28>\u001b[0m in \u001b[0;36m<module>\u001b[0;34m()\u001b[0m\n\u001b[1;32m      1\u001b[0m \u001b[0;31m# Read the csv\u001b[0m\u001b[0;34m\u001b[0m\u001b[0;34m\u001b[0m\u001b[0;34m\u001b[0m\u001b[0m\n\u001b[0;32m----> 2\u001b[0;31m \u001b[0mages_population\u001b[0m \u001b[0;34m=\u001b[0m \u001b[0mpd\u001b[0m\u001b[0;34m.\u001b[0m\u001b[0mread_csv\u001b[0m\u001b[0;34m(\u001b[0m\u001b[0;34mr'C:\\Users\\Ankur Saini\\Desktop\\IRONHACK_TA\\Modules_DA\\DAFT_NOV_21_01_updated_31_12_2021\\module_2\\Lab_4_Descriptive_Statistics/ages_population.csv'\u001b[0m\u001b[0;34m)\u001b[0m\u001b[0;34m\u001b[0m\u001b[0;34m\u001b[0m\u001b[0m\n\u001b[0m\u001b[1;32m      3\u001b[0m \u001b[0mages_population\u001b[0m \u001b[0;34m=\u001b[0m \u001b[0mages_population\u001b[0m\u001b[0;34m.\u001b[0m\u001b[0msort_values\u001b[0m\u001b[0;34m(\u001b[0m\u001b[0mby\u001b[0m\u001b[0;34m=\u001b[0m\u001b[0;34m'observation'\u001b[0m\u001b[0;34m)\u001b[0m\u001b[0;34m\u001b[0m\u001b[0;34m\u001b[0m\u001b[0m\n\u001b[1;32m      4\u001b[0m \u001b[0;34m\u001b[0m\u001b[0m\n\u001b[1;32m      5\u001b[0m \u001b[0;31m# Calculate the frequency distribution.\u001b[0m\u001b[0;34m\u001b[0m\u001b[0;34m\u001b[0m\u001b[0;34m\u001b[0m\u001b[0m\n",
            "\u001b[0;31mNameError\u001b[0m: name 'pd' is not defined"
          ]
        }
      ],
      "source": [
        "# Read the csv\n",
        "ages_population = pd.read_csv(r'/ages_population.csv')\n",
        "ages_population = ages_population.sort_values(by='observation')\n",
        "\n",
        "# Calculate the frequency distribution.\n",
        "frequency = ages_population['observation'].value_counts(sort=False)\n",
        "\n",
        "# Histogram\n",
        "max_range = int(ages_population['observation'].max()) + 1\n",
        "min_range = int(ages_population['observation'].min())\n",
        "bins = [n + 0.5 for n in range(min_range,max_range)]\n",
        "ages_population['observation'].hist(bins=bins, grid=False)\n",
        "plt.xlabel('Age')\n",
        "plt.ylabel('Count')\n",
        "plt.title('Histogram')\n",
        "\n",
        "# Show the plot.\n",
        "plt.show()"
      ]
    },
    {
      "cell_type": "markdown",
      "metadata": {
        "id": "PFwkH_mrsRGL"
      },
      "source": [
        "#### 2.- Calculate the exact mean and standard deviation and compare them with your guesses. Do they fall inside the ranges you guessed?"
      ]
    },
    {
      "cell_type": "code",
      "execution_count": null,
      "metadata": {
        "id": "nCs1cgpcsRGL",
        "outputId": "a0838190-2bc6-4d22-e99e-9a0ec628f2d8"
      },
      "outputs": [
        {
          "data": {
            "text/plain": [
              "count    1000.0000\n",
              "mean       36.5600\n",
              "std        12.8165\n",
              "min         1.0000\n",
              "25%        28.0000\n",
              "50%        37.0000\n",
              "75%        45.0000\n",
              "max        82.0000\n",
              "Name: observation, dtype: float64"
            ]
          },
          "execution_count": 40,
          "metadata": {},
          "output_type": "execute_result"
        }
      ],
      "source": [
        "ages_population['observation'].describe()"
      ]
    },
    {
      "cell_type": "markdown",
      "metadata": {
        "id": "8E0LmuZ5sRGM"
      },
      "source": [
        "#### 3.- Now read the file ages_population2.csv . Calculate the frequency distribution and plot it."
      ]
    },
    {
      "cell_type": "code",
      "execution_count": null,
      "metadata": {
        "colab": {
          "base_uri": "https://localhost:8080/",
          "height": 252
        },
        "id": "pIeaoESRsRGN",
        "outputId": "4e3fc914-c971-46b7-d99d-3548df70bf28"
      },
      "outputs": [
        {
          "output_type": "error",
          "ename": "NameError",
          "evalue": "ignored",
          "traceback": [
            "\u001b[0;31m---------------------------------------------------------------------------\u001b[0m",
            "\u001b[0;31mNameError\u001b[0m                                 Traceback (most recent call last)",
            "\u001b[0;32m<ipython-input-3-08ffc8893171>\u001b[0m in \u001b[0;36m<module>\u001b[0;34m()\u001b[0m\n\u001b[1;32m      1\u001b[0m \u001b[0;31m# Read the csv\u001b[0m\u001b[0;34m\u001b[0m\u001b[0;34m\u001b[0m\u001b[0;34m\u001b[0m\u001b[0m\n\u001b[0;32m----> 2\u001b[0;31m \u001b[0mages_population_2\u001b[0m \u001b[0;34m=\u001b[0m \u001b[0mpd\u001b[0m\u001b[0;34m.\u001b[0m\u001b[0mread_csv\u001b[0m\u001b[0;34m(\u001b[0m\u001b[0;34mr'C:\\Users\\Ankur Saini\\Desktop\\IRONHACK_TA\\Modules_DA\\DAFT_NOV_21_01_updated_31_12_2021\\module_2\\Lab_4_Descriptive_Statistics/ages_population2.csv'\u001b[0m\u001b[0;34m)\u001b[0m\u001b[0;34m\u001b[0m\u001b[0;34m\u001b[0m\u001b[0m\n\u001b[0m\u001b[1;32m      3\u001b[0m \u001b[0mages_population_2\u001b[0m \u001b[0;34m=\u001b[0m \u001b[0mages_population_2\u001b[0m\u001b[0;34m.\u001b[0m\u001b[0msort_values\u001b[0m\u001b[0;34m(\u001b[0m\u001b[0mby\u001b[0m\u001b[0;34m=\u001b[0m\u001b[0;34m'observation'\u001b[0m\u001b[0;34m)\u001b[0m\u001b[0;34m\u001b[0m\u001b[0;34m\u001b[0m\u001b[0m\n\u001b[1;32m      4\u001b[0m \u001b[0;34m\u001b[0m\u001b[0m\n\u001b[1;32m      5\u001b[0m \u001b[0;31m# Calculate the frequency distribution.\u001b[0m\u001b[0;34m\u001b[0m\u001b[0;34m\u001b[0m\u001b[0;34m\u001b[0m\u001b[0m\n",
            "\u001b[0;31mNameError\u001b[0m: name 'pd' is not defined"
          ]
        }
      ],
      "source": [
        "# Read the csv\n",
        "ages_population_2 = pd.read_csv('ages_population2.csv')\n",
        "ages_population_2 = ages_population_2.sort_values(by='observation')\n",
        "\n",
        "# Calculate the frequency distribution.\n",
        "frequency = ages_population_2['observation'].value_counts(sort=False)\n",
        "\n",
        "# Histogram\n",
        "max_range = int(ages_population_2['observation'].max()) + 1\n",
        "min_range = int(ages_population_2['observation'].min())\n",
        "bins = [n + 0.5 for n in range(min_range,max_range)]\n",
        "ages_population_2['observation'].hist(bins=bins, grid=False)\n",
        "plt.xlabel('Age')\n",
        "plt.ylabel('Count')\n",
        "plt.title('Histogram')\n",
        "\n",
        "# Show the plot.\n",
        "plt.show()"
      ]
    },
    {
      "cell_type": "markdown",
      "metadata": {
        "id": "AXAYigmLsRGN"
      },
      "source": [
        "#### 4.- What do you see? Is there any difference with the frequency distribution in step 1?"
      ]
    },
    {
      "cell_type": "markdown",
      "metadata": {
        "id": "o6pa0vApsRGO"
      },
      "source": [
        "`Comments:`\n",
        "\n",
        "It seems that this time we have a narrower range of ages. Now, the mean value should be around 27 and the standard deviation around 2. We can see that the people in this neighbourhood are younger compared to the first neighbourhood, where the range was wider and there was more middle-aged people. "
      ]
    },
    {
      "cell_type": "markdown",
      "metadata": {
        "id": "cO8tMxM7sRGO"
      },
      "source": [
        "#### 5.- Calculate the mean and standard deviation. Compare the results with the mean and standard deviation in step 2. What do you think?"
      ]
    },
    {
      "cell_type": "code",
      "execution_count": null,
      "metadata": {
        "id": "dnodZgJCsRGP",
        "outputId": "4b729844-5deb-4264-a65a-77c64fff1fed"
      },
      "outputs": [
        {
          "data": {
            "text/plain": [
              "count    1000.000000\n",
              "mean       27.155000\n",
              "std         2.969814\n",
              "min        19.000000\n",
              "25%        25.000000\n",
              "50%        27.000000\n",
              "75%        29.000000\n",
              "max        36.000000\n",
              "Name: observation, dtype: float64"
            ]
          },
          "execution_count": 43,
          "metadata": {},
          "output_type": "execute_result"
        }
      ],
      "source": [
        "ages_population_2['observation'].describe()"
      ]
    },
    {
      "cell_type": "markdown",
      "metadata": {
        "id": "uWdAIQHrsRGQ"
      },
      "source": [
        "`Comments:`\n",
        "\n",
        "The exact results are similar to the ones expected."
      ]
    },
    {
      "cell_type": "markdown",
      "metadata": {
        "id": "9wdhjPnYsRGQ"
      },
      "source": [
        "## Challenge 5\n",
        "Now is the turn of `ages_population3.csv`."
      ]
    },
    {
      "cell_type": "markdown",
      "metadata": {
        "id": "7YqsE6t5sRGR"
      },
      "source": [
        "#### 1.- Read the file ages_population3.csv. Calculate the frequency distribution and plot it."
      ]
    },
    {
      "cell_type": "code",
      "execution_count": null,
      "metadata": {
        "colab": {
          "base_uri": "https://localhost:8080/",
          "height": 252
        },
        "id": "Y_4tK-YHsRGS",
        "outputId": "8bf6e5c5-bd7b-48fe-cc56-1903ba7988f4"
      },
      "outputs": [
        {
          "output_type": "error",
          "ename": "NameError",
          "evalue": "ignored",
          "traceback": [
            "\u001b[0;31m---------------------------------------------------------------------------\u001b[0m",
            "\u001b[0;31mNameError\u001b[0m                                 Traceback (most recent call last)",
            "\u001b[0;32m<ipython-input-2-50c9a6861076>\u001b[0m in \u001b[0;36m<module>\u001b[0;34m()\u001b[0m\n\u001b[1;32m      1\u001b[0m \u001b[0;31m# Read the csv\u001b[0m\u001b[0;34m\u001b[0m\u001b[0;34m\u001b[0m\u001b[0;34m\u001b[0m\u001b[0m\n\u001b[0;32m----> 2\u001b[0;31m \u001b[0mages_population_3\u001b[0m \u001b[0;34m=\u001b[0m \u001b[0mpd\u001b[0m\u001b[0;34m.\u001b[0m\u001b[0mread_csv\u001b[0m\u001b[0;34m(\u001b[0m\u001b[0;34mr'C:\\Users\\Ankur Saini\\Desktop\\IRONHACK_TA\\Modules_DA\\DAFT_NOV_21_01_updated_31_12_2021\\module_2\\Lab_4_Descriptive_Statistics/ages_population3.csv'\u001b[0m\u001b[0;34m)\u001b[0m\u001b[0;34m\u001b[0m\u001b[0;34m\u001b[0m\u001b[0m\n\u001b[0m\u001b[1;32m      3\u001b[0m \u001b[0mages_population_3\u001b[0m \u001b[0;34m=\u001b[0m \u001b[0mages_population_3\u001b[0m\u001b[0;34m.\u001b[0m\u001b[0msort_values\u001b[0m\u001b[0;34m(\u001b[0m\u001b[0mby\u001b[0m\u001b[0;34m=\u001b[0m\u001b[0;34m'observation'\u001b[0m\u001b[0;34m)\u001b[0m\u001b[0;34m\u001b[0m\u001b[0;34m\u001b[0m\u001b[0m\n\u001b[1;32m      4\u001b[0m \u001b[0;34m\u001b[0m\u001b[0m\n\u001b[1;32m      5\u001b[0m \u001b[0;31m# Calculate the frequency distribution.\u001b[0m\u001b[0;34m\u001b[0m\u001b[0;34m\u001b[0m\u001b[0;34m\u001b[0m\u001b[0m\n",
            "\u001b[0;31mNameError\u001b[0m: name 'pd' is not defined"
          ]
        }
      ],
      "source": [
        "# Read the csv\n",
        "ages_population_3 = pd.read_csv('ages_population3.csv')\n",
        "ages_population_3 = ages_population_3.sort_values(by='observation')\n",
        "\n",
        "# Calculate the frequency distribution.\n",
        "frequency = ages_population_3['observation'].value_counts(sort=False)\n",
        "\n",
        "# Histogram\n",
        "max_range = int(ages_population_3['observation'].max()) + 1\n",
        "min_range = int(ages_population_3['observation'].min())\n",
        "bins = [n + 0.5 for n in range(min_range,max_range)]\n",
        "ages_population_3['observation'].hist(bins=bins, grid=False)\n",
        "plt.xlabel('Age')\n",
        "plt.ylabel('Count')\n",
        "plt.title('Histogram')\n",
        "\n",
        "# Show the plot.\n",
        "plt.show()"
      ]
    },
    {
      "cell_type": "markdown",
      "metadata": {
        "id": "GLGSshHlsRGT"
      },
      "source": [
        "#### 2.- Calculate the mean and standard deviation. Compare the results with the plot in step 1. What is happening?"
      ]
    },
    {
      "cell_type": "code",
      "execution_count": null,
      "metadata": {
        "id": "WbMppF4OsRGT",
        "outputId": "5cd382ac-22c3-414d-d0ff-16810d0c7a67"
      },
      "outputs": [
        {
          "data": {
            "text/plain": [
              "count    1000.000000\n",
              "mean       41.989000\n",
              "std        16.144706\n",
              "min         1.000000\n",
              "25%        30.000000\n",
              "50%        40.000000\n",
              "75%        53.000000\n",
              "max        77.000000\n",
              "Name: observation, dtype: float64"
            ]
          },
          "execution_count": 45,
          "metadata": {},
          "output_type": "execute_result"
        }
      ],
      "source": [
        "ages_population_3['observation'].describe()"
      ]
    },
    {
      "cell_type": "markdown",
      "metadata": {
        "id": "wnueCiLKsRGV"
      },
      "source": [
        "#### 3.- Calculate the four quartiles. Use the results to explain your reasoning for question in step 2. How much of a difference is there between the median and the mean?"
      ]
    },
    {
      "cell_type": "code",
      "execution_count": null,
      "metadata": {
        "id": "uyrUOYOgsRGW",
        "outputId": "9d2c2d5a-42f0-4f5a-c1a1-82e0391c1565"
      },
      "outputs": [
        {
          "data": {
            "text/plain": [
              "64.0"
            ]
          },
          "execution_count": 47,
          "metadata": {},
          "output_type": "execute_result"
        }
      ],
      "source": [
        "ages_population_3['observation'].quantile(0.85)"
      ]
    },
    {
      "cell_type": "markdown",
      "metadata": {
        "id": "rz4dRdmysRGW"
      },
      "source": [
        "`Comments:`\n",
        "\n",
        "We can see that the distribution is now formed by two normals. The first one is centered around 35 and is formed by a lot more samples than the second one, which is centered around 68 approximately. \n",
        "\n",
        "If we take a look at the quartiles, we can see that 75% of the samples have a value lower or equal to 53, which would be part of the first normal. So the second normal is formed by approximately the 25% of the total samples. If we check the 85% quantile, we can see that 15% of the samples are greater or equal than 64, which is the approximately the limit between both normals. So we can say that, more exactly, the first normal is formed by approximately 85% of the samples while the second is formed by 15% of the samples. \n",
        "\n",
        "The mean is higher than the median because it is more affected by the second normal. However, the median is lower because it is more robust to extreme values."
      ]
    },
    {
      "cell_type": "markdown",
      "metadata": {
        "id": "lUOAGf4WsRGX"
      },
      "source": [
        "## Bonus challenge\n",
        "Compare the information about the three neighbourhoods. Prepare a report about the three of them. Remember to find out which are their similarities and their differences backing your arguments in basic statistics."
      ]
    },
    {
      "cell_type": "code",
      "execution_count": null,
      "metadata": {
        "id": "PaSWzqwusRGX",
        "outputId": "1d06354e-6f71-4625-841f-528f820b0ecc"
      },
      "outputs": [
        {
          "data": {
            "text/html": [
              "<div>\n",
              "<style scoped>\n",
              "    .dataframe tbody tr th:only-of-type {\n",
              "        vertical-align: middle;\n",
              "    }\n",
              "\n",
              "    .dataframe tbody tr th {\n",
              "        vertical-align: top;\n",
              "    }\n",
              "\n",
              "    .dataframe thead th {\n",
              "        text-align: right;\n",
              "    }\n",
              "</style>\n",
              "<table border=\"1\" class=\"dataframe\">\n",
              "  <thead>\n",
              "    <tr style=\"text-align: right;\">\n",
              "      <th></th>\n",
              "      <th>df1</th>\n",
              "      <th>df2</th>\n",
              "      <th>df3</th>\n",
              "    </tr>\n",
              "  </thead>\n",
              "  <tbody>\n",
              "    <tr>\n",
              "      <td>count</td>\n",
              "      <td>1000.0000</td>\n",
              "      <td>1000.000000</td>\n",
              "      <td>1000.000000</td>\n",
              "    </tr>\n",
              "    <tr>\n",
              "      <td>mean</td>\n",
              "      <td>36.5600</td>\n",
              "      <td>27.155000</td>\n",
              "      <td>41.989000</td>\n",
              "    </tr>\n",
              "    <tr>\n",
              "      <td>std</td>\n",
              "      <td>12.8165</td>\n",
              "      <td>2.969814</td>\n",
              "      <td>16.144706</td>\n",
              "    </tr>\n",
              "    <tr>\n",
              "      <td>min</td>\n",
              "      <td>1.0000</td>\n",
              "      <td>19.000000</td>\n",
              "      <td>1.000000</td>\n",
              "    </tr>\n",
              "    <tr>\n",
              "      <td>25%</td>\n",
              "      <td>28.0000</td>\n",
              "      <td>25.000000</td>\n",
              "      <td>30.000000</td>\n",
              "    </tr>\n",
              "    <tr>\n",
              "      <td>50%</td>\n",
              "      <td>37.0000</td>\n",
              "      <td>27.000000</td>\n",
              "      <td>40.000000</td>\n",
              "    </tr>\n",
              "    <tr>\n",
              "      <td>75%</td>\n",
              "      <td>45.0000</td>\n",
              "      <td>29.000000</td>\n",
              "      <td>53.000000</td>\n",
              "    </tr>\n",
              "    <tr>\n",
              "      <td>max</td>\n",
              "      <td>82.0000</td>\n",
              "      <td>36.000000</td>\n",
              "      <td>77.000000</td>\n",
              "    </tr>\n",
              "  </tbody>\n",
              "</table>\n",
              "</div>"
            ],
            "text/plain": [
              "             df1          df2          df3\n",
              "count  1000.0000  1000.000000  1000.000000\n",
              "mean     36.5600    27.155000    41.989000\n",
              "std      12.8165     2.969814    16.144706\n",
              "min       1.0000    19.000000     1.000000\n",
              "25%      28.0000    25.000000    30.000000\n",
              "50%      37.0000    27.000000    40.000000\n",
              "75%      45.0000    29.000000    53.000000\n",
              "max      82.0000    36.000000    77.000000"
            ]
          },
          "execution_count": 48,
          "metadata": {},
          "output_type": "execute_result"
        }
      ],
      "source": [
        "sumamry_df = pd.concat([ages_population['observation'], \n",
        "                        ages_population_2['observation'], \n",
        "                        ages_population_3['observation']], \n",
        "                        axis=1, keys=['df1', 'df2', 'df3'])\n",
        "sumamry_df.describe()"
      ]
    }
  ],
  "metadata": {
    "kernelspec": {
      "display_name": "Python 3",
      "language": "python",
      "name": "python3"
    },
    "language_info": {
      "codemirror_mode": {
        "name": "ipython",
        "version": 3
      },
      "file_extension": ".py",
      "mimetype": "text/x-python",
      "name": "python",
      "nbconvert_exporter": "python",
      "pygments_lexer": "ipython3",
      "version": "3.7.4"
    },
    "colab": {
      "provenance": [],
      "collapsed_sections": [
        "G1NT9p-CsRFp",
        "Az1Fgl1DsRFr",
        "xhDB1618sRFu",
        "eisAIW3QsRF3",
        "FqJ9X67WsRF9",
        "B1__Ao6esRF_",
        "RkXQMuK1sRGC",
        "q8nda7JYsRGF",
        "PFwkH_mrsRGL",
        "AXAYigmLsRGN",
        "cO8tMxM7sRGO",
        "GLGSshHlsRGT",
        "wnueCiLKsRGV"
      ]
    }
  },
  "nbformat": 4,
  "nbformat_minor": 0
}