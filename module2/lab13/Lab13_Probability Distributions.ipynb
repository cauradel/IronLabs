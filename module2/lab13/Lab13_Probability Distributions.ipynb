{
 "cells": [
  {
   "cell_type": "markdown",
   "metadata": {},
   "source": [
    "# Before your start:\n",
    "- Read the README.md file.\n",
    "- Comment as much as you can and use the resources (README.md file).\n",
    "- Happy learning!"
   ]
  },
  {
   "cell_type": "code",
   "execution_count": 16,
   "metadata": {},
   "outputs": [],
   "source": [
    "# Libraries\n",
    "import matplotlib.pyplot as plt\n",
    "import pandas as pd\n",
    "import numpy as np\n",
    "import scipy.stats as stats\n",
    "import statistics"
   ]
  },
  {
   "cell_type": "markdown",
   "metadata": {},
   "source": [
    "# Challenge 1 - Generate and Plot Normal Distributions\n",
    "#### Step 1: Generate samples and test normal distribution.\n",
    "\n",
    "Use mean=50, standard_deviation=5, and sample_size=[10, 50, 500, 5000] to generate 4 random samples that are normally distributed.\n",
    "\n",
    "**Hint**: Read the documentation for `scipy.stats.norm.rvs`. The function will help you create the normal random samples."
   ]
  },
  {
   "cell_type": "code",
   "execution_count": 17,
   "metadata": {},
   "outputs": [],
   "source": [
    "# your code here\n",
    "mean= 50\n",
    "standard_devaition=5\n",
    "sample_size=[10,50,500,5000]\n",
    "sample1 = stats.norm.rvs(loc = mean, scale = standard_devaition, size = sample_size[0])\n",
    "sample2 = stats.norm.rvs(loc = mean, scale = standard_devaition, size = sample_size[1])\n",
    "sample3 = stats.norm.rvs(loc = mean, scale = standard_devaition, size = sample_size[2])\n",
    "sample4 = stats.norm.rvs(loc = mean, scale = standard_devaition, size = sample_size[3])"
   ]
  },
  {
   "cell_type": "code",
   "execution_count": 18,
   "metadata": {},
   "outputs": [
    {
     "data": {
      "text/plain": [
       "array([56.73587083, 47.213667  , 43.76828117, 57.93766115, 56.14450587,\n",
       "       54.03228254, 52.87941978, 56.20082492, 53.50260906, 59.14544901])"
      ]
     },
     "execution_count": 18,
     "metadata": {},
     "output_type": "execute_result"
    }
   ],
   "source": [
    "sample1"
   ]
  },
  {
   "cell_type": "code",
   "execution_count": 19,
   "metadata": {},
   "outputs": [
    {
     "data": {
      "text/plain": [
       "array([49.93149428, 41.65821301, 53.32727993, 42.21917422, 41.974378  ,\n",
       "       44.81218692, 47.61927531, 54.98826298, 48.33791637, 56.41332014,\n",
       "       49.76498713, 48.31731782, 60.90593101, 44.47734588, 38.20851844,\n",
       "       42.49743549, 45.98183878, 50.15261092, 54.19104955, 46.96110177,\n",
       "       51.36561315, 37.72869781, 59.86851882, 49.70596434, 53.88528031,\n",
       "       51.76077056, 54.53654573, 52.73846229, 48.75318023, 47.41481849,\n",
       "       53.15927219, 51.77829959, 50.13123486, 42.46629955, 50.89140296,\n",
       "       51.80535694, 48.23869853, 35.25934536, 52.3387604 , 45.77956466,\n",
       "       50.18509672, 61.12899149, 48.72588021, 53.99369101, 56.16403745,\n",
       "       52.00878542, 52.52541734, 45.81580825, 47.33397895, 45.72914388])"
      ]
     },
     "execution_count": 19,
     "metadata": {},
     "output_type": "execute_result"
    }
   ],
   "source": [
    "sample2"
   ]
  },
  {
   "cell_type": "code",
   "execution_count": 20,
   "metadata": {},
   "outputs": [
    {
     "data": {
      "text/plain": [
       "array([43.92950199, 48.39468785, 46.57842037, 50.30538603, 51.44828152,\n",
       "       53.29421288, 46.92682298, 49.63169383, 48.43177708, 48.42952658,\n",
       "       44.34671229, 59.85193502, 42.08862044, 48.78701634, 48.11286198,\n",
       "       51.39633336, 45.36866294, 40.28132108, 55.45190474, 45.18397465,\n",
       "       44.29472311, 43.21380433, 42.96251665, 48.81875523, 56.65985102,\n",
       "       48.87291535, 46.27526055, 42.92801495, 46.27134276, 44.84894723,\n",
       "       56.62491592, 50.2154087 , 49.18815344, 48.31211252, 52.48393111,\n",
       "       53.51594786, 47.5259681 , 55.1234166 , 48.44872684, 44.06035036,\n",
       "       53.85644745, 56.73962171, 47.95283003, 50.64075134, 54.04717688,\n",
       "       44.32126513, 53.75052916, 43.6118407 , 49.13442431, 50.61744962,\n",
       "       44.01883858, 50.33899591, 49.07162043, 47.85705949, 45.84526728,\n",
       "       56.75849749, 56.57021087, 55.07522833, 54.20504735, 53.37933446,\n",
       "       47.58617513, 51.34562081, 49.37923782, 43.30557588, 48.54788932,\n",
       "       40.09386836, 47.68199161, 45.12765863, 54.55191088, 56.18496231,\n",
       "       51.11573532, 49.76962951, 50.16655979, 46.53220536, 40.63326242,\n",
       "       57.0897299 , 45.80884062, 49.12629867, 50.50606714, 51.6234311 ,\n",
       "       50.30365116, 49.96017682, 53.81293468, 47.53999354, 51.78736802,\n",
       "       45.80840024, 43.47596145, 56.6778085 , 48.83181514, 65.03687437,\n",
       "       53.70645515, 49.89559995, 58.46454339, 56.87219792, 54.65288355,\n",
       "       47.79555795, 53.11269756, 45.4630499 , 53.88135567, 47.1780156 ,\n",
       "       52.75020524, 48.73716355, 42.86817229, 49.09426282, 54.93497309,\n",
       "       48.92487169, 43.67924399, 54.58051423, 48.62352028, 49.41762187,\n",
       "       47.46482624, 51.30217196, 43.05605121, 37.71180131, 44.59189354,\n",
       "       47.87752922, 54.91873342, 50.45304643, 50.82469434, 53.41227107,\n",
       "       46.67520521, 53.44422258, 48.41537028, 52.83423438, 47.0175413 ,\n",
       "       47.11401599, 53.25421588, 49.7266997 , 45.00371222, 59.47411654,\n",
       "       51.51157118, 44.32693202, 49.79921424, 53.23655348, 58.4525354 ,\n",
       "       48.35056035, 45.96189339, 46.97518759, 50.03251928, 42.40097588,\n",
       "       57.60847944, 44.2168857 , 57.75097548, 52.79099039, 45.98722959,\n",
       "       56.02451147, 54.30403056, 52.25779762, 44.80364974, 53.8081416 ,\n",
       "       41.39281561, 49.0670193 , 49.29821881, 51.71492568, 51.83750291,\n",
       "       42.46651476, 54.71532861, 47.628089  , 47.42714032, 54.80649806,\n",
       "       46.52596095, 57.78633092, 49.79425758, 50.58383391, 42.30691455,\n",
       "       44.93153341, 50.53852108, 50.42263731, 51.56695401, 48.48955707,\n",
       "       43.05658683, 48.6093376 , 55.20499917, 58.70005095, 41.79074865,\n",
       "       59.52386909, 49.08460496, 36.83677058, 54.54561958, 51.9427204 ,\n",
       "       54.93441535, 50.89514012, 54.76144885, 47.28357283, 53.60321464,\n",
       "       48.39772934, 55.58137322, 47.84170733, 49.02164689, 52.14374893,\n",
       "       47.37900397, 44.85253624, 54.54051756, 45.94837214, 47.61035405,\n",
       "       39.79486912, 47.23036547, 56.9508896 , 53.79986578, 46.19130833,\n",
       "       46.63829916, 50.16068751, 45.37333968, 44.10165261, 55.62521451,\n",
       "       40.41911486, 48.8588513 , 47.26131845, 38.09866451, 55.11552349,\n",
       "       56.2598672 , 52.86721429, 54.44695233, 61.0763725 , 46.66690694,\n",
       "       53.7180069 , 55.88194985, 52.11841397, 47.28343042, 51.77989014,\n",
       "       42.56916688, 49.32150754, 51.70116708, 56.05795412, 57.0100059 ,\n",
       "       60.79283243, 44.5740422 , 50.53144434, 45.82336749, 49.48193038,\n",
       "       48.62188279, 54.88935025, 42.72934389, 51.89828021, 47.62338692,\n",
       "       50.67734403, 55.30627345, 47.90990739, 48.64031425, 54.27565993,\n",
       "       49.2002725 , 41.59420991, 50.83988788, 54.77949515, 57.77897948,\n",
       "       42.62340789, 53.18744649, 53.49842112, 49.88685393, 48.84825788,\n",
       "       38.46867405, 49.09749107, 48.89916277, 50.71896986, 46.72563546,\n",
       "       54.12677278, 45.79510886, 47.37730676, 61.69915605, 49.41746209,\n",
       "       52.81590387, 40.42114997, 47.73306898, 46.91923172, 58.80004487,\n",
       "       51.25920104, 49.10635929, 43.90784929, 54.07587828, 51.07011086,\n",
       "       37.83389359, 47.52794888, 46.45851695, 56.42626786, 48.94924793,\n",
       "       46.94624712, 45.12043079, 48.10019318, 48.98398095, 47.67722037,\n",
       "       47.10570276, 55.51135739, 56.01683232, 47.78956436, 56.5774281 ,\n",
       "       61.93937626, 50.38120619, 49.82627185, 44.31809057, 50.66265301,\n",
       "       48.81812681, 54.13762969, 55.09501097, 35.17436943, 52.3641498 ,\n",
       "       46.16312849, 51.62080163, 37.39979114, 54.91687346, 48.47511486,\n",
       "       50.9280502 , 59.68873856, 56.66730696, 44.22849613, 45.38164789,\n",
       "       57.65010593, 45.52208457, 42.69294355, 47.36449624, 44.04384555,\n",
       "       44.1985632 , 62.47419254, 46.18952236, 50.05220102, 48.28772906,\n",
       "       47.98616144, 54.84408793, 54.51324199, 51.51533355, 60.16682525,\n",
       "       43.46585727, 61.27565995, 48.0861297 , 48.47753127, 48.7194184 ,\n",
       "       53.98858155, 56.24299069, 59.06187084, 54.22904949, 57.19693546,\n",
       "       52.94016959, 49.09869798, 47.21426044, 51.99296017, 60.5474608 ,\n",
       "       47.53943588, 52.43332329, 53.07011164, 54.97218544, 48.98125632,\n",
       "       46.07671981, 56.79585517, 45.30077967, 46.41317673, 43.73446401,\n",
       "       52.98806474, 40.8406302 , 44.75325489, 44.62608538, 57.36529893,\n",
       "       49.45615717, 49.63828637, 47.28879632, 55.81548253, 56.94317196,\n",
       "       50.98956679, 45.32753667, 40.88122751, 49.51567761, 52.81158179,\n",
       "       44.62962232, 49.43638123, 49.65088278, 56.22378674, 58.09756668,\n",
       "       50.53848962, 52.98287833, 50.76430544, 42.66950397, 56.86638458,\n",
       "       49.03766647, 58.96710686, 44.95032091, 51.77200215, 47.83970111,\n",
       "       45.86386189, 48.35251773, 50.50998749, 56.51107463, 44.11709178,\n",
       "       45.7777073 , 44.57411474, 45.61711752, 56.66719887, 48.00794397,\n",
       "       53.23428285, 45.96507191, 48.52175483, 46.18968291, 43.28957173,\n",
       "       54.65604693, 42.97029954, 45.00243504, 52.45249209, 56.7735165 ,\n",
       "       49.88003811, 55.2855206 , 48.10605432, 58.28404318, 55.35265925,\n",
       "       45.45478897, 52.0120901 , 51.55037832, 42.3814617 , 53.93956303,\n",
       "       60.01412852, 50.34854859, 47.47157664, 54.59801833, 47.26229077,\n",
       "       44.22091814, 51.86032192, 55.01032976, 48.94515729, 42.79120918,\n",
       "       46.69023412, 52.16443737, 42.40701439, 51.70200342, 51.82324752,\n",
       "       46.04826193, 48.97543909, 46.38706138, 51.27174816, 37.90694036,\n",
       "       49.14065453, 47.49444024, 39.4248295 , 54.25652973, 54.12653711,\n",
       "       47.78119923, 51.05259274, 55.65296868, 49.3818136 , 57.04434097,\n",
       "       48.48852694, 55.37151821, 51.31365069, 42.25136273, 53.88084088,\n",
       "       44.52234314, 43.03136387, 55.7165225 , 48.98297259, 51.5166702 ,\n",
       "       50.11928273, 47.0758321 , 47.23210987, 54.42074168, 54.63205518,\n",
       "       51.98008776, 53.48851147, 51.50227494, 57.64778649, 47.0614939 ,\n",
       "       51.56616927, 54.9222943 , 44.87512455, 49.07164152, 57.32951369,\n",
       "       50.03349108, 44.08484054, 48.58789244, 47.86620606, 51.55225264,\n",
       "       51.50219451, 42.09496593, 58.9930024 , 65.48715328, 55.52617419,\n",
       "       50.68252806, 47.50636573, 56.335522  , 54.04336846, 45.40424883,\n",
       "       55.67590024, 47.13106833, 53.45242091, 43.70695691, 49.24302177,\n",
       "       44.11913176, 52.66805346, 42.30121832, 49.87739492, 43.51241704,\n",
       "       52.44680114, 48.1319801 , 55.33081081, 47.71726615, 58.29193172,\n",
       "       56.29777289, 53.0279658 , 54.56233376, 46.4210709 , 51.4195949 ,\n",
       "       45.30826165, 48.76071178, 48.07196808, 46.0435003 , 39.97743762])"
      ]
     },
     "execution_count": 20,
     "metadata": {},
     "output_type": "execute_result"
    }
   ],
   "source": [
    "sample3"
   ]
  },
  {
   "cell_type": "code",
   "execution_count": 21,
   "metadata": {},
   "outputs": [
    {
     "data": {
      "text/plain": [
       "array([45.4084531 , 58.44910082, 51.06967163, ..., 41.15340118,\n",
       "       51.79664595, 54.51996535])"
      ]
     },
     "execution_count": 21,
     "metadata": {},
     "output_type": "execute_result"
    }
   ],
   "source": [
    "sample4"
   ]
  },
  {
   "cell_type": "markdown",
   "metadata": {},
   "source": [
    "#### Step 2: Plot normal distributions.\n",
    "\n",
    "To check the shape of the samples you have just created, you can use matplotlib. For example, you can use it to plot a histogram of each sample. \n",
    "\n",
    "If you did, your outputs would be really similar to the ones below:\n",
    "\n",
    "![normal distributions with different sample sizes](../images/ch-1.png)"
   ]
  },
  {
   "cell_type": "code",
   "execution_count": 22,
   "metadata": {},
   "outputs": [
    {
     "data": {
      "image/png": "[encoded data removed]",
      "text/plain": [
       "<Figure size 720x360 with 4 Axes>"
      ]
     },
     "metadata": {
      "needs_background": "light"
     },
     "output_type": "display_data"
    }
   ],
   "source": [
    "fig, [ax1, ax2, ax3, ax4] = plt.subplots(1,4)\n",
    "fig.set_figheight(5)\n",
    "fig.set_figwidth(10)\n",
    "\n",
    "ax1.hist(sample1,bins=20)\n",
    "ax1.set_title('n=10')\n",
    "\n",
    "ax2.hist(sample2,bins=20)\n",
    "ax2.set_title('n=50')\n",
    "\n",
    "ax3.hist(sample3,bins=20)\n",
    "ax3.set_title('n=500')\n",
    "\n",
    "ax4.hist(sample4,bins=20)\n",
    "ax4.set_title('n=5000')\n",
    "\n",
    "plt.show()"
   ]
  },
  {
   "cell_type": "markdown",
   "metadata": {},
   "source": [
    "#### Compare the distributions above. What do you observe? Explain with the Central Limit Theorem."
   ]
  },
  {
   "cell_type": "code",
   "execution_count": 23,
   "metadata": {},
   "outputs": [
    {
     "data": {
      "text/plain": [
       "\"\\nyour comments here\\n#if you increase the sample the distribution tend to be more normally distributed.\\n#Central Limit Theorem is clearly represented here in the fact that as the sample size gets larger, regardless of the population's distribution, it is approximating to a normal distribution\\n\""
      ]
     },
     "execution_count": 23,
     "metadata": {},
     "output_type": "execute_result"
    }
   ],
   "source": [
    "\"\"\"\n",
    "your comments here\n",
    "#if you increase the sample the distribution tend to be more normally distributed.\n",
    "#Central Limit Theorem is clearly represented here in the fact that as the sample size gets larger, regardless of the population's distribution, it is approximating to a normal distribution\n",
    "\"\"\""
   ]
  },
  {
   "cell_type": "markdown",
   "metadata": {},
   "source": [
    "#### Bonus: Plot normal distributions.\n",
    "\n",
    "Even though you still don't know how to use matplotlib, as a bonus challenge, you can try to reproduce the plot above using the samples you have created. This plotting library will be introduced later this week, so don't worry if you don't manage to get the results you want now: you can always come back to solve this challenge later."
   ]
  },
  {
   "cell_type": "code",
   "execution_count": 24,
   "metadata": {},
   "outputs": [
    {
     "data": {
      "image/png": "[encoded data removed]",
      "text/plain": [
       "<Figure size 432x288 with 1 Axes>"
      ]
     },
     "metadata": {
      "needs_background": "light"
     },
     "output_type": "display_data"
    }
   ],
   "source": [
    "# your code here\n",
    "sample4.sort()\n",
    "mean_s4 = statistics.mean(sample4)\n",
    "std_s4 = statistics.stdev(sample4)\n",
    "plt.plot(sample4, stats.norm.pdf(sample4, mean, standard_devaition))\n",
    "plt.show()"
   ]
  },
  {
   "cell_type": "markdown",
   "metadata": {},
   "source": [
    "# Challenge 2 - Plot Probability Mass Function (PMF)"
   ]
  },
  {
   "cell_type": "markdown",
   "metadata": {},
   "source": [
    "### Background knowledge\n",
    "\n",
    "[PMF](https://en.wikipedia.org/wiki/Probability_mass_function) shows the probability distribution of a **discrete random variable**. A [discrete random variable](https://en.wikipedia.org/wiki/Random_variable#Discrete_random_variable) has random numeric values that are not continuous. For example, the number of people in a household can only be integers but not floats. Therefore the number of people in a household is a discrete variable.\n",
    "\n",
    "### Challenge\n",
    "\n",
    "We assume that the probability of clicking an advertisement in a Youtube video is 0.15. We have a sample of 5 people who watched the video and we want to plot the PMF for a binomial distribution.\n",
    "\n",
    "#### Step 1: Create the binomial distribution mentioned above. Store the result in a variable called `dist`. \n",
    "**Hint**: use binom from `scipy.stats.binom`. This object takes *n* and *p* as shape parameters, where *n* is the number of independent experiments and *p* the probability of success of the experiment."
   ]
  },
  {
   "cell_type": "code",
   "execution_count": 25,
   "metadata": {},
   "outputs": [],
   "source": [
    "# your code here\n",
    "n=5\n",
    "p=0.15\n",
    "dist= stats.binom(n=5, p=0.15)"
   ]
  },
  {
   "cell_type": "markdown",
   "metadata": {},
   "source": [
    "#### Step 2: Plot the PMF of the distribution. \n",
    "To do it, run the code in the cell below. \n",
    "\n",
    "**Hint**: Your output should look like the one below:\n",
    "\n",
    "![binom 10](../images/ch-2.png)"
   ]
  },
  {
   "cell_type": "code",
   "execution_count": 26,
   "metadata": {},
   "outputs": [
    {
     "data": {
      "image/png": "[encoded data removed]",
      "text/plain": [
       "<Figure size 432x288 with 1 Axes>"
      ]
     },
     "metadata": {
      "needs_background": "light"
     },
     "output_type": "display_data"
    }
   ],
   "source": [
    "# run this code\n",
    "x = range(n)\n",
    "\n",
    "fig, ax = plt.subplots(1, 1)\n",
    "\n",
    "plt.plot(x, dist.pmf(x))\n",
    "\n",
    "plt.show()"
   ]
  },
  {
   "cell_type": "markdown",
   "metadata": {},
   "source": [
    "#### Step 3: Explain what you observe from the plot above."
   ]
  },
  {
   "cell_type": "code",
   "execution_count": 27,
   "metadata": {},
   "outputs": [
    {
     "data": {
      "text/plain": [
       "'\\nyour comments here\\n#probility to click decreases as the number increasing, no clear relation\\n'"
      ]
     },
     "execution_count": 27,
     "metadata": {},
     "output_type": "execute_result"
    }
   ],
   "source": [
    "\"\"\"\n",
    "your comments here\n",
    "#probility to click decreases as the number increasing, no clear relation\n",
    "\"\"\""
   ]
  },
  {
   "cell_type": "markdown",
   "metadata": {},
   "source": [
    "#### Step 4: Now plot PMF with 50, 500, and 5000 visitors.\n",
    "To plot the PMF, you can copy the code given above and replace variable `dist` for the name of the variables where you have stored the new binomial objects for 50, 500 and 5000 visitors."
   ]
  },
  {
   "cell_type": "code",
   "execution_count": 28,
   "metadata": {},
   "outputs": [
    {
     "name": "stderr",
     "output_type": "stream",
     "text": [
      "/Users/abdulrahmanalabdali/opt/anaconda3/lib/python3.9/site-packages/scipy/stats/_discrete_distns.py:67: RuntimeWarning: divide by zero encountered in _binom_pdf\n",
      "  return _boost._binom_pdf(x, n, p)\n"
     ]
    },
    {
     "data": {
      "text/plain": [
       "Text(0.5, 1.0, 'n=5000')"
      ]
     },
     "execution_count": 28,
     "metadata": {},
     "output_type": "execute_result"
    },
    {
     "data": {
      "image/png": "[encoded data removed]",
      "text/plain": [
       "<Figure size 1152x360 with 4 Axes>"
      ]
     },
     "metadata": {
      "needs_background": "light"
     },
     "output_type": "display_data"
    }
   ],
   "source": [
    "# your code here\n",
    "n1, n2, n3, n4 = 5, 50, 500, 5000\n",
    "dist1=stats.binom(n=n1, p=0.15)\n",
    "dist2=stats.binom(n=n2, p=0.15)\n",
    "dist3=stats.binom(n=n3, p=0.15)\n",
    "dist4=stats.binom(n=n4, p=0.15)\n",
    "\n",
    "x1, x2, x3, x4 = range(n1), range(n2), range(n3), range(n4)\n",
    "\n",
    "fig, [ax1, ax2,ax3, ax4] = plt.subplots(1, 4)\n",
    "\n",
    "fig.set_figheight(5)\n",
    "fig.set_figwidth(16)\n",
    "\n",
    "ax1.plot(x1, dist1.pmf(x1))\n",
    "ax1.set_title('n=5')\n",
    "\n",
    "ax2.plot(x2, dist2.pmf(x2))\n",
    "ax2.set_title('n=50')\n",
    "\n",
    "ax3.plot(x3, dist3.pmf(x3))\n",
    "ax3.set_title('n=500')\n",
    "\n",
    "ax4.plot(x4, dist4.pmf(x4))\n",
    "ax4.set_title('n=5000')"
   ]
  },
  {
   "cell_type": "markdown",
   "metadata": {},
   "source": [
    "#### Step 5: What did you notice from the distribution plots? Comment your findings."
   ]
  },
  {
   "cell_type": "code",
   "execution_count": 30,
   "metadata": {},
   "outputs": [
    {
     "data": {
      "text/plain": [
       "'\\nyour comments here\\nAs the sample increases, the number of people clicking decreases\\n'"
      ]
     },
     "execution_count": 30,
     "metadata": {},
     "output_type": "execute_result"
    }
   ],
   "source": [
    "\"\"\"\n",
    "your comments here\n",
    "As the sample increases, the number of people clicking decreases\n",
    "\"\"\""
   ]
  },
  {
   "cell_type": "markdown",
   "metadata": {},
   "source": [
    "# Challenge 3\n",
    "#### Step 1: Research the Poisson distribution. Write about your own understanding of the Poisson distribution."
   ]
  },
  {
   "cell_type": "code",
   "execution_count": 31,
   "metadata": {},
   "outputs": [
    {
     "data": {
      "text/plain": [
       "'\\nyour comments here\\nA Poisson distribution is a discrete probability distribution. It gives the probability of an event happening a certain number of times (k) within a given interval of time or space. The Poisson distribution has only one parameter, λ (lambda), which is the mean number of events.\\n'"
      ]
     },
     "execution_count": 31,
     "metadata": {},
     "output_type": "execute_result"
    }
   ],
   "source": [
    "\"\"\"\n",
    "your comments here\n",
    "A Poisson distribution is a discrete probability distribution. It gives the probability of an event happening a certain number of times (k) within a given interval of time or space. The Poisson distribution has only one parameter, λ (lambda), which is the mean number of events.\n",
    "\"\"\""
   ]
  },
  {
   "cell_type": "markdown",
   "metadata": {},
   "source": [
    "#### Step 2: A website has an average of 300 visits per day. What is the probability of getting 320 visitors in a day?\n",
    "\n",
    "**Hint**: use `scipy.stats.poisson.pmf`."
   ]
  },
  {
   "cell_type": "code",
   "execution_count": 33,
   "metadata": {},
   "outputs": [
    {
     "data": {
      "text/plain": [
       "0.011612348610402475"
      ]
     },
     "execution_count": 33,
     "metadata": {},
     "output_type": "execute_result"
    }
   ],
   "source": [
    "# your code here\n",
    "n = 320\n",
    "mu =300\n",
    "stats.poisson.pmf(n,mu)"
   ]
  },
  {
   "cell_type": "markdown",
   "metadata": {},
   "source": [
    "#### Step 3: What is the probability of getting 60 visits?"
   ]
  },
  {
   "cell_type": "code",
   "execution_count": 34,
   "metadata": {},
   "outputs": [
    {
     "data": {
      "text/plain": [
       "2.622743762294515e-64"
      ]
     },
     "execution_count": 34,
     "metadata": {},
     "output_type": "execute_result"
    }
   ],
   "source": [
    "# your code here\n",
    "n = 60\n",
    "mu =300\n",
    "stats.poisson.pmf(n,mu)"
   ]
  },
  {
   "cell_type": "markdown",
   "metadata": {},
   "source": [
    "#### Step 4: Create a list to store the Poisson distribution probabilities for 0 to 1000 visitors. Store your list in a variable called `arr`."
   ]
  },
  {
   "cell_type": "code",
   "execution_count": 35,
   "metadata": {},
   "outputs": [],
   "source": [
    "# your code here\n",
    "arr = []\n",
    "mu = 300\n",
    "for num in range(1001):\n",
    "    arr.append(stats.poisson.pmf(num,mu))"
   ]
  },
  {
   "cell_type": "markdown",
   "metadata": {},
   "source": [
    "#### Step 5: Plot the probabilities.\n",
    "To do it, run the code in the cell below. Your plot should look like the one below:\n",
    "\n",
    "![poisson distribution](../images/ch-3.png)"
   ]
  },
  {
   "cell_type": "code",
   "execution_count": 36,
   "metadata": {},
   "outputs": [
    {
     "data": {
      "image/png": "[encoded data removed]",
      "text/plain": [
       "<Figure size 432x288 with 1 Axes>"
      ]
     },
     "metadata": {
      "needs_background": "light"
     },
     "output_type": "display_data"
    }
   ],
   "source": [
    "# run this code\n",
    "plt.plot(arr)\n",
    "plt.show()"
   ]
  },
  {
   "cell_type": "markdown",
   "metadata": {},
   "source": [
    "# Challenge 4 - Central Limit Theorem\n",
    "\n",
    "A delivery company needs 35 minutes to deliver a package, with a standard deviation of 8 minutes. Suppose that in one day, they deliver 200 packages.\n",
    "\n",
    "**Hint**: `stats.norm.cdf` can help you find the answers.\n",
    "\n",
    "#### Step 1: What is the probability that the mean delivery time today is between 30 and 35 minutes?"
   ]
  },
  {
   "cell_type": "code",
   "execution_count": 37,
   "metadata": {},
   "outputs": [
    {
     "data": {
      "text/plain": [
       "0.23401447095129946"
      ]
     },
     "execution_count": 37,
     "metadata": {},
     "output_type": "execute_result"
    }
   ],
   "source": [
    "# your code here\n",
    "mean = 35 \n",
    "stdev = 8\n",
    "n = 200\n",
    "stats.norm.cdf(35, loc=mean, scale=stdev) - stats.norm.cdf(30, loc=mean, scale=stdev)"
   ]
  },
  {
   "cell_type": "markdown",
   "metadata": {},
   "source": [
    "#### Step 2: What is the probability that in total, it takes more than 115 hours to deliver all 200 packages?"
   ]
  },
  {
   "cell_type": "code",
   "execution_count": 41,
   "metadata": {},
   "outputs": [
    {
     "data": {
      "text/plain": [
       "0.0"
      ]
     },
     "execution_count": 41,
     "metadata": {},
     "output_type": "execute_result"
    }
   ],
   "source": [
    "# your code here\n",
    "mean = 35 \n",
    "stdev = 8\n",
    "n = 200\n",
    "stats.norm.cdf(6900, loc=mean, scale=stdev) - stats.norm.cdf(6900, loc=mean, scale=stdev)"
   ]
  },
  {
   "cell_type": "code",
   "execution_count": 43,
   "metadata": {},
   "outputs": [
    {
     "data": {
      "text/plain": [
       "34.5"
      ]
     },
     "execution_count": 43,
     "metadata": {},
     "output_type": "execute_result"
    }
   ],
   "source": [
    "x=115*60/200\n",
    "x"
   ]
  },
  {
   "cell_type": "markdown",
   "metadata": {},
   "source": [
    "# Challenge 5 - Normal Variables\n",
    "The value (in thousands) of the monthly sales of a publishing company follows a normal distribution with a mean equal to 200 and a standard deviation equal to 40.\n",
    "\n",
    "<div align=\"center\">$X → N(200,40)$</div>\n",
    "\n",
    "**Hint**: `stats.norm.cdf` can help you find the answers.\n",
    "\n",
    "#### Step 1: Find the probability that the monthly sales are more than 300."
   ]
  },
  {
   "cell_type": "code",
   "execution_count": 44,
   "metadata": {},
   "outputs": [
    {
     "data": {
      "text/plain": [
       "0.006209665325776159"
      ]
     },
     "execution_count": 44,
     "metadata": {},
     "output_type": "execute_result"
    }
   ],
   "source": [
    "# your code here\n",
    "1-stats.norm.cdf(300, loc=200, scale=40)"
   ]
  },
  {
   "cell_type": "markdown",
   "metadata": {},
   "source": [
    "#### Step 2: Find the probability that the monthly sales fall between 160 and 240."
   ]
  },
  {
   "cell_type": "code",
   "execution_count": 45,
   "metadata": {},
   "outputs": [
    {
     "data": {
      "text/plain": [
       "0.6826894921370859"
      ]
     },
     "execution_count": 45,
     "metadata": {},
     "output_type": "execute_result"
    }
   ],
   "source": [
    "# your code here\n",
    "stats.norm.cdf(240, loc=200, scale=40)-stats.norm.cdf(160, loc=200, scale=40)"
   ]
  },
  {
   "cell_type": "markdown",
   "metadata": {},
   "source": [
    "#### Step 3: Find the probability that the monthly sales do not exceed 150."
   ]
  },
  {
   "cell_type": "code",
   "execution_count": 46,
   "metadata": {},
   "outputs": [
    {
     "data": {
      "text/plain": [
       "0.10564977366685535"
      ]
     },
     "execution_count": 46,
     "metadata": {},
     "output_type": "execute_result"
    }
   ],
   "source": [
    "# your code here\n",
    "stats.norm.cdf(150, loc=200, scale=40)"
   ]
  },
  {
   "cell_type": "markdown",
   "metadata": {},
   "source": [
    "#### Step 4: Find the probability that the monthly sales exceed 3000."
   ]
  },
  {
   "cell_type": "code",
   "execution_count": 49,
   "metadata": {},
   "outputs": [
    {
     "data": {
      "text/plain": [
       "1.0"
      ]
     },
     "execution_count": 49,
     "metadata": {},
     "output_type": "execute_result"
    }
   ],
   "source": [
    "# your code here\n",
    "stats.norm.cdf(3000, loc=200, scale=40)"
   ]
  },
  {
   "cell_type": "markdown",
   "metadata": {},
   "source": [
    "# Challenge 6 - Poisson distribution\n",
    "The mean number of violent robberies per month that are registered in a particular barrio is 4.\n",
    "\n",
    "**Hint**: `stats.poisson.cdf` can help you find the answers.\n",
    "\n",
    "#### Step 1: Find the probability that in a particular month there is no violent robbery."
   ]
  },
  {
   "cell_type": "code",
   "execution_count": 50,
   "metadata": {},
   "outputs": [
    {
     "data": {
      "text/plain": [
       "0.018315638888734182"
      ]
     },
     "execution_count": 50,
     "metadata": {},
     "output_type": "execute_result"
    }
   ],
   "source": [
    "# your code here\n",
    "stats.poisson.cdf(0,4)"
   ]
  },
  {
   "cell_type": "markdown",
   "metadata": {},
   "source": [
    "#### Step 2: Find the probability that there are at least 1 robbery in a given month."
   ]
  },
  {
   "cell_type": "code",
   "execution_count": 51,
   "metadata": {},
   "outputs": [
    {
     "data": {
      "text/plain": [
       "0.9084218055563291"
      ]
     },
     "execution_count": 51,
     "metadata": {},
     "output_type": "execute_result"
    }
   ],
   "source": [
    "# your code here\n",
    "1-stats.poisson.cdf(1,4)"
   ]
  },
  {
   "cell_type": "markdown",
   "metadata": {},
   "source": [
    "#### Step 3: Find the probability that there are between 2 and 6 (inclusive) robberies in a given month."
   ]
  },
  {
   "cell_type": "code",
   "execution_count": 52,
   "metadata": {},
   "outputs": [
    {
     "data": {
      "text/plain": [
       "0.6512227160438819"
      ]
     },
     "execution_count": 52,
     "metadata": {},
     "output_type": "execute_result"
    }
   ],
   "source": [
    "# your code here\n",
    "stats.poisson.cdf(6,4)-stats.poisson.cdf(2,4)"
   ]
  },
  {
   "cell_type": "markdown",
   "metadata": {},
   "source": [
    "#### Step 4: Find the probability that there are more than 2 robberies in 15 days."
   ]
  },
  {
   "cell_type": "code",
   "execution_count": 53,
   "metadata": {},
   "outputs": [
    {
     "data": {
      "text/plain": [
       "0.6288369351798734"
      ]
     },
     "execution_count": 53,
     "metadata": {},
     "output_type": "execute_result"
    }
   ],
   "source": [
    "# your code here\n",
    "stats.poisson.cdf(4,4)"
   ]
  }
 ],
 "metadata": {
  "anaconda-cloud": {},
  "kernelspec": {
   "display_name": "Python 3 (ipykernel)",
   "language": "python",
   "name": "python3"
  },
  "language_info": {
   "codemirror_mode": {
    "name": "ipython",
    "version": 3
   },
   "file_extension": ".py",
   "mimetype": "text/x-python",
   "name": "python",
   "nbconvert_exporter": "python",
   "pygments_lexer": "ipython3",
   "version": "3.9.12"
  }
 },
 "nbformat": 4,
 "nbformat_minor": 1
}
